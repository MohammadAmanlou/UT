{
 "cells": [
  {
   "cell_type": "code",
   "execution_count": 1,
   "metadata": {},
   "outputs": [],
   "source": [
    "import csv\n",
    "import hazm as h\n",
    "import pandas as pd"
   ]
  },
  {
   "cell_type": "code",
   "execution_count": 2,
   "metadata": {},
   "outputs": [],
   "source": [
    "normalizer = h.Normalizer()\n",
    "stemmer = h.Stemmer()\n",
    "tokenizer = h.WordTokenizer()\n",
    "lemmatizer=h.Lemmatizer()"
   ]
  },
  {
   "cell_type": "code",
   "execution_count": 12,
   "metadata": {},
   "outputs": [
    {
     "name": "stdout",
     "output_type": "stream",
     "text": [
      "<class 'pandas.core.frame.DataFrame'>\n",
      "RangeIndex: 2550 entries, 0 to 2549\n",
      "Data columns (total 3 columns):\n",
      " #   Column       Non-Null Count  Dtype \n",
      "---  ------       --------------  ----- \n",
      " 0   title        2550 non-null   object\n",
      " 1   description  2550 non-null   object\n",
      " 2   categories   2550 non-null   object\n",
      "dtypes: object(3)\n",
      "memory usage: 59.9+ KB\n",
      "<class 'pandas.core.frame.DataFrame'>\n",
      "RangeIndex: 450 entries, 0 to 449\n",
      "Data columns (total 3 columns):\n",
      " #   Column       Non-Null Count  Dtype \n",
      "---  ------       --------------  ----- \n",
      " 0   title        450 non-null    object\n",
      " 1   description  450 non-null    object\n",
      " 2   categories   450 non-null    object\n",
      "dtypes: object(3)\n",
      "memory usage: 10.7+ KB\n"
     ]
    }
   ],
   "source": [
    "df=pd.read_csv('books_train.csv')\n",
    "df2=pd.read_csv('books_test.csv')\n",
    "df3=pd.read_csv('sw.csv')\n",
    "stop_words=df3.values.tolist()\n"
   ]
  },
  {
   "cell_type": "code",
   "execution_count": 4,
   "metadata": {},
   "outputs": [],
   "source": [
    "\n",
    "import string\n",
    "\n",
    "\n",
    "def delete_digit_and_punctuation(input):\n",
    "    output=[]\n",
    "    punctuations = ['»','،','«',' ،', '، ',')','(','؛','-']\n",
    "    for i in range(len(input)) :\n",
    "        input[i] = lemmatizer.lemmatize(input[i])\n",
    "        if ((input[i].isdigit()) or (input[i] in punctuations) or (input[i]in stop_words)) == False:\n",
    "            output.append(input[i])\n",
    "    return output\n",
    "\n",
    "def virayesh(input):\n",
    "    input = normalizer.remove_specials_chars(input)\n",
    "    finalinput= tokenizer.tokenize(input)\n",
    "    finalinput =delete_digit_and_punctuation(finalinput)\n",
    "\n",
    "    return finalinput\n",
    "\n",
    "df['title'] = df['title'].str.translate(str.maketrans('', '', string.punctuation))\n",
    "df['title']=df['title'].apply(virayesh)\n",
    "df['description']=df['description'].apply(virayesh)\n",
    "\n",
    "df2['title'] = df2['title'].str.translate(str.maketrans('', '', string.punctuation))\n",
    "df2['title']=df2['title'].apply(virayesh)\n",
    "df2['description']=df2['description'].apply(virayesh)\n"
   ]
  },
  {
   "cell_type": "code",
   "execution_count": 5,
   "metadata": {},
   "outputs": [
    {
     "data": {
      "text/html": [
       "<div>\n",
       "<style scoped>\n",
       "    .dataframe tbody tr th:only-of-type {\n",
       "        vertical-align: middle;\n",
       "    }\n",
       "\n",
       "    .dataframe tbody tr th {\n",
       "        vertical-align: top;\n",
       "    }\n",
       "\n",
       "    .dataframe thead th {\n",
       "        text-align: right;\n",
       "    }\n",
       "</style>\n",
       "<table border=\"1\" class=\"dataframe\">\n",
       "  <thead>\n",
       "    <tr style=\"text-align: right;\">\n",
       "      <th></th>\n",
       "      <th>title</th>\n",
       "      <th>description</th>\n",
       "      <th>categories</th>\n",
       "    </tr>\n",
       "  </thead>\n",
       "  <tbody>\n",
       "    <tr>\n",
       "      <th>0</th>\n",
       "      <td>[ساختار, نظریه, جامعه‌شناس, ایران]</td>\n",
       "      <td>[ساختار, نظریه, جامعه‌شناس, ایران, نوشته, ابوا...</td>\n",
       "      <td>جامعه‌شناسی</td>\n",
       "    </tr>\n",
       "    <tr>\n",
       "      <th>1</th>\n",
       "      <td>[جامعه, و, فرهنگ, کانادا]</td>\n",
       "      <td>[جامعه, و, فرهنگ, کانادا, از, مجموعه, کتاب, جا...</td>\n",
       "      <td>جامعه‌شناسی</td>\n",
       "    </tr>\n",
       "    <tr>\n",
       "      <th>2</th>\n",
       "      <td>[پرسش, از, موعود]</td>\n",
       "      <td>[پرسش, مختلف, درباره, زندگی, و, شخصیت, امام, م...</td>\n",
       "      <td>کلیات اسلام</td>\n",
       "    </tr>\n",
       "    <tr>\n",
       "      <th>3</th>\n",
       "      <td>[موج, دریا]</td>\n",
       "      <td>[موج, دریا, به, قلم, مهر, ماهوت, و, تصویرگر, ع...</td>\n",
       "      <td>داستان کودک و نوجوانان</td>\n",
       "    </tr>\n",
       "    <tr>\n",
       "      <th>4</th>\n",
       "      <td>[پرسش, از, غرب]</td>\n",
       "      <td>[پرسش, از, غرب, به, قلم, دکتر, اسماعیل, شفیع, ...</td>\n",
       "      <td>جامعه‌شناسی</td>\n",
       "    </tr>\n",
       "    <tr>\n",
       "      <th>...</th>\n",
       "      <td>...</td>\n",
       "      <td>...</td>\n",
       "      <td>...</td>\n",
       "    </tr>\n",
       "    <tr>\n",
       "      <th>2545</th>\n",
       "      <td>[قضاوت‌‏های, امیرمؤمنان, حضرت, علی, علیه‏‌السلام]</td>\n",
       "      <td>[آنچه, به, عنوان, قضاوت, امیرمؤمنان, حضرت, علی...</td>\n",
       "      <td>کلیات اسلام</td>\n",
       "    </tr>\n",
       "    <tr>\n",
       "      <th>2546</th>\n",
       "      <td>[کرامات, از, مهدی, موعودعج]</td>\n",
       "      <td>[زینب, محمود, پژوهشگر, دین, #است, ., \\r, در, ب...</td>\n",
       "      <td>کلیات اسلام</td>\n",
       "    </tr>\n",
       "    <tr>\n",
       "      <th>2547</th>\n",
       "      <td>[انتقام, انتقام, انتقام]</td>\n",
       "      <td>[انتقام, انتقام, انتقام, داستان‌گونه‌ای, با, ز...</td>\n",
       "      <td>داستان کوتاه</td>\n",
       "    </tr>\n",
       "    <tr>\n",
       "      <th>2548</th>\n",
       "      <td>[آن, مرد, آمد#آ]</td>\n",
       "      <td>[آن, مرد, آمد#آ, به, قلم, سیده‌فاطمه, موسوی, و...</td>\n",
       "      <td>داستان کودک و نوجوانان</td>\n",
       "    </tr>\n",
       "    <tr>\n",
       "      <th>2549</th>\n",
       "      <td>[امید, فردا, پاسخ, به, پرسش, جوان, درباره, اما...</td>\n",
       "      <td>[عباس, رحیم, پژوهشگر, دین, #است, ., \\r, در, بخ...</td>\n",
       "      <td>کلیات اسلام</td>\n",
       "    </tr>\n",
       "  </tbody>\n",
       "</table>\n",
       "<p>2550 rows × 3 columns</p>\n",
       "</div>"
      ],
      "text/plain": [
       "                                                  title  \\\n",
       "0                    [ساختار, نظریه, جامعه‌شناس, ایران]   \n",
       "1                             [جامعه, و, فرهنگ, کانادا]   \n",
       "2                                     [پرسش, از, موعود]   \n",
       "3                                           [موج, دریا]   \n",
       "4                                       [پرسش, از, غرب]   \n",
       "...                                                 ...   \n",
       "2545  [قضاوت‌‏های, امیرمؤمنان, حضرت, علی, علیه‏‌السلام]   \n",
       "2546                        [کرامات, از, مهدی, موعودعج]   \n",
       "2547                           [انتقام, انتقام, انتقام]   \n",
       "2548                                   [آن, مرد, آمد#آ]   \n",
       "2549  [امید, فردا, پاسخ, به, پرسش, جوان, درباره, اما...   \n",
       "\n",
       "                                            description  \\\n",
       "0     [ساختار, نظریه, جامعه‌شناس, ایران, نوشته, ابوا...   \n",
       "1     [جامعه, و, فرهنگ, کانادا, از, مجموعه, کتاب, جا...   \n",
       "2     [پرسش, مختلف, درباره, زندگی, و, شخصیت, امام, م...   \n",
       "3     [موج, دریا, به, قلم, مهر, ماهوت, و, تصویرگر, ع...   \n",
       "4     [پرسش, از, غرب, به, قلم, دکتر, اسماعیل, شفیع, ...   \n",
       "...                                                 ...   \n",
       "2545  [آنچه, به, عنوان, قضاوت, امیرمؤمنان, حضرت, علی...   \n",
       "2546  [زینب, محمود, پژوهشگر, دین, #است, ., \\r, در, ب...   \n",
       "2547  [انتقام, انتقام, انتقام, داستان‌گونه‌ای, با, ز...   \n",
       "2548  [آن, مرد, آمد#آ, به, قلم, سیده‌فاطمه, موسوی, و...   \n",
       "2549  [عباس, رحیم, پژوهشگر, دین, #است, ., \\r, در, بخ...   \n",
       "\n",
       "                  categories  \n",
       "0                جامعه‌شناسی  \n",
       "1                جامعه‌شناسی  \n",
       "2                کلیات اسلام  \n",
       "3     داستان کودک و نوجوانان  \n",
       "4                جامعه‌شناسی  \n",
       "...                      ...  \n",
       "2545             کلیات اسلام  \n",
       "2546             کلیات اسلام  \n",
       "2547            داستان کوتاه  \n",
       "2548  داستان کودک و نوجوانان  \n",
       "2549             کلیات اسلام  \n",
       "\n",
       "[2550 rows x 3 columns]"
      ]
     },
     "execution_count": 5,
     "metadata": {},
     "output_type": "execute_result"
    }
   ],
   "source": [
    "df"
   ]
  },
  {
   "cell_type": "code",
   "execution_count": 6,
   "metadata": {},
   "outputs": [],
   "source": [
    "Bow={'داستان کوتاه':{} ,'مدیریت و کسب و کار':{},'رمان':{},'کلیات اسلام':{},'داستان کودک و نوجوانان':{},'جامعه‌شناسی':{}}\n",
    "Totall=[]\n",
    "for i in df.index:\n",
    "    cat =  df['categories'][i]\n",
    "    for word in df['description'][i]:\n",
    "        if word in Bow[cat]:\n",
    "            Bow[cat][word]+=1\n",
    "          #  Totall[cat]+=1\n",
    "        else :\n",
    "            Bow[cat][word] = 1 \n",
    "           # Totall[cat]+=1\n",
    "\n",
    "\n",
    "for i in df.index:\n",
    "    cat =  df['categories'][i]\n",
    "    for word in df['title'][i]:\n",
    "        if word in Bow[cat]:\n",
    "           # Totall[cat]+=1\n",
    "            Bow[cat][word]+=1\n",
    "        else :\n",
    "            #Totall[cat]+=1\n",
    "            Bow[cat][word] = 1 \n",
    "    \n"
   ]
  },
  {
   "cell_type": "code",
   "execution_count": 7,
   "metadata": {},
   "outputs": [],
   "source": [
    "\n",
    "for c in Bow :\n",
    "    count = 0\n",
    "    for w in Bow[c] : \n",
    "        count += Bow[c][w]\n",
    "    for w in Bow[c] : \n",
    "        Bow[c][w] = Bow[c][w]/count\n",
    "\n"
   ]
  },
  {
   "cell_type": "code",
   "execution_count": 8,
   "metadata": {},
   "outputs": [],
   "source": [
    "import math\n",
    "categories = list(df2[\"categories\"].unique())\n",
    "df2[\"predicted_cat\"] = -1\n",
    "for i in df2.iterrows():\n",
    "    probs = []\n",
    "    for cat in categories:\n",
    "        prob = 1\n",
    "        for w in i[1][\"title\"]:\n",
    "            p = 0\n",
    "            if(w in Bow[cat]):\n",
    "                p = Bow[cat][w]\n",
    "            if (p == 0):\n",
    "               p = 1 / 200000\n",
    "            prob +=  math.log(p)\n",
    "        for d in i[1][\"description\"]:\n",
    "            p = 0\n",
    "            if(d in Bow[cat]):\n",
    "                p = Bow[cat][d]\n",
    "            if (p == 0):\n",
    "               p = 1 / 200000\n",
    "            prob += math.log(p)\n",
    "        probs.append(prob)\n",
    "    index = probs.index(max(probs))\n",
    "    df2.loc[i[0] , [\"predicted_cat\"]] = index\n",
    "            \n"
   ]
  },
  {
   "cell_type": "code",
   "execution_count": 9,
   "metadata": {},
   "outputs": [],
   "source": [
    "l = df2[\"categories\"].to_list()\n",
    "for i in range(len(l)):\n",
    "    l[i] = categories.index(l[i])\n",
    "df2[\"categories\"] = l"
   ]
  },
  {
   "cell_type": "code",
   "execution_count": 10,
   "metadata": {},
   "outputs": [
    {
     "data": {
      "text/plain": [
       "0.8155555555555556"
      ]
     },
     "execution_count": 10,
     "metadata": {},
     "output_type": "execute_result"
    }
   ],
   "source": [
    "len(df2[df2[\"categories\"] == df2[\"predicted_cat\"]])/450"
   ]
  }
 ],
 "metadata": {
  "kernelspec": {
   "display_name": "Python 3",
   "language": "python",
   "name": "python3"
  },
  "language_info": {
   "codemirror_mode": {
    "name": "ipython",
    "version": 3
   },
   "file_extension": ".py",
   "mimetype": "text/x-python",
   "name": "python",
   "nbconvert_exporter": "python",
   "pygments_lexer": "ipython3",
   "version": "3.10.12"
  }
 },
 "nbformat": 4,
 "nbformat_minor": 2
}
