{
  "nbformat": 4,
  "nbformat_minor": 0,
  "metadata": {
    "colab": {
      "provenance": []
    },
    "kernelspec": {
      "name": "python3",
      "display_name": "Python 3"
    },
    "language_info": {
      "name": "python"
    }
  },
  "cells": [
    {
      "cell_type": "code",
      "execution_count": null,
      "metadata": {
        "id": "BZ6l2ZJwMm0E",
        "colab": {
          "base_uri": "https://localhost:8080/"
        },
        "outputId": "935b23eb-b136-4067-c05f-64f5bda8fed1"
      },
      "outputs": [
        {
          "output_type": "stream",
          "name": "stdout",
          "text": [
            "Looking in indexes: https://pypi.org/simple, https://us-python.pkg.dev/colab-wheels/public/simple/\n",
            "Collecting rpy2==3.5.1\n",
            "  Downloading rpy2-3.5.1.tar.gz (201 kB)\n",
            "\u001b[K     |████████████████████████████████| 201 kB 7.9 MB/s \n",
            "\u001b[?25hRequirement already satisfied: cffi>=1.10.0 in /usr/local/lib/python3.7/dist-packages (from rpy2==3.5.1) (1.15.1)\n",
            "Requirement already satisfied: jinja2 in /usr/local/lib/python3.7/dist-packages (from rpy2==3.5.1) (2.11.3)\n",
            "Requirement already satisfied: pytz in /usr/local/lib/python3.7/dist-packages (from rpy2==3.5.1) (2022.5)\n",
            "Requirement already satisfied: tzlocal in /usr/local/lib/python3.7/dist-packages (from rpy2==3.5.1) (1.5.1)\n",
            "Requirement already satisfied: typing-extensions in /usr/local/lib/python3.7/dist-packages (from rpy2==3.5.1) (4.1.1)\n",
            "Requirement already satisfied: pycparser in /usr/local/lib/python3.7/dist-packages (from cffi>=1.10.0->rpy2==3.5.1) (2.21)\n",
            "Requirement already satisfied: MarkupSafe>=0.23 in /usr/local/lib/python3.7/dist-packages (from jinja2->rpy2==3.5.1) (2.0.1)\n",
            "Building wheels for collected packages: rpy2\n",
            "  Building wheel for rpy2 (setup.py) ... \u001b[?25l\u001b[?25hdone\n",
            "  Created wheel for rpy2: filename=rpy2-3.5.1-cp37-cp37m-linux_x86_64.whl size=310603 sha256=fa92dbe5bf6c79d5050056f49acb7099bf8c3b3bf93d26b8e62d359bf295e228\n",
            "  Stored in directory: /root/.cache/pip/wheels/65/df/9e/39aa22a3f47ec58751b5bf6907036fbc131d85b6d7cbd3b3fe\n",
            "Successfully built rpy2\n",
            "Installing collected packages: rpy2\n",
            "  Attempting uninstall: rpy2\n",
            "    Found existing installation: rpy2 3.5.5\n",
            "    Uninstalling rpy2-3.5.5:\n",
            "      Successfully uninstalled rpy2-3.5.5\n",
            "Successfully installed rpy2-3.5.1\n"
          ]
        }
      ],
      "source": [
        "!pip install rpy2==3.5.1\n",
        "%load_ext rpy2.ipython"
      ]
    },
    {
      "cell_type": "markdown",
      "metadata": {
        "id": "0xnYepbohl5D"
      },
      "source": [
        "<div dir='rtl'>\n",
        "<h1>1. تعریف حدی احتمال (Probability Definition)</h1>\n",
        "</div>"
      ]
    },
    {
      "cell_type": "markdown",
      "metadata": {
        "id": "Tv6Qew7WBywe"
      },
      "source": [
        "<div dir='rtl'>\n",
        "طبق تعریف حدی احتمال:\n",
        "$$\n",
        "P(A) = \\lim_{n \\to +\\infty} \\frac{n_A}{n}\n",
        "$$\n",
        "قصد داریم صحت این رابطه را بصورت عملی بررسی کنیم.\n",
        "این سنجش فقط به صورت شهودی بوده و موضوعیتی را اثبات نمی‌کند (قابل اتکا نیست)؛\n",
        "اما هدف انجام آزمایش‌های آماری با استفاده از زبان\n",
        "R\n",
        "و آشنایی با این زبان است.\n",
        "</div>"
      ]
    },
    {
      "cell_type": "markdown",
      "metadata": {
        "id": "-RndXix3qGPp"
      },
      "source": [
        "<div dir='rtl'>\n",
        "این مثال را در نظر بگیرید:\n",
        "<br/>\n",
        "یک سکه و یک تاس را می‌اندازیم و می‌خواهیم احتمال این را حساب کنیم که سکه شیر بیاید و تاس هم زوج باشد.\n",
        "</div>"
      ]
    },
    {
      "cell_type": "markdown",
      "metadata": {
        "id": "nVUySo5lI_yB"
      },
      "source": [
        "<div dir='rtl'>\n",
        "می‌دانیم که هر تاس ۶ وجه دارد و همچنین سکه دو حالت شیر یا خط را شامل می‌شود. طبق اصل ضرب، تعداد پیش‌آمد‌های ممکن برای پرتاب سکه و تاس، برابر $6 \\times 2 = 12$ خواهد بود.\n",
        "مجموعه پیش‌آمد‌های مطلوب ما عبارت خواهد بود از:\n",
        "$$\\{(h,2),(h,4),(h,6)\\}$$\n",
        "با فرض عادلانه بودن آزمایش و سالم بودن تاس‌ و سکه، احتمالات رو آمدن هر یک از وجوه یک تاس و شیر یا خط آمدن سکه یکسان هستند. بنابراین، احتمال مشاهده هر یک از زوج مرتب‌های ممکن نیز  یکسان هستند، پس می‌توانیم از تعریف کلاسیک احتمال استفاده کرده و نتیجه بگیریم که احتمال مشاهده نتیجه مطلوب ما برابر\n",
        "$\\frac{3}{12} = 0.25$\n",
        "خواهد بود.\n",
        "</div>"
      ]
    },
    {
      "cell_type": "markdown",
      "metadata": {
        "id": "HueHzYKWLUSN"
      },
      "source": [
        "<div dir='rtl'>\n",
        "حال به تخمین این احتمال، با استفاده از تعریف حدی احتمال می‌پردازیم. در ابتدا نیاز داریم فضای پیشامد این مثال را آماده کنیم:\n",
        "</div>"
      ]
    },
    {
      "cell_type": "code",
      "source": [
        "%%R\n",
        "dice_possible_observations = seq(1, 6)\n",
        "# The above variable represents all possible observations for one dice roll.\n",
        "# Note that `seq(x,y)` returns an array of integers from x to y\n",
        "dice_possible_observations"
      ],
      "metadata": {
        "id": "VO8hzoDVM4gG",
        "colab": {
          "base_uri": "https://localhost:8080/"
        },
        "outputId": "898d5534-2b3a-4c86-f125-93952e61fa93"
      },
      "execution_count": null,
      "outputs": [
        {
          "output_type": "stream",
          "name": "stdout",
          "text": [
            "[1] 1 2 3 4 5 6\n"
          ]
        }
      ]
    },
    {
      "cell_type": "markdown",
      "source": [
        "<a href=\"https://www.rdocumentation.org/packages/base/versions/3.6.2/topics/seq\">Read more about `seq`</a>"
      ],
      "metadata": {
        "id": "sshsA76wxa6U"
      }
    },
    {
      "cell_type": "code",
      "source": [
        "%%R\n",
        "dice_observation_chance_to_appear = rep(1/6, 6)\n",
        "# `rep(x,y)` returns an array with length y, filled with x values.\n",
        "# We will use i-th element of this array as the i-th possible observation\n",
        "# chance to appear.\n",
        "# Normally, each possible side of a dice has similar chance to appear,\n",
        "# thus the array is filled with 1/6.\n",
        "dice_observation_chance_to_appear"
      ],
      "metadata": {
        "id": "1yWEwolg_TtQ",
        "colab": {
          "base_uri": "https://localhost:8080/"
        },
        "outputId": "72ba4d29-d87f-4d95-d1b3-d6946383a317"
      },
      "execution_count": null,
      "outputs": [
        {
          "output_type": "stream",
          "name": "stdout",
          "text": [
            "[1] 0.1666667 0.1666667 0.1666667 0.1666667 0.1666667 0.1666667\n"
          ]
        }
      ]
    },
    {
      "cell_type": "markdown",
      "source": [
        "<a href=\"https://www.rdocumentation.org/packages/base/versions/3.6.2/topics/rep\">Read more about `rep`</a>"
      ],
      "metadata": {
        "id": "AQ1rBmk3yWZA"
      }
    },
    {
      "cell_type": "code",
      "source": [
        "%%R\n",
        "\n",
        "coin_possible_observations = seq(1, 2)\n",
        "# The above variable represents all possible observations for one coin flip.\n",
        "# The coin flip results, head and tail, are mapped to 1 and 2 respectively.\n",
        "coin_possible_observations"
      ],
      "metadata": {
        "id": "WVeg319NVMIv",
        "colab": {
          "base_uri": "https://localhost:8080/"
        },
        "outputId": "7a143cd2-b5a7-41b3-dec1-fcfde6e0fa34"
      },
      "execution_count": null,
      "outputs": [
        {
          "output_type": "stream",
          "name": "stdout",
          "text": [
            "[1] 1 2\n"
          ]
        }
      ]
    },
    {
      "cell_type": "code",
      "source": [
        "%%R\n",
        "coin_observation_chance_to_appear = rep(1/2, 2)\n",
        "coin_observation_chance_to_appear"
      ],
      "metadata": {
        "id": "6W7n3DJfVNpd",
        "colab": {
          "base_uri": "https://localhost:8080/"
        },
        "outputId": "ec3810c2-e002-4112-ab25-d2e854c05dc5"
      },
      "execution_count": null,
      "outputs": [
        {
          "output_type": "stream",
          "name": "stdout",
          "text": [
            "[1] 0.5 0.5\n"
          ]
        }
      ]
    },
    {
      "cell_type": "markdown",
      "metadata": {
        "id": "mtxO7h1_1sU1"
      },
      "source": [
        "<h2 dir='rtl'>\n",
        "نمونه گیری (Sampling)\n",
        "</h2>\n",
        "\n",
        "<div dir='rtl'>\n",
        "روش نمونه‌گیری، فرآیندی است که به کمک آن زیرمجموعه‌ای از جامعه آماری تهیه می‌شود. این کار به منظور شناخت یا برآورد پارامترهای جامعه آماری صورت می‌گیرد. برای انجام نمونه‌گیری در R، از دستور sample استفاده می‌کنیم.<br>\n",
        "برای مطالعه بیشتر به <a href=\"https://www.rdocumentation.org/packages/base/versions/3.6.2/topics/sample\">این</a> لینک مراجعه کنید.\n",
        "</div>"
      ]
    },
    {
      "cell_type": "code",
      "source": [
        "%%R\n",
        "sample(\n",
        "  x = dice_possible_observations,\n",
        "  size = 3,\n",
        "  replace = TRUE,\n",
        "  prob = dice_observation_chance_to_appear\n",
        ")\n",
        "\n",
        "# Above code, will return a single output as a dice observation.\n",
        "# Checkout the result. Rerun it multiple times to get different results."
      ],
      "metadata": {
        "id": "KXWYcAnO_Z7F",
        "colab": {
          "base_uri": "https://localhost:8080/"
        },
        "outputId": "6db1177d-f04d-40f3-95e8-04b010264120"
      },
      "execution_count": null,
      "outputs": [
        {
          "output_type": "stream",
          "name": "stdout",
          "text": [
            "[1] 2 5 2\n"
          ]
        }
      ]
    },
    {
      "cell_type": "code",
      "source": [
        "%%R\n",
        "sample(\n",
        "  x = coin_possible_observations,\n",
        "  size = 3,\n",
        "  replace = TRUE,\n",
        "  prob = coin_observation_chance_to_appear\n",
        ")"
      ],
      "metadata": {
        "id": "SqpBc0abVwID",
        "colab": {
          "base_uri": "https://localhost:8080/"
        },
        "outputId": "b8f98311-fa96-4ae1-f4fa-89c4aef53252"
      },
      "execution_count": null,
      "outputs": [
        {
          "output_type": "stream",
          "name": "stdout",
          "text": [
            "[1] 1 2 1\n"
          ]
        }
      ]
    },
    {
      "cell_type": "code",
      "source": [
        "%%R\n",
        "sample_of_n_dice <- function(n) {\n",
        "  return (\n",
        "      sample(\n",
        "      x = dice_possible_observations,\n",
        "      size = n ,\n",
        "      replace = TRUE,\n",
        "      prob = dice_observation_chance_to_appear\n",
        "      )\n",
        "  )\n",
        "}\n",
        "sample_of_n_dice(3)"
      ],
      "metadata": {
        "id": "7k-r3UlG_cJL",
        "colab": {
          "base_uri": "https://localhost:8080/"
        },
        "outputId": "6f344f14-4b10-4c4d-978d-72852bbc77ed"
      },
      "execution_count": null,
      "outputs": [
        {
          "output_type": "stream",
          "name": "stdout",
          "text": [
            "[1] 6 5 5\n"
          ]
        }
      ]
    },
    {
      "cell_type": "code",
      "source": [
        "%%R\n",
        "sample_of_n_coin <- function(n) {\n",
        "  return(\n",
        "    sample(\n",
        "    x = coin_possible_observations,\n",
        "    size = n,\n",
        "    replace = TRUE,\n",
        "    prob = coin_observation_chance_to_appear\n",
        "    )\n",
        "  )\n",
        "}\n",
        "sample_of_n_coin(3)"
      ],
      "metadata": {
        "id": "Ln_iOIAwdApB",
        "colab": {
          "base_uri": "https://localhost:8080/"
        },
        "outputId": "42468fdf-66ba-423f-8c3a-79da74826360"
      },
      "execution_count": null,
      "outputs": [
        {
          "output_type": "stream",
          "name": "stdout",
          "text": [
            "[1] 2 1 2\n"
          ]
        }
      ]
    },
    {
      "cell_type": "code",
      "source": [
        "%%R\n",
        "# The below function generates a pair of coin flip and dice roll.\n",
        "flip_coin_roll_dice <- function(n) {\n",
        "  return (\n",
        "    list (sample_of_n_coin(n) , sample_of_n_dice(n))\n",
        "  )\n",
        "}\n",
        "flip_coin_roll_dice(2)"
      ],
      "metadata": {
        "id": "jRuCXGIn_dzE",
        "colab": {
          "base_uri": "https://localhost:8080/"
        },
        "outputId": "cbcfd648-8631-44c3-af1f-9ed255d69816"
      },
      "execution_count": null,
      "outputs": [
        {
          "output_type": "stream",
          "name": "stdout",
          "text": [
            "[[1]]\n",
            "[1] 2 2\n",
            "\n",
            "[[2]]\n",
            "[1] 2 6\n",
            "\n"
          ]
        }
      ]
    },
    {
      "cell_type": "markdown",
      "metadata": {
        "id": "ouC80O1KzWHm"
      },
      "source": [
        "<div dir='rtl'>\n",
        "حال در دو بلوک بعدی فرآیند آزمایش را شبیه‌سازی می‌کنیم.\n",
        "</div>"
      ]
    },
    {
      "cell_type": "code",
      "source": [
        "%%R\n",
        "# Now we need to repeat the test and collect our observations.\n",
        "rownames = seq(1,6)\n",
        "colnames = seq(1,2)\n",
        "# We need to record our observations, we can use a matrix for this.\n",
        "# The matrix contains the number of observations for each possible outcome.\n",
        "\n",
        "# Each column represents a possible outcome of one coin flip. 1 means the coin\n",
        "# shows the head side and 2 means it shows the tail side.\n",
        "# Each row represents the output of one dice roll, which ranges from 1 to 6.\n",
        "\n",
        "# For each observation, the respective element of the matrix must be incremented.\n",
        "# For example, if the flip and roll sample resulted in (1,6) the matrix must be\n",
        "# updated as follows:\n",
        "# observations[1, 6] = observations[1, 6]+1 (increment the value stored in the\n",
        "# matrix)\n",
        "\n",
        "observations <- matrix(\n",
        "  0,            # the data elemetns\n",
        "  nrow = 6,     # number of rows\n",
        "  ncol = 2,     # number of columns\n",
        "  byrow = TRUE, # fill matrix by rows\n",
        "  dimnames = list(rownames, colnames)\n",
        ")\n",
        "\n",
        "# Print the matrix\n",
        "observations"
      ],
      "metadata": {
        "id": "iJAGTxcB_fWl",
        "colab": {
          "base_uri": "https://localhost:8080/"
        },
        "outputId": "492e8f3a-8783-4bca-e893-0cfbe642be66"
      },
      "execution_count": null,
      "outputs": [
        {
          "output_type": "stream",
          "name": "stdout",
          "text": [
            "  1 2\n",
            "1 0 0\n",
            "2 0 0\n",
            "3 0 0\n",
            "4 0 0\n",
            "5 0 0\n",
            "6 0 0\n"
          ]
        }
      ]
    },
    {
      "cell_type": "markdown",
      "source": [
        "Important note: Read more about matrices <a href=\"https://www.r-tutor.com/r-introduction/matrix\">here</a>"
      ],
      "metadata": {
        "id": "aNpFfccr1Y3K"
      }
    },
    {
      "cell_type": "code",
      "metadata": {
        "id": "OvrsPC3M2wXw",
        "colab": {
          "base_uri": "https://localhost:8080/"
        },
        "outputId": "01513fcf-6e55-46c9-adb0-8cc438231d92"
      },
      "source": [
        "%%R\n",
        "observations[, 1] = 0\n",
        "observations[, 2] = 0\n",
        "for(i in 1:1000) {\n",
        "  x <- flip_coin_roll_dice(1)\n",
        "  observations[x[[2]][1] , x[[1]][1]] = observations[x[[2]][1] , x[[1]][1]]+1\n",
        "}\n",
        "observations"
      ],
      "execution_count": null,
      "outputs": [
        {
          "output_type": "stream",
          "name": "stdout",
          "text": [
            "   1  2\n",
            "1 87 90\n",
            "2 86 67\n",
            "3 81 78\n",
            "4 83 86\n",
            "5 95 82\n",
            "6 77 88\n"
          ]
        }
      ]
    },
    {
      "cell_type": "code",
      "metadata": {
        "id": "F5yThdgkWlBP",
        "colab": {
          "base_uri": "https://localhost:8080/"
        },
        "outputId": "de56a8ba-b720-4952-af14-7d835141d756"
      },
      "source": [
        "%%R\n",
        "# Now we need to calculate the probability of observation [2,4,6] (even roll)\n",
        "# and [1] (head) based on `observations`:\n",
        "result = (observations[2,1]+observations[4,1]+observations[6,1]) / sum(observations)\n",
        "result"
      ],
      "execution_count": null,
      "outputs": [
        {
          "output_type": "stream",
          "name": "stdout",
          "text": [
            "[1] 0.246\n"
          ]
        }
      ]
    },
    {
      "cell_type": "markdown",
      "metadata": {
        "id": "CzFNvI8WXlMy"
      },
      "source": [
        "<div dir='rtl'>\n",
        "حلقه‌ی اصلی آزمایش را با تعداد تکرار ۱۰۰ و ۱۰۰۰۰۰، برای هر کدام ۳ بار تکرار و مشاهدات خود را مکتوب کنید. این مشاهدات را تحلیل کنید.\n",
        "در این تحلیل، علاوه بر آنچه صلاح می‌دانید، موارد زیر را نیز باید بررسی کنید:\n",
        "<br>\n",
        "<li>\n",
        "با توجه به مقدار واقعی احتمال که در ابتدای این بخش، آن را به صورت تئوری\n",
        "محاسبه کردیم، میزان دقت این آزمایش را با تعداد نمونه ۱۰۰ در برابر تعداد نمونه ۱۰۰۰۰۰ مقایسه شود. دلیل این اختلاف اهمیت دارد.\n",
        "</li>\n",
        "<li>\n",
        "نتایج سه بار تکرار، برای کدام حالت\n",
        "(۱۰۰ بار تکرار یا ۱۰۰۰۰۰ بار تکرار)\n",
        "به هم نزدیک‌تراند؟\n",
        "</li>\n",
        "پاسخ) ۱۰۰۰۰۰ بار تکرار به مقدار محاسبه شده در تئوری نزدیکتر است و دلیل آن این است که هرچه تعداد نمونه‌ها بیشتر شود، واریانس جامعه کوچکتر می‌شود.\n",
        "</div>"
      ]
    },
    {
      "cell_type": "markdown",
      "source": [
        "10000 بار تکرار به  مقدار واقعی نزدیکتر است آن هم به این دلیل است که هر چقدر تعداد انجام یک آزمایش بیشتر میشود مقدار ان به مقدار واقعی احتمال که و تعریف حدی ان نزدیکتر میشود. در واقع عدد n به بی نهایت نزدیکتر میشود\n",
        "سوال دوم ) به دلیل واریانس کمتر جامعه در تعداد زیاد مقادیر محاسبه شده در عدد بزرگتر به هم نزدیکتر تر است"
      ],
      "metadata": {
        "id": "E3wcCybDANil"
      }
    },
    {
      "cell_type": "markdown",
      "metadata": {
        "id": "QqXf4UJ_2X3e"
      },
      "source": [
        "<div dir='rtl'>\n",
        "<font color='yellow'  background-color: blue>\n",
        "توجه) در کد‌های ارائه شده در این بخش، از حلقه for استفاده شده است. باید دقت کنید که به صورت کلی استفاده از حلقه مطلوب نبوده و باید از آن پرهیز شود. در این بخش با هدف آشنایی با زبان R این نکته نادیده گرفته شده است اما از بخش بعد، از استفاده‌‌ی از این حلقه تا جای ممکن پرهیز می‌شود.\n",
        "دلیل این پرهیز آن است که محاسبات آماری و نظیر آن، امکان انجام شدن به صورت ماتریسی و موازی در زبان R (و پایتون) را دارند اما زمانی که از حلقه استفاده شود، این مزیت از دست می‌رود و درنتیجه زمان اجرای برنامه‌ها بسیار زیاد می‌شود. روش‌های جایگزینی که جلوتر با آن‌ها آشنا خواهید شد، استفاده از دیتا‌فریم‌ها و ماتریس‌ها و عملگر‌های مختص به آن‌هاست. استفاده از حلقه‌ها باید فقط زمانی صورت بگیرد که شبیه‌سازی مورد نظر واقعا به زمان وابسته باشد و محاسبات هر گام، به گام قبل نیاز داشته باشد. در بخش بعدی تمرین، اجازه استفاده از حلقه ندارید و باید از یک تابع برای محاسبات تکراری استفاده کنید.\n",
        "</font>\n",
        "</div>"
      ]
    },
    {
      "cell_type": "markdown",
      "source": [
        "<div dir='rtl'>\n",
        "<font color='yellow'>\n",
        "<h1>۲. مسئله روز تولد (Birthday Problem)</h1>\n",
        "</font>\n",
        "</div>"
      ],
      "metadata": {
        "id": "DwEzDYslc8xk"
      }
    },
    {
      "cell_type": "markdown",
      "source": [
        "<div dir='rtl'>\n",
        "\n",
        "همانطور که در درس مطرح شد، مسئله تولد این احتمال را بررسی می‌کند که در مجموعه‌ای از n نفر که به‌طور تصادفی انتخاب شده‌اند، حداقل دو نفر یک تولد مشترک داشته باشند.\n",
        "\n",
        "جالب اینجاست که بر خلاف تصور، احتمال تولد مشترک در یک گروه 23 نفره بیش از 50 درصد است!\n",
        "\n",
        "در ادامه این احتمال را به کمک R محاسبه می‌​​​​​​​کنیم.\n",
        "\n",
        "ابتدا این مسئله را به صورت تئوری به ازای k نفر حل کنید.(احتمال اینکه از بین k نفر، دو نفر تولد یکسان داشته باشند چقدر است؟) نیازی به نوشتن اثبات در اینجا نیست.\n",
        "\n",
        "در سلول زیر محاسبات در زبان R انجام شده.\n",
        "</div>\n",
        "\n"
      ],
      "metadata": {
        "id": "a_WuVZXddBoi"
      }
    },
    {
      "cell_type": "code",
      "source": [
        "%%R\n",
        "k <- 23\n",
        "1-prod((365-k+1):365)/365^k"
      ],
      "metadata": {
        "id": "j0Ba_Z_oc8Kn",
        "colab": {
          "base_uri": "https://localhost:8080/"
        },
        "outputId": "d430ea6b-108f-4579-8042-fd66ad7d5b93"
      },
      "execution_count": null,
      "outputs": [
        {
          "output_type": "stream",
          "name": "stdout",
          "text": [
            "[1] 0.5072972\n"
          ]
        }
      ]
    },
    {
      "cell_type": "markdown",
      "source": [
        "<div dir='rtl'>\n",
        "همانطور که مشاهده می‌کنید به ازای ۲۳ نفر احتمال یکسان بودن تولد دو نفر بیش از ۵۰٪ است.\n",
        "\n",
        "در زبان R برخی توابع کمکی برای مسائل معروف اینچنینی تعریف شده اند.\n",
        "درباره دو تابع pbirthday و qbirthday تحقیق کنید و این دو تابع را توضیح دهید.\n",
        "\n",
        "با استفاده از دو تابع بالا احتمال اینکه از بین ۲۳ نفر حداقل ۳ نفر روز تولدشان یکسان باشد را بیابید.\n",
        "</div>\n",
        "\n"
      ],
      "metadata": {
        "id": "IwjzqWF5in_n"
      }
    },
    {
      "cell_type": "code",
      "source": [
        "%%R\n",
        "pbirthday(n=23, classes = 365, coincident = 10)"
      ],
      "metadata": {
        "id": "8Gd7SX-dg0wb",
        "colab": {
          "base_uri": "https://localhost:8080/"
        },
        "outputId": "3d0db234-76d0-4160-d593-fa8a867b8dd1"
      },
      "execution_count": null,
      "outputs": [
        {
          "output_type": "stream",
          "name": "stdout",
          "text": [
            "[1] 9.375794e-17\n"
          ]
        }
      ]
    },
    {
      "cell_type": "markdown",
      "source": [
        "<div dir='rtl'>\n",
        "حال با کمک توابع بالا، تعداد افراد لازم برای اینکه احتمال یکسان بودن روز تولد حداقل ۴ نفر بیش از ۰.۸ باشد را بیابید.\n",
        "</div>\n",
        "\n"
      ],
      "metadata": {
        "id": "EuuAAVkq8jCA"
      }
    },
    {
      "cell_type": "code",
      "source": [
        "%%R\n",
        "\n",
        "qbirthday(prob = 0.8, classes = 365, coincident = 4)"
      ],
      "metadata": {
        "id": "l3-ewpr78eFj",
        "colab": {
          "base_uri": "https://localhost:8080/"
        },
        "outputId": "4352c125-b6d7-48e1-bf9a-26b0428098d7"
      },
      "execution_count": null,
      "outputs": [
        {
          "output_type": "stream",
          "name": "stdout",
          "text": [
            "[1] 237\n"
          ]
        }
      ]
    },
    {
      "cell_type": "markdown",
      "source": [
        "<div dir='rtl'>\n",
        "برای درک بهتر این مسئله میتوان از نمونه برداری استفاده کرد.\n",
        "با تابع sample در بخش قبل آشنا شدید.\n",
        "قطعه کدی بنویسید که یک نمونه ۲۳تایی از روزهای تولد در ۳۶۵ روز سال تولید ‌می کند.\n",
        "\n",
        "</div>\n",
        "\n"
      ],
      "metadata": {
        "id": "UMrDqHKclSzd"
      }
    },
    {
      "cell_type": "code",
      "source": [
        "%%R\n",
        "birth_possible_observations = seq(1, 365)\n",
        "person_observation_chance_to_appear = rep(1/365, 365)\n",
        "sample(\n",
        "    x = birth_possible_observations,\n",
        "    size = 23,\n",
        "    replace = TRUE,\n",
        "    prob = person_observation_chance_to_appear\n",
        ")"
      ],
      "metadata": {
        "id": "ZMjUGHvvg0kk",
        "colab": {
          "base_uri": "https://localhost:8080/"
        },
        "outputId": "77dd1978-a6ab-4bc8-f1d5-e7208c97861d"
      },
      "execution_count": null,
      "outputs": [
        {
          "output_type": "stream",
          "name": "stdout",
          "text": [
            " [1] 261 237 130 111   6 158  74 221 139 299 108 270 233 103 290 269 165 274  42\n",
            "[20]   7  19  28 345\n"
          ]
        }
      ]
    },
    {
      "cell_type": "markdown",
      "source": [
        "<div dir='rtl'>\n",
        "حال این آزمایش را ۱۰۰۰۰ بار تکرار کنید و احتمال اینکه حداقل ۲ نفر روز تولد مشترک داشته باشند را بدست آورید.\n",
        "\n",
        "توجه داشته باشید که در این بخش امکان استفاده از حلقه for را ندارید!\n",
        "\n",
        "راهنمایی: می‌توانید برای بدست آوردن تعداد اعداد یکسان در یک مجموعه از tabulate استفاده کنید.\n",
        "</div>"
      ],
      "metadata": {
        "id": "cSWxoGrtmDIQ"
      }
    },
    {
      "cell_type": "code",
      "source": [
        "%%R\n",
        "\n",
        "person_number = rep( 23 , 10000)\n",
        "p <- function(n){\n",
        "    if (max(tabulate(sample(x = birth_possible_observations,size = 23,replace = TRUE, prob = person_observation_chance_to_appear))) > 1)\n",
        "      return (1)\n",
        "    else\n",
        "      return (0)\n",
        "}\n",
        "\n",
        "sample <- sapply(person_number , p)\n",
        "prob <- sum(sample)/10000\n",
        "prob"
      ],
      "metadata": {
        "id": "3XGO9Fuslmq5",
        "colab": {
          "base_uri": "https://localhost:8080/"
        },
        "outputId": "e46cb3cc-3ab5-46e9-d288-af754e7bdda9"
      },
      "execution_count": null,
      "outputs": [
        {
          "output_type": "stream",
          "name": "stdout",
          "text": [
            "[1] 0.4964\n"
          ]
        }
      ]
    }
  ]
}