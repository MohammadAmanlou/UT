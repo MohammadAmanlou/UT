{
  "nbformat": 4,
  "nbformat_minor": 0,
  "metadata": {
    "colab": {
      "provenance": []
    },
    "kernelspec": {
      "name": "python3",
      "display_name": "Python 3"
    },
    "language_info": {
      "name": "python"
    }
  },
  "cells": [
    {
      "cell_type": "code",
      "execution_count": null,
      "metadata": {
        "id": "xROTCWzQqFXp",
        "colab": {
          "base_uri": "https://localhost:8080/"
        },
        "outputId": "f42103d1-e82d-4cbe-9076-3703d82856e1"
      },
      "outputs": [
        {
          "output_type": "stream",
          "name": "stdout",
          "text": [
            "Looking in indexes: https://pypi.org/simple, https://us-python.pkg.dev/colab-wheels/public/simple/\n",
            "Collecting rpy2==3.5.1\n",
            "  Downloading rpy2-3.5.1.tar.gz (201 kB)\n",
            "\u001b[K     |████████████████████████████████| 201 kB 22.4 MB/s \n",
            "\u001b[?25hRequirement already satisfied: cffi>=1.10.0 in /usr/local/lib/python3.7/dist-packages (from rpy2==3.5.1) (1.15.1)\n",
            "Requirement already satisfied: jinja2 in /usr/local/lib/python3.7/dist-packages (from rpy2==3.5.1) (2.11.3)\n",
            "Requirement already satisfied: pytz in /usr/local/lib/python3.7/dist-packages (from rpy2==3.5.1) (2022.6)\n",
            "Requirement already satisfied: tzlocal in /usr/local/lib/python3.7/dist-packages (from rpy2==3.5.1) (1.5.1)\n",
            "Requirement already satisfied: typing-extensions in /usr/local/lib/python3.7/dist-packages (from rpy2==3.5.1) (4.1.1)\n",
            "Requirement already satisfied: pycparser in /usr/local/lib/python3.7/dist-packages (from cffi>=1.10.0->rpy2==3.5.1) (2.21)\n",
            "Requirement already satisfied: MarkupSafe>=0.23 in /usr/local/lib/python3.7/dist-packages (from jinja2->rpy2==3.5.1) (2.0.1)\n",
            "Building wheels for collected packages: rpy2\n",
            "  Building wheel for rpy2 (setup.py) ... \u001b[?25l\u001b[?25hdone\n",
            "  Created wheel for rpy2: filename=rpy2-3.5.1-cp37-cp37m-linux_x86_64.whl size=310608 sha256=d9c3e46ef13e3aec0e5614f673edc74793a2cc554bfd048ecec40609f79856f1\n",
            "  Stored in directory: /root/.cache/pip/wheels/65/df/9e/39aa22a3f47ec58751b5bf6907036fbc131d85b6d7cbd3b3fe\n",
            "Successfully built rpy2\n",
            "Installing collected packages: rpy2\n",
            "  Attempting uninstall: rpy2\n",
            "    Found existing installation: rpy2 3.5.5\n",
            "    Uninstalling rpy2-3.5.5:\n",
            "      Successfully uninstalled rpy2-3.5.5\n",
            "Successfully installed rpy2-3.5.1\n"
          ]
        }
      ],
      "source": [
        "!pip install rpy2==3.5.1\n",
        "%load_ext rpy2.ipython"
      ]
    },
    {
      "cell_type": "markdown",
      "metadata": {
        "id": "0xnYepbohl5D"
      },
      "source": [
        "<div dir='rtl'>\n",
        "<h1>1.احتمال شرطی (Conditional Probability)</h1>\n",
        "</div>"
      ]
    },
    {
      "cell_type": "markdown",
      "source": [
        "<div dir='rtl'>\n",
        "\n",
        "فرض کنید که یک آزمایش کرونا در ۹۰درصد مواقع کسی که واقعا مبتلا به کرونا هست را مثبت پاسخ می‌دهد و در ۹۵درصد مواقع کسی که مبتلا نیست را پاسخ منفی می‌دهد.\n",
        "\n",
        "به عبارتی داریم:\n",
        "</div>\n",
        "\n",
        "<div dir='ltr'>\n",
        "\n",
        "P(test pos | Corona) = 0.9<br>\n",
        "P(test neg | no Corona) = 0.95\n",
        "</div>\n",
        "\n",
        "<div dir='rtl'>\n",
        "\n",
        "همچنین می‌دانیم کرونا حدود ۱۰درصد جمعیت را درگیر کرده‌است.\n",
        "</div>\n",
        "\n",
        "<div dir='ltr'>\n",
        "P(Corona) = 0.1\n",
        "</div>"
      ],
      "metadata": {
        "id": "7129WdPmCPo5"
      }
    },
    {
      "cell_type": "markdown",
      "source": [
        "<div dir='rtl'>\n",
        "\n",
        "شما از این آزمایش استفاده کردید و نتیجه تست‌تان مثبت شده.\n",
        "\n",
        "با چه احتمالی واقعا مبتلا به کرونا هستید؟\n",
        "\n",
        "\n",
        "\n",
        "\n",
        "\n",
        "اگر تست منفی بود چطور؟\n",
        "\n",
        "مسئله را به صورت تئوری با کمک قاعده بیز حل کنید.\n",
        "</div>"
      ],
      "metadata": {
        "id": "Aflku13WD7b5"
      }
    },
    {
      "cell_type": "markdown",
      "source": [
        "سوال اول : با احتمال دو سوم (66%)\n",
        "\n",
        "\n",
        "سوال دوم : 1/86.5 = یک به روی هشتاد و شش و نیم\n",
        "\n",
        "> Indented block\n",
        "\n"
      ],
      "metadata": {
        "id": "lQq-sZiWbuZF"
      }
    },
    {
      "cell_type": "markdown",
      "source": [
        "<div dir='rtl'>\n",
        "\n",
        "برای اینکه دید بهتری به مسئله پیدا کنیم میتوان از زبان R و نمونه برداری کمک گرفت.\n",
        "\n",
        "ابتدا یک جامعه نمونه ۱۰۰۰۰۰ نفری با کمک تابع sample بسازید.\n",
        "\n",
        "دقت کنید که احتمال ابتلا به کرونا ۱۰درصد است و اعضای جامعه یا کرونا دارند و یا ندارد.\n",
        "</div>"
      ],
      "metadata": {
        "id": "-LQ4E56yEdYa"
      }
    },
    {
      "cell_type": "code",
      "source": [
        "!pip install rpy2==3.5.1"
      ],
      "metadata": {
        "id": "0u_PRCCuMKbB",
        "outputId": "9ce39380-1195-4d72-9fba-0434adef7361",
        "colab": {
          "base_uri": "https://localhost:8080/"
        }
      },
      "execution_count": null,
      "outputs": [
        {
          "output_type": "stream",
          "name": "stdout",
          "text": [
            "Looking in indexes: https://pypi.org/simple, https://us-python.pkg.dev/colab-wheels/public/simple/\n",
            "Requirement already satisfied: rpy2==3.5.1 in /usr/local/lib/python3.7/dist-packages (3.5.1)\n",
            "Requirement already satisfied: tzlocal in /usr/local/lib/python3.7/dist-packages (from rpy2==3.5.1) (1.5.1)\n",
            "Requirement already satisfied: cffi>=1.10.0 in /usr/local/lib/python3.7/dist-packages (from rpy2==3.5.1) (1.15.1)\n",
            "Requirement already satisfied: typing-extensions in /usr/local/lib/python3.7/dist-packages (from rpy2==3.5.1) (4.1.1)\n",
            "Requirement already satisfied: jinja2 in /usr/local/lib/python3.7/dist-packages (from rpy2==3.5.1) (2.11.3)\n",
            "Requirement already satisfied: pytz in /usr/local/lib/python3.7/dist-packages (from rpy2==3.5.1) (2022.6)\n",
            "Requirement already satisfied: pycparser in /usr/local/lib/python3.7/dist-packages (from cffi>=1.10.0->rpy2==3.5.1) (2.21)\n",
            "Requirement already satisfied: MarkupSafe>=0.23 in /usr/local/lib/python3.7/dist-packages (from jinja2->rpy2==3.5.1) (2.0.1)\n"
          ]
        }
      ]
    },
    {
      "cell_type": "code",
      "source": [
        "%%R\n",
        "corona_possible_observations = seq(0, 1)\n",
        "corona_chance_to_appear <- c(0.9 , 0.1)\n",
        "sample_of_real_corona <- function(n){\n",
        "    return (\n",
        "        sample(\n",
        "          x = corona_possible_observations,\n",
        "          size = n,\n",
        "          replace = TRUE,\n",
        "          prob = corona_chance_to_appear\n",
        "        )\n",
        "    )\n",
        "}\n",
        "real <- sample_of_real_corona(100000)\n"
      ],
      "metadata": {
        "id": "kUS0Rhmi79R9"
      },
      "execution_count": null,
      "outputs": []
    },
    {
      "cell_type": "markdown",
      "source": [
        "<div dir='rtl'>\n",
        "\n",
        "حال با کمک sample یک مجموعه نتایج تست بسازید.\n",
        "به این صورت که اول یک وکتور ۱۰۰۰۰۰تایی خالی تولید کنید.<br>\n",
        "در مرحله بعدی در خانه‌هایی که در نمونه بخش قبلی کرونا داشتند یکسری نمونه با جواب تست مثبت یا منفی قرار دهید و در خانه‌هایی که  کرونا نداشتند هم به همین منوال نمونه‌هایی با پاسخ تست مثبت یا منفی قرار دهید.\n",
        "\n",
        "\n",
        "\n",
        "در نهایت با اجرای این بخش و بخش قبلی شما دو وکتور خواهید داشت:\n",
        "وکتور ۱۰۰۰۰۰تایی از افراد که آیا واقعا کرونا دارند یا خیر.<br>\n",
        "وکتور متناظر ۱۰۰۰۰۰تایی از افراد که آیا جواب تست‌شان مثبت بوده یا خیر.<br>\n",
        "\n",
        "دقت کنید که در نمونه برداری های این بخش احتمال مثبت شدن تست کرونا ۵درصد است و حالات ممکن نمونه پاسخ مثبت یا منفی تست است.\n",
        "</div>"
      ],
      "metadata": {
        "id": "q5HAgXoLF61F"
      }
    },
    {
      "cell_type": "code",
      "source": [
        "%%R\n",
        "testing <- function (real_society){\n",
        "    if (real_society == 1){\n",
        "        return (\n",
        "            sample(\n",
        "                x = c(1,0),\n",
        "                prob = c(0.9 , 0.1),\n",
        "                size = 1,\n",
        "                replace = TRUE\n",
        "            )\n",
        "        )\n",
        "    }\n",
        "    else {\n",
        "        return(\n",
        "            sample(\n",
        "                x = c(1,0),\n",
        "                prob = c(0.05 , 0.95),\n",
        "                size=1,\n",
        "                replace = TRUE\n",
        "            )\n",
        "        )\n",
        "    }\n",
        "}\n",
        "test <- sapply(real , testing)"
      ],
      "metadata": {
        "id": "VqDlcnSbF1QJ"
      },
      "execution_count": null,
      "outputs": []
    },
    {
      "cell_type": "markdown",
      "source": [
        "<div dir='rtl'>\n",
        "\n",
        "حال با کمک داده‌هایی که با نمونه برداری بدست آوردید به سوال اول پاسخ دهید.\n",
        "\n",
        "با وجود مثبت شدن تست کرونای شما، احتمال اینکه واقعا به کرونا مبتلا باشید چقدر است؟\n",
        "</div>"
      ],
      "metadata": {
        "id": "IR0XFCNqGJQS"
      }
    },
    {
      "cell_type": "code",
      "source": [
        "%%R\n",
        "index_of_real_corona <- which(real == 1)\n",
        "index_of_test_corona <- which(test == 1)\n",
        "common <- length(which(index_of_test_corona %in% index_of_real_corona))\n",
        "p <- c(common / length(index_of_test_corona))\n"
      ],
      "metadata": {
        "id": "5hgSX44p_p3K"
      },
      "execution_count": null,
      "outputs": []
    },
    {
      "cell_type": "markdown",
      "source": [
        "<div dir='rtl'>\n",
        "\n",
        "بررسی کنید که این احتمال بدون تست چقدر تغییر می‌کند.\n",
        "\n",
        "آیا در بررسی نتایج تست کرونا بهتر است به احتمال نهایی که بدست آمده توجه کنیم و یا به افزایش احتمال ابتلا نسبت به حالتی که تست ندادیم؟\n",
        "\n",
        "به دلیل حمایت بالای تست از واقعا مثبت بودن کرونا بهتر است به نتیجه تست توجه کنیم\n",
        "</div>"
      ],
      "metadata": {
        "id": "fZRN9aq5Gotj"
      }
    },
    {
      "cell_type": "code",
      "source": [
        "%%R\n",
        "index_of_real_corona2 <- which(real == 1)\n",
        "index_of_test_corona2 <- which(test == 1)\n",
        "common2 <- length(which(index_of_test_corona2 %in% index_of_real_corona2))\n",
        "pp <- (common2/length(index_of_test_corona2)/length(index_of_real_corona2))*100000\n",
        "pp"
      ],
      "metadata": {
        "id": "vi8d99Kk_rnF",
        "outputId": "612d2cf6-1602-4f16-9111-ade9feebd9a4",
        "colab": {
          "base_uri": "https://localhost:8080/"
        }
      },
      "execution_count": null,
      "outputs": [
        {
          "output_type": "stream",
          "name": "stdout",
          "text": [
            "[1] 6.642348\n"
          ]
        }
      ]
    },
    {
      "cell_type": "markdown",
      "source": [
        "<div dir='rtl'>\n",
        "\n",
        "<h1>2. مسئله مونتی هال (Monty Hall Problem)</h1>\n",
        "\n",
        "در درس با مسئله مونتی هال آشنا شدیم.\n",
        "\n",
        "حالت پایه مسئله به این صورت است:<br>\n",
        "در یک مسابقه، در مقابل شما ۳ در قرار دارد و پشت یکی جایزه و پشت باقی درها پوچ است.<br>\n",
        "شما یک در را انتخاب کردید(برای مثال در شماره ۲) و حال مجری مسابقه که از محتویات پشت هر در اطلاع دارد یکی از درهای پوچ را برای شما حذف می‌کند. <br>\n",
        "سپس به شما پیشنهاد می‌دهد که در انتخابی خود را عوض کنید. آیا تعویض انتخابتان به سود شماست یا به ضررتان؟\n",
        "\n",
        "با شببیه‌سازی مسئله این انتخاب را بررسی کنید. آیا استراتژی تعویض نکردن در بیشتر باعث برد شرکت کننده می‌شود یا خیر؟\n",
        "\n",
        "سعی کنید مسئله را برای تعداد درهای ۴،۳ و ۱۰۰ بررسی کنید و نتایج هر بخش را گزارش کنید.\n",
        "\n",
        "\n",
        "برای شروع یک تابع پیاده سازی کنید که این مسئله(مسابقه) را شبیه سازی می‌کند.\n",
        "</div>"
      ],
      "metadata": {
        "id": "P85nv7n6Lsjz"
      }
    },
    {
      "cell_type": "code",
      "source": [
        "%%R\n",
        "x <- c(1,2,3)\n",
        "y <- x[ !x == 1]\n",
        "y"
      ],
      "metadata": {
        "id": "YyDc1ml-bNRb",
        "outputId": "ccf9f70c-e178-4286-bf85-9b6d6708bcf8",
        "colab": {
          "base_uri": "https://localhost:8080/"
        }
      },
      "execution_count": null,
      "outputs": [
        {
          "output_type": "stream",
          "name": "stdout",
          "text": [
            "[1] 2 3\n"
          ]
        }
      ]
    },
    {
      "cell_type": "code",
      "metadata": {
        "id": "33BW-P9Pmvfs",
        "colab": {
          "base_uri": "https://localhost:8080/"
        },
        "outputId": "ad8ba974-2544-4e32-8340-2270ebfcc5fe"
      },
      "source": [
        "%%R\n",
        "# Inputs:\n",
        "#    make_switch: TRUE or FALSE based on the given choice of the player.\n",
        "#                 If TRUE, the player wants a switch.\n",
        "# Output of function determines that the player is a winner or not.\n",
        "\n",
        "simulate_game = function(make_switch = FALSE)\n",
        "{\n",
        "  # NUmber of doors\n",
        "  n_doors = 100\n",
        "\n",
        "  # Create a integer vector for the door indices.\n",
        "  doors = seq_len(n_doors)\n",
        "\n",
        "  # Create a boolean vector showing which doors are opened.\n",
        "  # All doors are closed at the start of the game.\n",
        "  is_closed = rep(TRUE, length=n_doors)\n",
        "\n",
        "  # Sample one index for the door to hide the prize behind.\n",
        "  # From now on, we call it the prize door.\n",
        "  prize_index = sample(doors, size=1)\n",
        "\n",
        "  # Sample one index for the door initially chosen by the player.\n",
        "  # This can be the same door as the prize door. So there is no need to\n",
        "  # eliminate any door.\n",
        "  choice_index = sample(doors, size=1)\n",
        "\n",
        "  # Now Monty Hall opens the door the player did not choose.\n",
        "  # For 3 doors problem:\n",
        "  # If the player has already picked the prize door, the one remaining\n",
        "  # closed door has a no prize.\n",
        "  # If the player has not picked the prize door, the one remaining closed\n",
        "  # door has the prize.\n",
        "  #\n",
        "  # Please implement this part of the function:\n",
        "  if (choice_index != prize_index){\n",
        "      choosable <- doors[!doors == choice_index]\n",
        "      choosable <- choosable[!choosable == prize_index]\n",
        "  }\n",
        "  else {\n",
        "      choosable <- doors[!doors == choice_index]\n",
        "  }\n",
        "  monty_hall_deleted_index = sample(choosable, size=1)\n",
        "  player_choosable_doors <- doors[!doors == monty_hall_deleted_index]\n",
        "\n",
        "\n",
        "  # Now Monty Hall asks the player whether he/she wants to make a switch\n",
        "  if (make_switch) {\n",
        "      player_choosable_doors <- player_choosable_doors[!player_choosable_doors == choice_index]\n",
        "      final_choose = sample(player_choosable_doors , size =1)\n",
        "  }\n",
        "  else{\n",
        "      final_choose <- choice_index\n",
        "  }\n",
        "\n",
        "  # Return a boolean value showing whether the player's choice is the prize door\n",
        "  # or not.\n",
        "  return(final_choose == prize_index)\n",
        "}\n",
        "simulate_game()"
      ],
      "execution_count": null,
      "outputs": [
        {
          "output_type": "stream",
          "name": "stdout",
          "text": [
            "[1] FALSE\n"
          ]
        }
      ]
    },
    {
      "cell_type": "markdown",
      "source": [
        "<div dir='rtl'>\n",
        "\n",
        "حال تابعی پیاده سازی کنید که این مسابقه را n بار تکرار می کند.\n",
        "\n",
        "دقت کنید که استفاده از حلقه for مجاز نیست!\n",
        "</div>"
      ],
      "metadata": {
        "id": "uA09ym5w3Vhn"
      }
    },
    {
      "cell_type": "code",
      "metadata": {
        "id": "qau6NLyxpag5",
        "outputId": "94cccf94-f7ad-4a95-a21e-adf9bfe3fa8b",
        "colab": {
          "base_uri": "https://localhost:8080/"
        }
      },
      "source": [
        "%%R\n",
        "# Inputs:\n",
        "#    make_switch: TRUE or FALSE based on the given choice of the player.\n",
        "#                 If TRUE, the player wants a switch.\n",
        "#    n: Number of games we want to simulate.\n",
        "# Output of function determines that the player is a winner or not in all games.\n",
        "\n",
        "\n",
        "\n",
        "\n",
        "simulate_n_games = function(n, make_switch)\n",
        "{\n",
        "  d <- rep ( make_switch , length=n)\n",
        "  final_res <- sapply(d , simulate_game)\n",
        "  return (final_res)\n",
        "  ############################################################################\n",
        "  #                               Code Here                                  #\n",
        "  #      Implement a function that repeats the simulation for n times        #\n",
        "  #    Hint: generate a vector of size n filled with 'make_switch' values    #\n",
        "  #   Recommended: Take a look at the vapply function and undesrtand how it  #\n",
        "  #   works.                                                                 #\n",
        "  ############################################################################\n",
        "}\n",
        "simulate_n_games(1000 , TRUE)"
      ],
      "execution_count": null,
      "outputs": [
        {
          "output_type": "stream",
          "name": "stdout",
          "text": [
            "   [1] FALSE FALSE FALSE FALSE FALSE FALSE FALSE FALSE FALSE FALSE FALSE FALSE\n",
            "  [13] FALSE FALSE FALSE FALSE FALSE FALSE FALSE FALSE FALSE FALSE FALSE FALSE\n",
            "  [25] FALSE FALSE FALSE FALSE FALSE FALSE FALSE FALSE FALSE FALSE FALSE FALSE\n",
            "  [37] FALSE FALSE FALSE FALSE FALSE FALSE FALSE FALSE FALSE FALSE FALSE FALSE\n",
            "  [49] FALSE FALSE FALSE FALSE FALSE FALSE FALSE FALSE FALSE FALSE FALSE FALSE\n",
            "  [61] FALSE FALSE FALSE FALSE FALSE FALSE FALSE FALSE FALSE FALSE FALSE FALSE\n",
            "  [73] FALSE FALSE FALSE FALSE FALSE FALSE FALSE FALSE FALSE FALSE FALSE FALSE\n",
            "  [85] FALSE FALSE FALSE FALSE FALSE FALSE FALSE FALSE FALSE FALSE FALSE FALSE\n",
            "  [97] FALSE FALSE FALSE FALSE FALSE FALSE FALSE FALSE FALSE FALSE FALSE FALSE\n",
            " [109] FALSE FALSE FALSE FALSE FALSE FALSE FALSE FALSE FALSE FALSE FALSE FALSE\n",
            " [121] FALSE FALSE FALSE FALSE FALSE FALSE FALSE FALSE FALSE FALSE FALSE FALSE\n",
            " [133] FALSE FALSE FALSE FALSE FALSE FALSE FALSE FALSE FALSE FALSE FALSE FALSE\n",
            " [145] FALSE FALSE FALSE FALSE FALSE FALSE FALSE FALSE FALSE FALSE FALSE FALSE\n",
            " [157] FALSE FALSE FALSE FALSE FALSE FALSE FALSE FALSE FALSE FALSE FALSE FALSE\n",
            " [169] FALSE FALSE FALSE FALSE FALSE FALSE FALSE FALSE FALSE FALSE FALSE  TRUE\n",
            " [181] FALSE FALSE FALSE FALSE FALSE FALSE FALSE FALSE FALSE FALSE FALSE FALSE\n",
            " [193] FALSE FALSE FALSE FALSE FALSE FALSE FALSE FALSE FALSE FALSE FALSE FALSE\n",
            " [205] FALSE FALSE FALSE FALSE FALSE FALSE FALSE FALSE FALSE FALSE FALSE FALSE\n",
            " [217] FALSE  TRUE FALSE FALSE FALSE FALSE FALSE FALSE FALSE FALSE FALSE FALSE\n",
            " [229] FALSE FALSE FALSE FALSE FALSE FALSE FALSE FALSE  TRUE FALSE FALSE FALSE\n",
            " [241] FALSE FALSE FALSE FALSE FALSE FALSE FALSE FALSE FALSE FALSE FALSE FALSE\n",
            " [253] FALSE FALSE FALSE FALSE FALSE FALSE FALSE FALSE FALSE FALSE FALSE FALSE\n",
            " [265] FALSE FALSE FALSE FALSE FALSE FALSE FALSE FALSE FALSE FALSE FALSE FALSE\n",
            " [277] FALSE FALSE FALSE FALSE FALSE FALSE FALSE FALSE FALSE FALSE FALSE FALSE\n",
            " [289] FALSE FALSE FALSE FALSE FALSE FALSE FALSE FALSE FALSE FALSE FALSE FALSE\n",
            " [301] FALSE FALSE FALSE FALSE FALSE FALSE FALSE FALSE  TRUE FALSE FALSE FALSE\n",
            " [313] FALSE FALSE FALSE FALSE FALSE FALSE FALSE FALSE FALSE FALSE FALSE FALSE\n",
            " [325] FALSE FALSE FALSE FALSE FALSE FALSE FALSE FALSE FALSE FALSE FALSE FALSE\n",
            " [337] FALSE FALSE FALSE FALSE FALSE FALSE FALSE FALSE FALSE FALSE FALSE FALSE\n",
            " [349] FALSE FALSE FALSE FALSE FALSE FALSE FALSE FALSE FALSE FALSE FALSE FALSE\n",
            " [361] FALSE FALSE FALSE FALSE FALSE FALSE FALSE FALSE FALSE FALSE FALSE FALSE\n",
            " [373] FALSE FALSE FALSE FALSE FALSE FALSE FALSE FALSE FALSE FALSE FALSE FALSE\n",
            " [385] FALSE FALSE FALSE FALSE FALSE FALSE FALSE FALSE FALSE FALSE FALSE FALSE\n",
            " [397] FALSE FALSE FALSE FALSE FALSE FALSE FALSE FALSE FALSE FALSE FALSE FALSE\n",
            " [409] FALSE FALSE FALSE FALSE FALSE FALSE FALSE FALSE FALSE FALSE FALSE FALSE\n",
            " [421] FALSE FALSE FALSE FALSE FALSE FALSE FALSE FALSE FALSE FALSE FALSE FALSE\n",
            " [433] FALSE FALSE FALSE FALSE FALSE FALSE FALSE FALSE FALSE FALSE FALSE FALSE\n",
            " [445] FALSE FALSE FALSE FALSE FALSE FALSE FALSE FALSE FALSE FALSE FALSE FALSE\n",
            " [457] FALSE FALSE  TRUE FALSE FALSE FALSE FALSE FALSE FALSE FALSE FALSE FALSE\n",
            " [469] FALSE FALSE FALSE FALSE FALSE FALSE FALSE FALSE FALSE FALSE FALSE FALSE\n",
            " [481] FALSE FALSE FALSE FALSE FALSE FALSE  TRUE FALSE FALSE FALSE FALSE FALSE\n",
            " [493] FALSE FALSE FALSE FALSE FALSE FALSE FALSE FALSE FALSE FALSE FALSE FALSE\n",
            " [505] FALSE FALSE FALSE FALSE FALSE FALSE FALSE FALSE FALSE FALSE FALSE FALSE\n",
            " [517] FALSE FALSE FALSE FALSE FALSE FALSE FALSE FALSE FALSE FALSE FALSE FALSE\n",
            " [529] FALSE FALSE FALSE FALSE FALSE FALSE FALSE FALSE FALSE FALSE FALSE FALSE\n",
            " [541] FALSE FALSE FALSE FALSE FALSE FALSE FALSE FALSE FALSE FALSE FALSE FALSE\n",
            " [553] FALSE FALSE FALSE FALSE FALSE FALSE FALSE FALSE FALSE FALSE FALSE FALSE\n",
            " [565] FALSE FALSE FALSE FALSE FALSE FALSE FALSE FALSE FALSE FALSE FALSE FALSE\n",
            " [577] FALSE FALSE FALSE FALSE FALSE FALSE FALSE FALSE FALSE FALSE FALSE FALSE\n",
            " [589] FALSE FALSE FALSE FALSE FALSE FALSE FALSE FALSE FALSE FALSE FALSE FALSE\n",
            " [601] FALSE FALSE FALSE FALSE FALSE FALSE FALSE FALSE FALSE FALSE FALSE FALSE\n",
            " [613] FALSE FALSE FALSE FALSE FALSE FALSE FALSE FALSE FALSE FALSE FALSE FALSE\n",
            " [625] FALSE FALSE FALSE FALSE FALSE FALSE FALSE FALSE FALSE FALSE FALSE FALSE\n",
            " [637] FALSE FALSE FALSE FALSE FALSE FALSE FALSE FALSE FALSE FALSE FALSE FALSE\n",
            " [649] FALSE FALSE FALSE FALSE FALSE FALSE  TRUE FALSE FALSE FALSE FALSE FALSE\n",
            " [661] FALSE FALSE FALSE FALSE FALSE FALSE FALSE FALSE FALSE FALSE FALSE  TRUE\n",
            " [673] FALSE FALSE FALSE FALSE FALSE FALSE FALSE FALSE FALSE FALSE FALSE FALSE\n",
            " [685] FALSE FALSE FALSE FALSE FALSE FALSE FALSE FALSE FALSE  TRUE FALSE FALSE\n",
            " [697] FALSE FALSE FALSE FALSE FALSE FALSE FALSE FALSE FALSE FALSE FALSE FALSE\n",
            " [709] FALSE FALSE FALSE FALSE FALSE FALSE FALSE FALSE FALSE FALSE FALSE FALSE\n",
            " [721] FALSE FALSE FALSE FALSE FALSE FALSE FALSE FALSE FALSE FALSE FALSE FALSE\n",
            " [733] FALSE FALSE FALSE FALSE FALSE FALSE FALSE FALSE FALSE FALSE FALSE FALSE\n",
            " [745] FALSE FALSE FALSE FALSE FALSE FALSE FALSE FALSE FALSE FALSE FALSE FALSE\n",
            " [757] FALSE FALSE FALSE FALSE FALSE FALSE FALSE FALSE FALSE FALSE FALSE FALSE\n",
            " [769] FALSE FALSE FALSE FALSE FALSE FALSE FALSE FALSE FALSE FALSE FALSE FALSE\n",
            " [781] FALSE FALSE FALSE FALSE FALSE FALSE FALSE FALSE FALSE FALSE FALSE FALSE\n",
            " [793] FALSE FALSE FALSE FALSE FALSE FALSE FALSE FALSE FALSE FALSE FALSE FALSE\n",
            " [805] FALSE FALSE FALSE FALSE FALSE FALSE FALSE FALSE FALSE FALSE FALSE FALSE\n",
            " [817] FALSE FALSE FALSE FALSE FALSE FALSE FALSE FALSE FALSE FALSE FALSE FALSE\n",
            " [829] FALSE FALSE FALSE FALSE FALSE FALSE FALSE FALSE FALSE FALSE FALSE FALSE\n",
            " [841] FALSE FALSE FALSE FALSE FALSE FALSE FALSE FALSE FALSE FALSE FALSE FALSE\n",
            " [853] FALSE FALSE FALSE FALSE FALSE FALSE FALSE FALSE FALSE FALSE FALSE FALSE\n",
            " [865] FALSE FALSE FALSE FALSE FALSE FALSE FALSE FALSE FALSE FALSE FALSE FALSE\n",
            " [877] FALSE FALSE FALSE FALSE FALSE FALSE FALSE FALSE FALSE FALSE FALSE FALSE\n",
            " [889] FALSE FALSE FALSE FALSE FALSE FALSE FALSE FALSE FALSE FALSE FALSE FALSE\n",
            " [901] FALSE FALSE FALSE  TRUE FALSE FALSE FALSE FALSE FALSE FALSE FALSE FALSE\n",
            " [913] FALSE FALSE FALSE FALSE FALSE FALSE FALSE FALSE FALSE FALSE FALSE FALSE\n",
            " [925] FALSE FALSE FALSE FALSE FALSE FALSE FALSE FALSE FALSE FALSE FALSE FALSE\n",
            " [937] FALSE FALSE FALSE FALSE FALSE FALSE FALSE FALSE FALSE FALSE FALSE FALSE\n",
            " [949] FALSE FALSE FALSE  TRUE FALSE FALSE FALSE FALSE FALSE FALSE FALSE FALSE\n",
            " [961] FALSE  TRUE FALSE FALSE FALSE FALSE FALSE FALSE FALSE FALSE FALSE FALSE\n",
            " [973]  TRUE FALSE FALSE FALSE FALSE FALSE FALSE FALSE FALSE FALSE FALSE FALSE\n",
            " [985] FALSE FALSE FALSE FALSE FALSE FALSE FALSE FALSE FALSE FALSE FALSE FALSE\n",
            " [997] FALSE FALSE FALSE FALSE\n"
          ]
        }
      ]
    },
    {
      "cell_type": "markdown",
      "source": [
        "<div dir='rtl'>\n",
        "\n",
        "حال با انجام شبیه سازی ها به بررسی نتایج می‌پردازیم.\n",
        "\n",
        "این شبیه سازی را برای ۱۰۰و ۱۰۰۰ و درنهایت ۱۰۰۰۰ تکرار انجام دهید و نتایج را بررسی کنید.\n",
        "</div>"
      ],
      "metadata": {
        "id": "HSfKIw9S3Xbe"
      }
    },
    {
      "cell_type": "code",
      "metadata": {
        "id": "npJBV1euGV13"
      },
      "source": [
        "%%R\n",
        "\n",
        "n_games = 1000\n",
        "\n",
        "# Simulate games and store the boolean results in both cases.\n",
        "results_without_switching = simulate_n_games(n = n_games, make_switch = FALSE)\n",
        "results_with_switching = simulate_n_games(n = n_games, make_switch = TRUE)\n",
        "\n",
        "# Store the cumulative wins in a dataframe.\n",
        "results = data.frame(\n",
        "  # First column\n",
        "  game = seq_len(n_games),\n",
        "  # Second column\n",
        "  cumulative_wins_without_switching = cumsum(results_without_switching),\n",
        "  # Third column\n",
        "  cumulative_wins_with_switching = cumsum(results_with_switching)\n",
        ")\n",
        "\n",
        "tail(results, 10)"
      ],
      "execution_count": null,
      "outputs": []
    },
    {
      "cell_type": "code",
      "source": [],
      "metadata": {
        "id": "NZjumQ3agLNE"
      },
      "execution_count": null,
      "outputs": []
    }
  ]
}