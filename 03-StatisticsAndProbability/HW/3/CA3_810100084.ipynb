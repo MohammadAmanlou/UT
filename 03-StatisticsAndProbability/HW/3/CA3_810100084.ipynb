{
  "nbformat": 4,
  "nbformat_minor": 0,
  "metadata": {
    "colab": {
      "provenance": []
    },
    "kernelspec": {
      "name": "ir",
      "display_name": "R"
    },
    "language_info": {
      "name": "R"
    }
  },
  "cells": [
    {
      "cell_type": "markdown",
      "source": [
        "<div dir='rtl'>\n",
        "<font face='B Titr' size='5'>\n",
        "<h1>هدف تمرین</h1>\n",
        "</font>\n",
        "</div>"
      ],
      "metadata": {
        "id": "87qGkm4Ch76u"
      }
    },
    {
      "cell_type": "markdown",
      "source": [
        "<div dir='rtl'>\n",
        "<font face='XB Zar' size='4'>\n",
        "تمام توزیع‌های دارای نام که در این درس آن‌ها را می‌خوانید در\n",
        "R\n",
        "پیاده‌سازی شده‌اند. در این تمرین ارتباط بین توزیع فوق‌هندسی، دوجمله‌ای و پوآسون را خواهید آموخت. همچنین توزیع دوجمله‌ای را با استفاده از توابع پایه‌ی\n",
        "R\n",
        "پیاده خواهید کرد.\n",
        "</font>\n",
        "</div>"
      ],
      "metadata": {
        "id": "54BBMj0ChMOH"
      }
    },
    {
      "cell_type": "markdown",
      "source": [
        "<div dir='rtl'>\n",
        "<font face='B Titr' size='4'>\n",
        "<h1>معرفی توابع توزیع‌های احتمالاتی در\n",
        "R</h1>\n",
        "</font>\n",
        "</div>"
      ],
      "metadata": {
        "id": "dmRDP6LbiSBX"
      }
    },
    {
      "cell_type": "markdown",
      "source": [
        "<div dir='rtl'>\n",
        "<font face='XB Zar' size='4'>\n",
        "برای این که یک لیست کارا از توزیع‌های که در\n",
        "R\n",
        "موجود هستند داشته باشید می‌توانید دستور:\n",
        "</font>\n",
        "</div>\n",
        "\n",
        "```R\n",
        "help(distributions)\n",
        "```\n",
        "\n",
        "<div dir='rtl'>\n",
        "<font face='XB Zar' size='4'>\n",
        "را اجرا کنید.\n",
        "</font>\n",
        "</div>\n",
        "\n"
      ],
      "metadata": {
        "id": "OhICspBYivWr"
      }
    },
    {
      "cell_type": "markdown",
      "source": [
        "<div dir='rtl'>\n",
        "<font face='XB Zar' size='4'>\n",
        "به طور کلی، برای بسیاری از توزیع‌های گسسته‌ی دارای نام، سه تابع با پیشوندهای\n",
        "</font>\n",
        "</div>\n",
        "\n",
        "`d` , `p` , `r`\n",
        "\n",
        "<div dir='rtl'>\n",
        "<font face='XB Zar' size='4'>\n",
        "به ترتیب تابع توزیع جرمی (PMF)، تابع توزیع تجمعی (CDF) و یک نمونه‌ی تصادفی (به تعداد مورد درخواست آزمایش را تکرار می‌کند و هربار مقدار متغیر تصادفی با توزیع مدنظر را به ‌دست می‌آورد) به ما می‌دهند. دقت کنید که تابعی که با\n",
        "</font>\n",
        "</div>\n",
        "\n",
        "`p`\n",
        "\n",
        "<div dir='rtl'>\n",
        "<font face='XB Zar' size='4'>\n",
        "شروع می‌شود، PMF یا تابع توزیع جرمی نیست بلکه CDF یا تابع توزیع تجمعی است. (<tt>d</tt> حرف اول لغت distribution است)\n",
        "</font>\n",
        "</div>"
      ],
      "metadata": {
        "id": "eqsf2PFmjh6R"
      }
    },
    {
      "cell_type": "markdown",
      "source": [
        "<div dir='rtl'>\n",
        "<font face='B Titr' size='4'>\n",
        "<h1> مثال: توزیع دوجمله‌ای (binomial)\n",
        "</h1>\n",
        "</font>\n",
        "</div>"
      ],
      "metadata": {
        "id": "JiGUge4DpKkf"
      }
    },
    {
      "cell_type": "markdown",
      "source": [
        "<div dir='rtl'>\n",
        "<font face='XB Zar' size='4'>\n",
        "توزیع دوجمله‌ای با سه تابع\n",
        "</font>\n",
        "</div>\n",
        "\n",
        "`dbinom` , `pbinom` , `qbinom`\n",
        "\n",
        "<div dir='rtl'>\n",
        "<font face='XB Zar' size='4'>\n",
        "در R مرتبط است. یکی از راه‌های استفاده از توزیع برنولی این است که توزیع دوجمله‌ای با $n = 1$ را استفاده کنید.\n",
        "</font>\n",
        "</div>\n"
      ],
      "metadata": {
        "id": "nhQHRIEwpXdq"
      }
    },
    {
      "cell_type": "markdown",
      "source": [
        "<div dir='rtl'>\n",
        "<font face='B Titr' size='4'>\n",
        "<h2> تابع جرمی توزیع دوجمله‌ای\n",
        "</h2>\n",
        "</font>\n",
        "</div>"
      ],
      "metadata": {
        "id": "D2VQyWONvqgL"
      }
    },
    {
      "cell_type": "markdown",
      "source": [
        "<div dir='rtl'>\n",
        "<font face='XB Zar' size='4'>\n",
        "تابع جرمی توزیع دوجمله‌ای\n",
        "</font>\n",
        "</div>\n",
        "\n",
        "`dbinom`\n",
        "\n",
        "<div dir='rtl'>\n",
        "<font face='XB Zar' size='4'>\n",
        "است. این تابع سه ورودی می‌گیرد: اولین ورودی مقدار $x$ای است که در آن تابع توزیع جرمی (PMF) را ارزیابی می‌کند، دومین و سومین ورودی مقدار پارامترهای توزیع دوجمله‌ای یعنی $n$ و $p$ هستند. برای مثال\n",
        "</font>\n",
        "</div>\n",
        "\n",
        "`dbinom(3, 5, 0.2)`\n",
        "\n",
        "<div dir='rtl'>\n",
        "<font face='XB Zar' size='4'>\n",
        "مقدار احتمال $P(X=3)$ را باز می‌گرداند به‌ ‌نحوی که $Bin(5, 0.2)$ ~ $X$ باشد.\n",
        "</font>\n",
        "</div>"
      ],
      "metadata": {
        "id": "qz2x4ss-p6NA"
      }
    },
    {
      "cell_type": "markdown",
      "source": [
        "`dbinom(3, 5, 0.2)` = ${5 \\choose 3}(0.2)^3(0.8)^2$"
      ],
      "metadata": {
        "id": "a7t0bbNPtJLv"
      }
    },
    {
      "cell_type": "markdown",
      "source": [
        "<div dir='rtl'>\n",
        "<font face='B Titr' size='4'>\n",
        "<h2> تابع تجمعی توزیع دوجمله‌ای\n",
        "</h2>\n",
        "</font>\n",
        "</div>"
      ],
      "metadata": {
        "id": "Ucr2AMPOv4Do"
      }
    },
    {
      "cell_type": "markdown",
      "source": [
        "<div dir='rtl'>\n",
        "<font face='XB Zar' size='4'>\n",
        "تابع تجمعی توزیع دوجمله‌ای\n",
        "</font>\n",
        "</div>\n",
        "\n",
        "`pbinom`\n",
        "\n",
        "<div dir='rtl'>\n",
        "<font face='XB Zar' size='4'>\n",
        "است. این تابع سه ورودی می‌گیرد: اولین ورودی مقدار $x$ای است که در آن تابع توزیع تجمعی (CDF) را ارزیابی می‌کند، دومین و سومین ورودی مقدار پارامترهای توزیع دوجمله‌ای یعنی $n$ و $p$ هستند. برای مثال:\n",
        "</font>\n",
        "</div>\n",
        "\n",
        "\n",
        "\n",
        "`pbinom(3, 5, 0.2)` = $Σ_{k=0}^{3} {5 \\choose k}(0.2)^k(0.8)^{5 - k}$\n",
        "\n"
      ],
      "metadata": {
        "id": "nS3tcqnBt-O2"
      }
    },
    {
      "cell_type": "markdown",
      "source": [
        "<div dir='rtl'>\n",
        "<font face='B Titr' size='4'>\n",
        "<h2> گرفتن نمونه از توزیع دوجمله‌ای\n",
        "</h2>\n",
        "</font>\n",
        "</div>"
      ],
      "metadata": {
        "id": "fd376I8NwFZu"
      }
    },
    {
      "cell_type": "markdown",
      "source": [
        "`rbinom`\n",
        "<div dir='rtl'>\n",
        "<font face='XB Zar' size='4'>\n",
        "تابعی برای تولید کردن متغیرهای تصادفی دوجمله‌ای است. اولین ورودی این تابع نشان‌دهنده‌ی تعداد متغیرهای تصادفی‌ای است که می‌خواهیم تولید کنیم، و دومین و سومین ورودی مانند قسمت‌های قبل پارامترهای توزیع هستند. بنابراین دستور\n",
        "</font>\n",
        "</div>\n",
        "\n",
        "`rbinom(7, 5, 0.2)`\n",
        "\n",
        "<div dir='rtl'>\n",
        "<font face='XB Zar' size='4'>\n",
        "7 تحقق (realization) از متغیرهای تصادفی مستقل و هم‌توزیع $Bin(5, 0.2)$ ایجاد می‌کند.\n",
        "</font>\n",
        "</div>"
      ],
      "metadata": {
        "id": "Djjn5CA5wo_Q"
      }
    },
    {
      "cell_type": "markdown",
      "source": [
        "<div dir='rtl'>\n",
        "<font face='B Titr' size='4'>\n",
        "<h1> تمرین 1\n",
        "</h1>\n",
        "</font>\n",
        "</div>"
      ],
      "metadata": {
        "id": "OaanqcG6zB5T"
      }
    },
    {
      "cell_type": "markdown",
      "source": [
        "<div dir='rtl'>\n",
        "<font face='XB Zar' size='4'>\n",
        "همانطور که احتمالا متوجه شده‌اید تابع\n",
        "</font>\n",
        "</div>\n",
        "\n",
        "`rbern(n_realizations, p)`\n",
        "\n",
        "<div dir='rtl'>\n",
        "<font face='XB Zar' size='4'>\n",
        "که تحقق‌هایی از توزیع برنولی می‌دهد در\n",
        "R\n",
        "به صورت پیش‌فرض قرار داده نشده است. با استفاده از توابع پایه‌ی\n",
        "R\n",
        "این تابع را پیاده کنید و در نهایت جوابتان را با تابع پایه‌ی متناظر توزیع دوجمله‌ای با\n",
        "$n = 1$\n",
        "مقایسه کنید.\n",
        "</font>\n",
        "</div>"
      ],
      "metadata": {
        "id": "W8Ltpm-VzFUJ"
      }
    },
    {
      "cell_type": "code",
      "source": [
        "set.seed(42)\n",
        "\n",
        "rbern <- function(n_realizations = 1, p = 0.5) {\n",
        "  return (\n",
        "    ######################################################################\n",
        "    # TODO: Implement the bernoulli realization function                 #\n",
        "    # only use the built-in binomial distribution in R to check your     #\n",
        "    # results.                                                           #\n",
        "    #                                                                    #\n",
        "    # use the basic finctions that you learned in the R tutorial of this #\n",
        "    # course for your implementation.                                    #\n",
        "    ######################################################################\n",
        "    sample(\n",
        "      x= c(0,1),\n",
        "      replace = TRUE,\n",
        "      size=n_realizations,\n",
        "      prob = c(1-p , p)\n",
        "    )\n",
        "    )\n",
        "}\n",
        "\n",
        "rbern(10, 0.4)"
      ],
      "metadata": {
        "id": "L-W67WkD1f5D",
        "colab": {
          "base_uri": "https://localhost:8080/",
          "height": 34
        },
        "outputId": "3d2a209a-59fa-492e-e9da-09375cdd5f3a"
      },
      "execution_count": null,
      "outputs": [
        {
          "output_type": "display_data",
          "data": {
            "text/html": [
              "<style>\n",
              ".list-inline {list-style: none; margin:0; padding: 0}\n",
              ".list-inline>li {display: inline-block}\n",
              ".list-inline>li:not(:last-child)::after {content: \"\\00b7\"; padding: 0 .5ex}\n",
              "</style>\n",
              "<ol class=list-inline><li>1</li><li>1</li><li>0</li><li>1</li><li>1</li><li>0</li><li>1</li><li>0</li><li>1</li><li>1</li></ol>\n"
            ],
            "text/markdown": "1. 1\n2. 1\n3. 0\n4. 1\n5. 1\n6. 0\n7. 1\n8. 0\n9. 1\n10. 1\n\n\n",
            "text/latex": "\\begin{enumerate*}\n\\item 1\n\\item 1\n\\item 0\n\\item 1\n\\item 1\n\\item 0\n\\item 1\n\\item 0\n\\item 1\n\\item 1\n\\end{enumerate*}\n",
            "text/plain": [
              " [1] 1 1 0 1 1 0 1 0 1 1"
            ]
          },
          "metadata": {}
        }
      ]
    },
    {
      "cell_type": "code",
      "source": [
        "set.seed(42)\n",
        "\n",
        "rbinom(10, 1, 0.4)"
      ],
      "metadata": {
        "colab": {
          "base_uri": "https://localhost:8080/",
          "height": 34
        },
        "id": "o1YZgmogqSt_",
        "outputId": "8746e126-6436-404f-fadf-935f9106ab03"
      },
      "execution_count": null,
      "outputs": [
        {
          "output_type": "display_data",
          "data": {
            "text/html": [
              "<style>\n",
              ".list-inline {list-style: none; margin:0; padding: 0}\n",
              ".list-inline>li {display: inline-block}\n",
              ".list-inline>li:not(:last-child)::after {content: \"\\00b7\"; padding: 0 .5ex}\n",
              "</style>\n",
              "<ol class=list-inline><li>1</li><li>1</li><li>0</li><li>1</li><li>1</li><li>0</li><li>1</li><li>0</li><li>1</li><li>1</li></ol>\n"
            ],
            "text/markdown": "1. 1\n2. 1\n3. 0\n4. 1\n5. 1\n6. 0\n7. 1\n8. 0\n9. 1\n10. 1\n\n\n",
            "text/latex": "\\begin{enumerate*}\n\\item 1\n\\item 1\n\\item 0\n\\item 1\n\\item 1\n\\item 0\n\\item 1\n\\item 0\n\\item 1\n\\item 1\n\\end{enumerate*}\n",
            "text/plain": [
              " [1] 1 1 0 1 1 0 1 0 1 1"
            ]
          },
          "metadata": {}
        }
      ]
    },
    {
      "cell_type": "markdown",
      "source": [
        "<div dir='rtl'>\n",
        "<font face='XB Zar' size='4'>\n",
        "جواب نهایی‌تان باید با جواب زیر تطابق داشته باشد.\n",
        "</font>\n",
        "</div>\n",
        "\n",
        "`1 1 0 1 1 0 1 0 1 1`"
      ],
      "metadata": {
        "id": "8KCnAg_6Zb-2"
      }
    },
    {
      "cell_type": "markdown",
      "source": [
        "<div dir='rtl'>\n",
        "<font face='XB Zar' size='4'>\n",
        "می‌دانیم توزیع دوجمله‌ای از جمع چند متغیر تصادفی برنولی به وجود می‌آید. تابع\n",
        "</font>\n",
        "</div>\n",
        "\n",
        "`rbinomial(n_realizations, n, p)`\n",
        "\n",
        "<div dir='rtl'>\n",
        "<font face='XB Zar' size='4'>\n",
        "را با استفاده از این نکته (تابع\n",
        "rbern)\n",
        " و توابع تکرار ساخته‌شده در\n",
        "R\n",
        " کامل کنید.\n",
        "</font>\n",
        "</div>"
      ],
      "metadata": {
        "id": "axhCfbGSbG50"
      }
    },
    {
      "cell_type": "code",
      "source": [
        "set.seed(42)\n",
        "\n",
        "rbinomial <- function(n_realizations, n, p){\n",
        "  return (\n",
        "    replicate(n_realizations, sum(rbern(n,p)))\n",
        "    ######################################################################\n",
        "    # TODO: Implement the binomial realization function                  #\n",
        "    #                                                                    #\n",
        "    # use the basic finctions that you learned in the R tutorial of this #\n",
        "    # course and rbern() function you developed earlier.                 #\n",
        "    #                                                                    #\n",
        "    ######################################################################\n",
        "  )\n",
        "}\n",
        "\n",
        "rbinomial(7, 5, 0.2)"
      ],
      "metadata": {
        "id": "JIKm4E-lZ71n",
        "colab": {
          "base_uri": "https://localhost:8080/",
          "height": 34
        },
        "outputId": "2e48fe14-7a8d-4c98-f79f-9e1443015e07"
      },
      "execution_count": null,
      "outputs": [
        {
          "output_type": "display_data",
          "data": {
            "text/html": [
              "<style>\n",
              ".list-inline {list-style: none; margin:0; padding: 0}\n",
              ".list-inline>li {display: inline-block}\n",
              ".list-inline>li:not(:last-child)::after {content: \"\\00b7\"; padding: 0 .5ex}\n",
              "</style>\n",
              "<ol class=list-inline><li>3</li><li>0</li><li>1</li><li>2</li><li>3</li><li>2</li><li>1</li></ol>\n"
            ],
            "text/markdown": "1. 3\n2. 0\n3. 1\n4. 2\n5. 3\n6. 2\n7. 1\n\n\n",
            "text/latex": "\\begin{enumerate*}\n\\item 3\n\\item 0\n\\item 1\n\\item 2\n\\item 3\n\\item 2\n\\item 1\n\\end{enumerate*}\n",
            "text/plain": [
              "[1] 3 0 1 2 3 2 1"
            ]
          },
          "metadata": {}
        }
      ]
    },
    {
      "cell_type": "markdown",
      "source": [
        "<div dir='rtl'>\n",
        "<font face='XB Zar' size='4'>\n",
        "جواب نهایی‌تان باید با جواب زیر تطابق داشته باشد.\n",
        "</font>\n",
        "</div>\n",
        "\n",
        "`3 0 1 2 3 2 1`"
      ],
      "metadata": {
        "id": "Uq5fg4rJ0-5F"
      }
    },
    {
      "cell_type": "markdown",
      "source": [
        "<div dir='rtl'>\n",
        "<font face='B Titr' size='4'>\n",
        "<h1> مثال 2: توزیع فوق‌هندسی (HyperGeometric)\n",
        "</h1>\n",
        "</font>\n",
        "</div>"
      ],
      "metadata": {
        "id": "0XGAGIFF1Vsg"
      }
    },
    {
      "cell_type": "markdown",
      "source": [
        "<div dir='rtl'>\n",
        "<font face='XB Zar' size='4'>\n",
        "توزیع فوق‌هندسی نیز با سه تابع در\n",
        "R\n",
        "مرتبط است:\n",
        "</font>\n",
        "</div>\n",
        "\n",
        "`dhyper` , `phyper` , `rhyper`\n",
        "\n",
        "<div dir='rtl'>\n",
        "<font face='XB Zar' size='4'>\n",
        "همانطور که مورد انتظار است این سه تابع به ترتیب توزیع جرمی، تجمعی و تابع تحقق متغیر تصادفی فوق‌هندسی هستند.\n",
        "<br/>\n",
        "چون توزیع فوق‌هندسی سه پارامتر دارد، هر کدام از این توزیع‌ها چهار ورودی می‌گیرند.\n",
        "<br/>\n",
        "برای توابع\n",
        "</font>\n",
        "</div>\n",
        "\n",
        "`dhyper` , `phyper`\n",
        "\n",
        "<div dir='rtl'>\n",
        "<font face='XB Zar' size='4'>\n",
        "ورودی اول مقداری است مقداری است که می‌خواهیم تابع توزیع جرمی یا تجمعی را در آن بررسی کنیم، و بقیه‌ی ورودی‌ها پارامترهای توزیع هستند.\n",
        "<br/>\n",
        "بنابراین\n",
        "</font>\n",
        "</div>\n",
        "\n",
        "`dhyper(k,w,b,n)` $= P(X = k)$\n",
        "\n",
        "<div dir='rtl'>\n",
        "<font face='XB Zar' size='4'>\n",
        "به نحوی که\n",
        "</font>\n",
        "</div>\n",
        "\n",
        "$X$ ~ $HGeom(w, b, n)$\n",
        "\n",
        "<div dir='rtl'>\n",
        "<font face='XB Zar' size='4'>\n",
        "و\n",
        "</font>\n",
        "</div>\n",
        "\n",
        "`phyper(k,w,b,n)` $= P(X ≤ k)$\n",
        "\n",
        "<div dir='rtl'>\n",
        "<font face='XB Zar' size='4'>\n",
        "برای تابع\n",
        "</font>\n",
        "</div>\n",
        "\n",
        "`rhyper`\n",
        "\n",
        "<div dir='rtl'>\n",
        "<font face='XB Zar' size='4'>\n",
        "اولین ورودی تعداد تحقق‌های متغیر تصادفی فوق‌هندسی است و بقیه‌ی ورودی‌ها پارامترهای توزیع هستند. یعنی\n",
        "</font>\n",
        "</div>\n",
        "\n",
        "`rhyper(100,w,b,n)`\n",
        "\n",
        "<div dir='rtl'>\n",
        "<font face='XB Zar' size='4'>\n",
        "تعداد 100 تحقق از متغیر تصادفی مستقل و هم‌توزیع\n",
        "$HGeom(w, b, n)$\n",
        "تولید می‌کند.\n",
        "</font>\n",
        "</div>"
      ],
      "metadata": {
        "id": "Z2VItySaKH-Y"
      }
    },
    {
      "cell_type": "markdown",
      "source": [
        "<div dir='rtl'>\n",
        "<font face='B Titr' size='4'>\n",
        "<h1> تمرین 2\n",
        "</h1>\n",
        "</font>\n",
        "</div>"
      ],
      "metadata": {
        "id": "hNRlwHZGQuRn"
      }
    },
    {
      "cell_type": "markdown",
      "source": [
        "<div dir='rtl'>\n",
        "\n",
        "<font face='XB Zar' size='4'>\n",
        "با استفاده از توابعی که در این نوتبوک آموختید به سوال زیر پاسخ دهید.\n",
        "<br/>\n",
        "فرض کنید در طول یک روز شما به صورت متوسط 12 ایمیل دریافت می‌کنید، با فرض این که احتمال دریافت ایمیل در هر ساعتی از روز برابر است، احتمال این را که در یک ساعت 3 ایمیل دریافت کنید به دو روش محاسبه کنید:\n",
        "<br/>\n",
        "1-\n",
        "روز را به بازه‌های خیلی کوچک بشکنید (برای مثال ثانیه) و احتمال دریافت ایمیل در ‌یکی از این بازه‌ها را حساب کنید، سپس بازه‌ی خواسته‌شده در سوال را با واحد زمانی‌ای که انتخاب کردید تطابق دهید.\n",
        "<br/>\n",
        "2-\n",
        "از قانون اتفاقات نادر\n",
        "(Law of The Rare Events)\n",
        "یا توزیعی که برای مدل کردن مستقیم این مساله مناسب است استفاده کنید.\n",
        "</font>\n",
        "</div>"
      ],
      "metadata": {
        "id": "j5dmlmsTYCNr"
      }
    },
    {
      "cell_type": "code",
      "source": [
        "total_seconds <- 24*60*60\n",
        "seconds_with_Email <- 12\n",
        "nemoone_size <- 60*60\n",
        "\n",
        "dhyper(3, seconds_with_Email,(total_seconds - seconds_with_Email),nemoone_size);\n",
        "\n",
        "######################################################################\n",
        "# TODO: Find probability of getting 3 emails in one hour by          #\n",
        "# partitioning the day into small intervalls                         #\n",
        "#                                                                    #\n",
        "# use the  finctions that you learned in the this notebook.          #\n",
        "#                                                                    #\n",
        "######################################################################"
      ],
      "metadata": {
        "id": "kI8bqoBTQBdo",
        "colab": {
          "base_uri": "https://localhost:8080/",
          "height": 34
        },
        "outputId": "a55a7bd1-6ce2-46df-8af3-926460172a4b"
      },
      "execution_count": null,
      "outputs": [
        {
          "output_type": "display_data",
          "data": {
            "text/html": [
              "0.0108447425345064"
            ],
            "text/markdown": "0.0108447425345064",
            "text/latex": "0.0108447425345064",
            "text/plain": [
              "[1] 0.01084474"
            ]
          },
          "metadata": {}
        }
      ]
    },
    {
      "cell_type": "code",
      "source": [
        "\n",
        "######################################################################\n",
        "# TODO: Find probability of getting 3 emails in one hour by using    #\n",
        "# the Law of The Rare Events or by using the appropriate             #\n",
        "# distribution for modeling this question                            #\n",
        "#                                                                    #\n",
        "# use the  finctions that you learned in the this notebook.          #\n",
        "#                                                                    #\n",
        "######################################################################"
      ],
      "metadata": {
        "id": "DiAcEaAshWIr"
      },
      "execution_count": null,
      "outputs": []
    },
    {
      "cell_type": "markdown",
      "source": [
        "<div dir='rtl'>\n",
        "<font face='B Titr' size='4'>\n",
        "<h1> تمرین 3\n",
        "</h1>\n",
        "</font>\n",
        "</div>"
      ],
      "metadata": {
        "id": "3ULFYkuFh_8g"
      }
    },
    {
      "cell_type": "markdown",
      "source": [
        "<div dir='rtl'>\n",
        "<font face='XB Zar' size='4'>\n",
        "یک دسته‌ی 100 تایی فیوز برق از تست کنترل کیفیت رد می‌شود اگر نمونه‌ی 5 تایی گرفته‌شده از آن همگی سالم باشند. فرض کنید در این دسته 20 عدد فیوز ناسالم وجود دارد. احتمال این که این دسته پذیرفته شود را بیابید.\n",
        "</font>\n",
        "</div>"
      ],
      "metadata": {
        "id": "MrOHPLaV-HJe"
      }
    },
    {
      "cell_type": "code",
      "source": [
        "dhyper(5,100,20,5)\n",
        "\n",
        "dhyper(3,100,5,3)\n",
        "######################################################################\n",
        "# TODO: Find probability of accepting this batch of fuses            #\n",
        "#                                                                    #\n",
        "# use the  finctions that you learned in the this notebook.          #\n",
        "#                                                                    #\n",
        "######################################################################"
      ],
      "metadata": {
        "id": "yL_cSt8jhglu",
        "outputId": "853c6411-ec2f-4a05-b461-07e2b7613923",
        "colab": {
          "base_uri": "https://localhost:8080/",
          "height": 52
        }
      },
      "execution_count": null,
      "outputs": [
        {
          "output_type": "display_data",
          "data": {
            "text/html": [
              "0.395048276919903"
            ],
            "text/markdown": "0.395048276919903",
            "text/latex": "0.395048276919903",
            "text/plain": [
              "[1] 0.3950483"
            ]
          },
          "metadata": {}
        },
        {
          "output_type": "display_data",
          "data": {
            "text/html": [
              "0.862584017923824"
            ],
            "text/markdown": "0.862584017923824",
            "text/latex": "0.862584017923824",
            "text/plain": [
              "[1] 0.862584"
            ]
          },
          "metadata": {}
        }
      ]
    },
    {
      "cell_type": "markdown",
      "source": [
        "\n",
        "<div dir='rtl'>\n",
        "<font face='XB Zar' size='4'>\n",
        "حال فرض کنید به جای 100 عدد فیوز، 1,000,000 عدد فیوز داشتیم که 100 عدد از آن‌ها ناسالم بودند. نشان دهید احتمال این که با یک نمونه‌ی 10 تایی این دسته را بپذیریم وابسته به این نیست که این نمونه با جایگذاری به دست آمده است یا بدون جایگذاری.\n",
        "<br/>\n",
        "<br/>\n",
        "علت این اتفاق را بنویسید.\n",
        "\n",
        "چون در هر صورت احتمال انتخاب فیوز سالم نزدیک به 1 است و تفاوت یک بازگشت در تعداد زیادی از فیوز ها تاثیر گذار نیست.\n",
        "</font>\n",
        "</div>"
      ],
      "metadata": {
        "id": "i2VCtwcbCAA5"
      }
    },
    {
      "cell_type": "code",
      "source": [
        "dhyper(10,1000000,100,10)\n",
        "\n",
        "dbinom(10,10,0.9999)\n",
        "######################################################################\n",
        "# TODO: show that in this problem probability is independent of      #\n",
        "# replacement.                                                       #\n",
        "# use the  finctions that you learned in the this notebook.          #\n",
        "#                                                                    #\n",
        "######################################################################"
      ],
      "metadata": {
        "id": "XeW4Qa_XDTFM",
        "outputId": "22d18a47-21e9-4702-ab56-bbc1f448bb04",
        "colab": {
          "base_uri": "https://localhost:8080/",
          "height": 52
        }
      },
      "execution_count": null,
      "outputs": [
        {
          "output_type": "display_data",
          "data": {
            "text/html": [
              "0.99900054528499"
            ],
            "text/markdown": "0.99900054528499",
            "text/latex": "0.99900054528499",
            "text/plain": [
              "[1] 0.9990005"
            ]
          },
          "metadata": {}
        },
        {
          "output_type": "display_data",
          "data": {
            "text/html": [
              "0.999000449880021"
            ],
            "text/markdown": "0.999000449880021",
            "text/latex": "0.999000449880021",
            "text/plain": [
              "[1] 0.9990004"
            ]
          },
          "metadata": {}
        }
      ]
    }
  ]
}