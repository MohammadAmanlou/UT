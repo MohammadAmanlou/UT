{
 "cells": [
  {
   "cell_type": "markdown",
   "metadata": {},
   "source": [
    "<img src='sharif_logo.png' alt=\"SUT logo\" width=150 height=150 align=left class=\"saturate\" >\n",
    "\n",
    "<br>\n",
    "<font face=\"Times New Roman\">\n",
    "<div dir=ltr align=center>\n",
    "<font color=0F5298 size=7>\n",
    " Deep Learning <br>\n",
    "<font color=2565AE size=5>\n",
    "Computer Engineering Department - Spring 2025  <br>\n",
    "<font color=3C99D size=5>\n",
    "          Homework 3: Practical - Oil Price Forecasting\n",
    " <br>\n",
    "<font color=696880 size=4>\n",
    "            Designer: Mohammad Amanlou\n",
    "    \n",
    "    "
   ]
  },
  {
   "cell_type": "markdown",
   "metadata": {},
   "source": [
    "# 🛢️ Oil Price Prediction using Time Series Models 📈\n",
    "\n",
    "This notebook is designed for students to complete tasks related to oil price prediction using different machine learning models. 🚀\n",
    "\n",
    "## 📚 References\n",
    "- 📊 [Dataset: Yahoo Finance - CL=F](https://finance.yahoo.com/quote/CL=F/history/)\n",
    "- 📄 [Reference Paper](https://www.ijournalse.org/index.php/ESJ/article/view/21497)"
   ]
  },
  {
   "cell_type": "markdown",
   "metadata": {},
   "source": [
    "## 1️⃣ Introduction\n",
    "🔍 One of the most common applications of recurrent neural networks is **time series forecasting**. In this assignment, you will predict **crude oil prices** using four different methods. 💡\n",
    "\n",
    "## 2️⃣ Dataset and Preprocessing\n",
    "\n",
    "### 📥 2.1 Download Dataset\n",
    "📌 Download the dataset from **Yahoo Finance** for `CL=F` from **2010 to the present**.\n",
    "[Yahoo Finance - CL=F](https://finance.yahoo.com/quote/CL=F/history/)\n",
    "\n",
    "### 🎯 2.2 Select Features\n",
    "✅ Select the `Adj Close` column as the **main feature**.\n",
    "\n",
    "### ⚠️ 2.3 Handle Missing Data\n",
    "- Some dates have missing values (`null`). Additionally, **remove 10% of the recorded values randomly**.\n",
    "- Implement methods to **replace missing values** and complete the dataset.\n",
    "\n",
    "🛠 *Your task:* Implement the missing data handling methods below."
   ]
  },
  {
   "cell_type": "code",
   "execution_count": null,
   "metadata": {},
   "outputs": [],
   "source": []
  },
  {
   "cell_type": "markdown",
   "metadata": {},
   "source": [
    "### ✂️ 2.4 Train-Test Split and Normalization\n",
    "- **Split** the dataset into **training and test sets** based on the ratio given in the reference paper.\n",
    "- **Normalize** the data.\n",
    "\n",
    "📄 [Reference Paper](https://www.ijournalse.org/index.php/ESJ/article/view/21497)\n",
    "\n",
    "🛠 *Your task:* Implement the splitting and normalization below."
   ]
  },
  {
   "cell_type": "code",
   "execution_count": null,
   "metadata": {},
   "outputs": [],
   "source": []
  },
  {
   "cell_type": "markdown",
   "metadata": {},
   "source": [
    "### 📊 2.5 Data Visualization\n",
    "- **Plot a histogram** similar to **Figure 6** in the reference paper, showing the **distribution of oil prices**.\n",
    "\n",
    "🛠 *Your task:* Implement the histogram plot below."
   ]
  },
  {
   "cell_type": "code",
   "execution_count": null,
   "metadata": {},
   "outputs": [],
   "source": []
  },
  {
   "cell_type": "markdown",
   "metadata": {},
   "source": [
    "## 3️⃣ Implementing Deep Learning Models 🤖\n",
    "\n",
    "The reference paper utilizes **four models** for time series forecasting:\n",
    "- `RNN`\n",
    "- `LSTM`\n",
    "- `Bi-LSTM`\n",
    "- `GRU`\n",
    "\n",
    "📌 **Train** each model using the **hyperparameters** given in **Table 4** of the paper.\n",
    "📌 Use `Mean Square Error (MSE)` as the **loss function**.\n",
    "\n",
    "📄 [Reference Paper](https://www.ijournalse.org/index.php/ESJ/article/view/21497)\n",
    "\n",
    "🛠 *Your task:* Implement these models below."
   ]
  },
  {
   "cell_type": "code",
   "execution_count": null,
   "metadata": {},
   "outputs": [],
   "source": []
  },
  {
   "cell_type": "markdown",
   "metadata": {},
   "source": [
    "### 📈 3.1 Prediction and Evaluation\n",
    "- **Plot the predicted values** alongside **actual values** for each model.\n",
    "\n",
    "🛠 *Your task:* Implement the visualization of predictions below."
   ]
  },
  {
   "cell_type": "code",
   "execution_count": null,
   "metadata": {},
   "outputs": [],
   "source": []
  },
  {
   "cell_type": "markdown",
   "metadata": {},
   "source": [
    "### 📊 3.2 Error Metrics\n",
    "📌 Explain the following **error metrics** used in the paper:\n",
    "- `RMSE` (Root Mean Square Error)\n",
    "- `MAE` (Mean Absolute Error)\n",
    "- `MAPE` (Mean Absolute Percentage Error)\n",
    "- `R-Squared` (Coefficient of Determination)\n",
    "\n",
    "📌 Compute these metrics for **each model** and **compare the results** with the paper.\n",
    "\n",
    "🛠 *Your task:* Implement the evaluation metrics below."
   ]
  },
  {
   "cell_type": "code",
   "execution_count": null,
   "metadata": {},
   "outputs": [],
   "source": []
  },
  {
   "cell_type": "markdown",
   "metadata": {},
   "source": [
    "## 4️⃣ ARIMA Model 📉\n",
    "\n",
    "📌 Explain the **difference** between `ARIMA` and `SARIMA` models.\n",
    "\n",
    "📌 List the **advantages** and **limitations** of `ARIMA`.\n",
    "\n",
    "📌 Explain the **mathematical formulation** of `ARIMA`, including its **parameters**.\n",
    "\n",
    "📌 Determine the **optimal parameters** for `ARIMA` and **report the results**.\n",
    "\n",
    "📌 Compare the results with **Table 6** from the paper.\n",
    "\n",
    "📄 [Reference Paper](https://www.ijournalse.org/index.php/ESJ/article/view/21497)\n",
    "\n",
    "🛠 *Your task:* Implement the ARIMA model below."
   ]
  },
  {
   "cell_type": "code",
   "execution_count": null,
   "metadata": {},
   "outputs": [],
   "source": []
  },
  {
   "cell_type": "markdown",
   "metadata": {},
   "source": [
    "## 5️⃣ Conclusion 🎯\n",
    "Summarize your **findings**, compare the models, and **discuss** which model performed **best** for oil price prediction. 📊💡\n"
   ]
  },
  {
   "cell_type": "code",
   "execution_count": null,
   "metadata": {},
   "outputs": [],
   "source": []
  }
 ],
 "metadata": {
  "kernelspec": {
   "display_name": "Python 3",
   "language": "python",
   "name": "python3"
  },
  "language_info": {
   "codemirror_mode": {
    "name": "ipython",
    "version": 3
   },
   "file_extension": ".py",
   "mimetype": "text/x-python",
   "name": "python",
   "nbconvert_exporter": "python",
   "pygments_lexer": "ipython3",
   "version": "3.11.9"
  }
 },
 "nbformat": 4,
 "nbformat_minor": 2
}
