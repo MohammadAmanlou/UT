{
  "cells": [
    {
      "cell_type": "markdown",
      "id": "06627216",
      "metadata": {
        "id": "06627216"
      },
      "source": [
        "# <html>\n",
        "   \n",
        "<div style=\"background-image: linear-gradient(to left, rgb(255, 255, 255), rgb(138, 136, 136)); width: auto; margin: 10px;\">\n",
        "  <img src=\"https://upload.wikimedia.org/wikipedia/en/thumb/f/fd/University_of_Tehran_logo.svg/225px-University_of_Tehran_logo.svg.png\" width=100px width=auto style=\"padding:10px; vertical-align: center;\">\n",
        "\n",
        "</div>\n",
        "   \n",
        "<div   style:\"text-align: center; background-image: linear-gradient(to left, rgb(255, 255, 255), rgb( 219, 204, 245  ));width: 400px; height: 30px; \">\n",
        "<h1 style=\"font-family: Georgia; color: black; text-align: center; \">Course: Data Science </h1>\n",
        "\n",
        "</div>\n",
        "    <div   style:\"border: 3px solid green;text-align: center; \">\n",
        "<h1 style=\"font-family: Georgia; color: black; text-align: center; \">CA4-Introduction to Data Science</h1>\n",
        "        <h1 style=\"font-family: Georgia; color: black; text-align: center; \">Team memebers:</h1>\n",
        "\n",
        "</div>\n",
        "\n",
        "   <div>    \n",
        "<h1 style=\"font-family: Georgia; color: black; text-align: center; font-size:15px;\">Shahzad Momayez-sid:810100272 </h1>\n",
        "       <h1 style=\"font-family: Georgia; color: black; text-align: center; font-size:15px;\">Mohammad Amanlou-sid:810100084 </h1>\n",
        "       <h1 style=\"font-family: Georgia; color: black; text-align: center; font-size:15px;\">Amir Mahdi Farzaneh-sid:810100194 </h1>\n",
        "\n",
        "</div>\n",
        "   \n",
        "\n",
        "</html>\n",
        "\n",
        "\n",
        "\n",
        "\n",
        "\n",
        "\n",
        "\n",
        "\n",
        "\n"
      ]
    },
    {
      "cell_type": "markdown",
      "source": [
        "#  The Purpose Of The Assignment\n",
        "The purpose of this assignment was to explore various loss functions and apply gradient descent\n",
        "methods to optimize these functions."
      ],
      "metadata": {
        "id": "ErKGyVLWEBf_"
      },
      "id": "ErKGyVLWEBf_"
    },
    {
      "cell_type": "markdown",
      "id": "02af910e",
      "metadata": {
        "id": "02af910e"
      },
      "source": [
        "<div style=\"background-color: #160aac; padding: 20px; text-align: center;\">\n",
        "    <h1 style=\"font-size: 36px; color: #ffffff;\">Warm Up</h1>\n",
        "</div>"
      ]
    },
    {
      "cell_type": "markdown",
      "source": [
        "## Display the first ten rows"
      ],
      "metadata": {
        "id": "-zD_vwhaedbk"
      },
      "id": "-zD_vwhaedbk"
    },
    {
      "cell_type": "code",
      "execution_count": 112,
      "id": "58be09c3",
      "metadata": {
        "colab": {
          "base_uri": "https://localhost:8080/"
        },
        "id": "58be09c3",
        "outputId": "32651825-8899-45ce-a3be-bd46de605b39"
      },
      "outputs": [
        {
          "output_type": "execute_result",
          "data": {
            "text/plain": [
              "(442, 10)"
            ]
          },
          "metadata": {},
          "execution_count": 112
        }
      ],
      "source": [
        "from sklearn.datasets import load_diabetes\n",
        "import numpy as np\n",
        "import pandas as pd\n",
        "import matplotlib.pyplot as plt\n",
        "\n",
        "diabetes = load_diabetes()\n",
        "diabetes.target[:3]\n",
        "diabetes.data.shape"
      ]
    },
    {
      "cell_type": "code",
      "execution_count": 113,
      "id": "e141765b",
      "metadata": {
        "colab": {
          "base_uri": "https://localhost:8080/"
        },
        "id": "e141765b",
        "outputId": "401a2fa8-5f96-4fd4-c329-e98b1e24123f"
      },
      "outputs": [
        {
          "output_type": "execute_result",
          "data": {
            "text/plain": [
              "(442, 10)"
            ]
          },
          "metadata": {},
          "execution_count": 113
        }
      ],
      "source": [
        "\n",
        "diabetes.data.shape"
      ]
    },
    {
      "cell_type": "code",
      "execution_count": 114,
      "id": "190edbca",
      "metadata": {
        "id": "190edbca"
      },
      "outputs": [],
      "source": [
        "df = pd.DataFrame(diabetes.data, columns=diabetes.feature_names)\n",
        "\n",
        "# Define the target variable (dependent variable) as 'y'\n",
        "df = df.assign(target = diabetes.target)"
      ]
    },
    {
      "cell_type": "markdown",
      "source": [
        "## Display the first ten rows"
      ],
      "metadata": {
        "id": "bJRokonWfN00"
      },
      "id": "bJRokonWfN00"
    },
    {
      "cell_type": "code",
      "execution_count": 115,
      "id": "16616b7c",
      "metadata": {
        "colab": {
          "base_uri": "https://localhost:8080/",
          "height": 363
        },
        "id": "16616b7c",
        "outputId": "d843e886-1591-43ff-b4e5-bf5c291236ec"
      },
      "outputs": [
        {
          "output_type": "execute_result",
          "data": {
            "text/plain": [
              "        age       sex       bmi        bp        s1        s2        s3  \\\n",
              "0  0.038076  0.050680  0.061696  0.021872 -0.044223 -0.034821 -0.043401   \n",
              "1 -0.001882 -0.044642 -0.051474 -0.026328 -0.008449 -0.019163  0.074412   \n",
              "2  0.085299  0.050680  0.044451 -0.005670 -0.045599 -0.034194 -0.032356   \n",
              "3 -0.089063 -0.044642 -0.011595 -0.036656  0.012191  0.024991 -0.036038   \n",
              "4  0.005383 -0.044642 -0.036385  0.021872  0.003935  0.015596  0.008142   \n",
              "5 -0.092695 -0.044642 -0.040696 -0.019442 -0.068991 -0.079288  0.041277   \n",
              "6 -0.045472  0.050680 -0.047163 -0.015999 -0.040096 -0.024800  0.000779   \n",
              "7  0.063504  0.050680 -0.001895  0.066629  0.090620  0.108914  0.022869   \n",
              "8  0.041708  0.050680  0.061696 -0.040099 -0.013953  0.006202 -0.028674   \n",
              "9 -0.070900 -0.044642  0.039062 -0.033213 -0.012577 -0.034508 -0.024993   \n",
              "\n",
              "         s4        s5        s6  target  \n",
              "0 -0.002592  0.019907 -0.017646   151.0  \n",
              "1 -0.039493 -0.068332 -0.092204    75.0  \n",
              "2 -0.002592  0.002861 -0.025930   141.0  \n",
              "3  0.034309  0.022688 -0.009362   206.0  \n",
              "4 -0.002592 -0.031988 -0.046641   135.0  \n",
              "5 -0.076395 -0.041176 -0.096346    97.0  \n",
              "6 -0.039493 -0.062917 -0.038357   138.0  \n",
              "7  0.017703 -0.035816  0.003064    63.0  \n",
              "8 -0.002592 -0.014960  0.011349   110.0  \n",
              "9 -0.002592  0.067737 -0.013504   310.0  "
            ],
            "text/html": [
              "\n",
              "  <div id=\"df-dfabae82-f505-4b6b-82a8-bac46d1f9626\" class=\"colab-df-container\">\n",
              "    <div>\n",
              "<style scoped>\n",
              "    .dataframe tbody tr th:only-of-type {\n",
              "        vertical-align: middle;\n",
              "    }\n",
              "\n",
              "    .dataframe tbody tr th {\n",
              "        vertical-align: top;\n",
              "    }\n",
              "\n",
              "    .dataframe thead th {\n",
              "        text-align: right;\n",
              "    }\n",
              "</style>\n",
              "<table border=\"1\" class=\"dataframe\">\n",
              "  <thead>\n",
              "    <tr style=\"text-align: right;\">\n",
              "      <th></th>\n",
              "      <th>age</th>\n",
              "      <th>sex</th>\n",
              "      <th>bmi</th>\n",
              "      <th>bp</th>\n",
              "      <th>s1</th>\n",
              "      <th>s2</th>\n",
              "      <th>s3</th>\n",
              "      <th>s4</th>\n",
              "      <th>s5</th>\n",
              "      <th>s6</th>\n",
              "      <th>target</th>\n",
              "    </tr>\n",
              "  </thead>\n",
              "  <tbody>\n",
              "    <tr>\n",
              "      <th>0</th>\n",
              "      <td>0.038076</td>\n",
              "      <td>0.050680</td>\n",
              "      <td>0.061696</td>\n",
              "      <td>0.021872</td>\n",
              "      <td>-0.044223</td>\n",
              "      <td>-0.034821</td>\n",
              "      <td>-0.043401</td>\n",
              "      <td>-0.002592</td>\n",
              "      <td>0.019907</td>\n",
              "      <td>-0.017646</td>\n",
              "      <td>151.0</td>\n",
              "    </tr>\n",
              "    <tr>\n",
              "      <th>1</th>\n",
              "      <td>-0.001882</td>\n",
              "      <td>-0.044642</td>\n",
              "      <td>-0.051474</td>\n",
              "      <td>-0.026328</td>\n",
              "      <td>-0.008449</td>\n",
              "      <td>-0.019163</td>\n",
              "      <td>0.074412</td>\n",
              "      <td>-0.039493</td>\n",
              "      <td>-0.068332</td>\n",
              "      <td>-0.092204</td>\n",
              "      <td>75.0</td>\n",
              "    </tr>\n",
              "    <tr>\n",
              "      <th>2</th>\n",
              "      <td>0.085299</td>\n",
              "      <td>0.050680</td>\n",
              "      <td>0.044451</td>\n",
              "      <td>-0.005670</td>\n",
              "      <td>-0.045599</td>\n",
              "      <td>-0.034194</td>\n",
              "      <td>-0.032356</td>\n",
              "      <td>-0.002592</td>\n",
              "      <td>0.002861</td>\n",
              "      <td>-0.025930</td>\n",
              "      <td>141.0</td>\n",
              "    </tr>\n",
              "    <tr>\n",
              "      <th>3</th>\n",
              "      <td>-0.089063</td>\n",
              "      <td>-0.044642</td>\n",
              "      <td>-0.011595</td>\n",
              "      <td>-0.036656</td>\n",
              "      <td>0.012191</td>\n",
              "      <td>0.024991</td>\n",
              "      <td>-0.036038</td>\n",
              "      <td>0.034309</td>\n",
              "      <td>0.022688</td>\n",
              "      <td>-0.009362</td>\n",
              "      <td>206.0</td>\n",
              "    </tr>\n",
              "    <tr>\n",
              "      <th>4</th>\n",
              "      <td>0.005383</td>\n",
              "      <td>-0.044642</td>\n",
              "      <td>-0.036385</td>\n",
              "      <td>0.021872</td>\n",
              "      <td>0.003935</td>\n",
              "      <td>0.015596</td>\n",
              "      <td>0.008142</td>\n",
              "      <td>-0.002592</td>\n",
              "      <td>-0.031988</td>\n",
              "      <td>-0.046641</td>\n",
              "      <td>135.0</td>\n",
              "    </tr>\n",
              "    <tr>\n",
              "      <th>5</th>\n",
              "      <td>-0.092695</td>\n",
              "      <td>-0.044642</td>\n",
              "      <td>-0.040696</td>\n",
              "      <td>-0.019442</td>\n",
              "      <td>-0.068991</td>\n",
              "      <td>-0.079288</td>\n",
              "      <td>0.041277</td>\n",
              "      <td>-0.076395</td>\n",
              "      <td>-0.041176</td>\n",
              "      <td>-0.096346</td>\n",
              "      <td>97.0</td>\n",
              "    </tr>\n",
              "    <tr>\n",
              "      <th>6</th>\n",
              "      <td>-0.045472</td>\n",
              "      <td>0.050680</td>\n",
              "      <td>-0.047163</td>\n",
              "      <td>-0.015999</td>\n",
              "      <td>-0.040096</td>\n",
              "      <td>-0.024800</td>\n",
              "      <td>0.000779</td>\n",
              "      <td>-0.039493</td>\n",
              "      <td>-0.062917</td>\n",
              "      <td>-0.038357</td>\n",
              "      <td>138.0</td>\n",
              "    </tr>\n",
              "    <tr>\n",
              "      <th>7</th>\n",
              "      <td>0.063504</td>\n",
              "      <td>0.050680</td>\n",
              "      <td>-0.001895</td>\n",
              "      <td>0.066629</td>\n",
              "      <td>0.090620</td>\n",
              "      <td>0.108914</td>\n",
              "      <td>0.022869</td>\n",
              "      <td>0.017703</td>\n",
              "      <td>-0.035816</td>\n",
              "      <td>0.003064</td>\n",
              "      <td>63.0</td>\n",
              "    </tr>\n",
              "    <tr>\n",
              "      <th>8</th>\n",
              "      <td>0.041708</td>\n",
              "      <td>0.050680</td>\n",
              "      <td>0.061696</td>\n",
              "      <td>-0.040099</td>\n",
              "      <td>-0.013953</td>\n",
              "      <td>0.006202</td>\n",
              "      <td>-0.028674</td>\n",
              "      <td>-0.002592</td>\n",
              "      <td>-0.014960</td>\n",
              "      <td>0.011349</td>\n",
              "      <td>110.0</td>\n",
              "    </tr>\n",
              "    <tr>\n",
              "      <th>9</th>\n",
              "      <td>-0.070900</td>\n",
              "      <td>-0.044642</td>\n",
              "      <td>0.039062</td>\n",
              "      <td>-0.033213</td>\n",
              "      <td>-0.012577</td>\n",
              "      <td>-0.034508</td>\n",
              "      <td>-0.024993</td>\n",
              "      <td>-0.002592</td>\n",
              "      <td>0.067737</td>\n",
              "      <td>-0.013504</td>\n",
              "      <td>310.0</td>\n",
              "    </tr>\n",
              "  </tbody>\n",
              "</table>\n",
              "</div>\n",
              "    <div class=\"colab-df-buttons\">\n",
              "\n",
              "  <div class=\"colab-df-container\">\n",
              "    <button class=\"colab-df-convert\" onclick=\"convertToInteractive('df-dfabae82-f505-4b6b-82a8-bac46d1f9626')\"\n",
              "            title=\"Convert this dataframe to an interactive table.\"\n",
              "            style=\"display:none;\">\n",
              "\n",
              "  <svg xmlns=\"http://www.w3.org/2000/svg\" height=\"24px\" viewBox=\"0 -960 960 960\">\n",
              "    <path d=\"M120-120v-720h720v720H120Zm60-500h600v-160H180v160Zm220 220h160v-160H400v160Zm0 220h160v-160H400v160ZM180-400h160v-160H180v160Zm440 0h160v-160H620v160ZM180-180h160v-160H180v160Zm440 0h160v-160H620v160Z\"/>\n",
              "  </svg>\n",
              "    </button>\n",
              "\n",
              "  <style>\n",
              "    .colab-df-container {\n",
              "      display:flex;\n",
              "      gap: 12px;\n",
              "    }\n",
              "\n",
              "    .colab-df-convert {\n",
              "      background-color: #E8F0FE;\n",
              "      border: none;\n",
              "      border-radius: 50%;\n",
              "      cursor: pointer;\n",
              "      display: none;\n",
              "      fill: #1967D2;\n",
              "      height: 32px;\n",
              "      padding: 0 0 0 0;\n",
              "      width: 32px;\n",
              "    }\n",
              "\n",
              "    .colab-df-convert:hover {\n",
              "      background-color: #E2EBFA;\n",
              "      box-shadow: 0px 1px 2px rgba(60, 64, 67, 0.3), 0px 1px 3px 1px rgba(60, 64, 67, 0.15);\n",
              "      fill: #174EA6;\n",
              "    }\n",
              "\n",
              "    .colab-df-buttons div {\n",
              "      margin-bottom: 4px;\n",
              "    }\n",
              "\n",
              "    [theme=dark] .colab-df-convert {\n",
              "      background-color: #3B4455;\n",
              "      fill: #D2E3FC;\n",
              "    }\n",
              "\n",
              "    [theme=dark] .colab-df-convert:hover {\n",
              "      background-color: #434B5C;\n",
              "      box-shadow: 0px 1px 3px 1px rgba(0, 0, 0, 0.15);\n",
              "      filter: drop-shadow(0px 1px 2px rgba(0, 0, 0, 0.3));\n",
              "      fill: #FFFFFF;\n",
              "    }\n",
              "  </style>\n",
              "\n",
              "    <script>\n",
              "      const buttonEl =\n",
              "        document.querySelector('#df-dfabae82-f505-4b6b-82a8-bac46d1f9626 button.colab-df-convert');\n",
              "      buttonEl.style.display =\n",
              "        google.colab.kernel.accessAllowed ? 'block' : 'none';\n",
              "\n",
              "      async function convertToInteractive(key) {\n",
              "        const element = document.querySelector('#df-dfabae82-f505-4b6b-82a8-bac46d1f9626');\n",
              "        const dataTable =\n",
              "          await google.colab.kernel.invokeFunction('convertToInteractive',\n",
              "                                                    [key], {});\n",
              "        if (!dataTable) return;\n",
              "\n",
              "        const docLinkHtml = 'Like what you see? Visit the ' +\n",
              "          '<a target=\"_blank\" href=https://colab.research.google.com/notebooks/data_table.ipynb>data table notebook</a>'\n",
              "          + ' to learn more about interactive tables.';\n",
              "        element.innerHTML = '';\n",
              "        dataTable['output_type'] = 'display_data';\n",
              "        await google.colab.output.renderOutput(dataTable, element);\n",
              "        const docLink = document.createElement('div');\n",
              "        docLink.innerHTML = docLinkHtml;\n",
              "        element.appendChild(docLink);\n",
              "      }\n",
              "    </script>\n",
              "  </div>\n",
              "\n",
              "\n",
              "<div id=\"df-10c4f610-4cc5-40e8-8d14-460745e6a18e\">\n",
              "  <button class=\"colab-df-quickchart\" onclick=\"quickchart('df-10c4f610-4cc5-40e8-8d14-460745e6a18e')\"\n",
              "            title=\"Suggest charts\"\n",
              "            style=\"display:none;\">\n",
              "\n",
              "<svg xmlns=\"http://www.w3.org/2000/svg\" height=\"24px\"viewBox=\"0 0 24 24\"\n",
              "     width=\"24px\">\n",
              "    <g>\n",
              "        <path d=\"M19 3H5c-1.1 0-2 .9-2 2v14c0 1.1.9 2 2 2h14c1.1 0 2-.9 2-2V5c0-1.1-.9-2-2-2zM9 17H7v-7h2v7zm4 0h-2V7h2v10zm4 0h-2v-4h2v4z\"/>\n",
              "    </g>\n",
              "</svg>\n",
              "  </button>\n",
              "\n",
              "<style>\n",
              "  .colab-df-quickchart {\n",
              "      --bg-color: #E8F0FE;\n",
              "      --fill-color: #1967D2;\n",
              "      --hover-bg-color: #E2EBFA;\n",
              "      --hover-fill-color: #174EA6;\n",
              "      --disabled-fill-color: #AAA;\n",
              "      --disabled-bg-color: #DDD;\n",
              "  }\n",
              "\n",
              "  [theme=dark] .colab-df-quickchart {\n",
              "      --bg-color: #3B4455;\n",
              "      --fill-color: #D2E3FC;\n",
              "      --hover-bg-color: #434B5C;\n",
              "      --hover-fill-color: #FFFFFF;\n",
              "      --disabled-bg-color: #3B4455;\n",
              "      --disabled-fill-color: #666;\n",
              "  }\n",
              "\n",
              "  .colab-df-quickchart {\n",
              "    background-color: var(--bg-color);\n",
              "    border: none;\n",
              "    border-radius: 50%;\n",
              "    cursor: pointer;\n",
              "    display: none;\n",
              "    fill: var(--fill-color);\n",
              "    height: 32px;\n",
              "    padding: 0;\n",
              "    width: 32px;\n",
              "  }\n",
              "\n",
              "  .colab-df-quickchart:hover {\n",
              "    background-color: var(--hover-bg-color);\n",
              "    box-shadow: 0 1px 2px rgba(60, 64, 67, 0.3), 0 1px 3px 1px rgba(60, 64, 67, 0.15);\n",
              "    fill: var(--button-hover-fill-color);\n",
              "  }\n",
              "\n",
              "  .colab-df-quickchart-complete:disabled,\n",
              "  .colab-df-quickchart-complete:disabled:hover {\n",
              "    background-color: var(--disabled-bg-color);\n",
              "    fill: var(--disabled-fill-color);\n",
              "    box-shadow: none;\n",
              "  }\n",
              "\n",
              "  .colab-df-spinner {\n",
              "    border: 2px solid var(--fill-color);\n",
              "    border-color: transparent;\n",
              "    border-bottom-color: var(--fill-color);\n",
              "    animation:\n",
              "      spin 1s steps(1) infinite;\n",
              "  }\n",
              "\n",
              "  @keyframes spin {\n",
              "    0% {\n",
              "      border-color: transparent;\n",
              "      border-bottom-color: var(--fill-color);\n",
              "      border-left-color: var(--fill-color);\n",
              "    }\n",
              "    20% {\n",
              "      border-color: transparent;\n",
              "      border-left-color: var(--fill-color);\n",
              "      border-top-color: var(--fill-color);\n",
              "    }\n",
              "    30% {\n",
              "      border-color: transparent;\n",
              "      border-left-color: var(--fill-color);\n",
              "      border-top-color: var(--fill-color);\n",
              "      border-right-color: var(--fill-color);\n",
              "    }\n",
              "    40% {\n",
              "      border-color: transparent;\n",
              "      border-right-color: var(--fill-color);\n",
              "      border-top-color: var(--fill-color);\n",
              "    }\n",
              "    60% {\n",
              "      border-color: transparent;\n",
              "      border-right-color: var(--fill-color);\n",
              "    }\n",
              "    80% {\n",
              "      border-color: transparent;\n",
              "      border-right-color: var(--fill-color);\n",
              "      border-bottom-color: var(--fill-color);\n",
              "    }\n",
              "    90% {\n",
              "      border-color: transparent;\n",
              "      border-bottom-color: var(--fill-color);\n",
              "    }\n",
              "  }\n",
              "</style>\n",
              "\n",
              "  <script>\n",
              "    async function quickchart(key) {\n",
              "      const quickchartButtonEl =\n",
              "        document.querySelector('#' + key + ' button');\n",
              "      quickchartButtonEl.disabled = true;  // To prevent multiple clicks.\n",
              "      quickchartButtonEl.classList.add('colab-df-spinner');\n",
              "      try {\n",
              "        const charts = await google.colab.kernel.invokeFunction(\n",
              "            'suggestCharts', [key], {});\n",
              "      } catch (error) {\n",
              "        console.error('Error during call to suggestCharts:', error);\n",
              "      }\n",
              "      quickchartButtonEl.classList.remove('colab-df-spinner');\n",
              "      quickchartButtonEl.classList.add('colab-df-quickchart-complete');\n",
              "    }\n",
              "    (() => {\n",
              "      let quickchartButtonEl =\n",
              "        document.querySelector('#df-10c4f610-4cc5-40e8-8d14-460745e6a18e button');\n",
              "      quickchartButtonEl.style.display =\n",
              "        google.colab.kernel.accessAllowed ? 'block' : 'none';\n",
              "    })();\n",
              "  </script>\n",
              "</div>\n",
              "    </div>\n",
              "  </div>\n"
            ],
            "application/vnd.google.colaboratory.intrinsic+json": {
              "type": "dataframe",
              "variable_name": "df",
              "summary": "{\n  \"name\": \"df\",\n  \"rows\": 442,\n  \"fields\": [\n    {\n      \"column\": \"age\",\n      \"properties\": {\n        \"dtype\": \"number\",\n        \"std\": 0.047619047619047644,\n        \"min\": -0.1072256316073538,\n        \"max\": 0.11072667545381144,\n        \"num_unique_values\": 58,\n        \"samples\": [\n          0.038075906433423026,\n          -0.09269547780327612,\n          0.01991321417832592\n        ],\n        \"semantic_type\": \"\",\n        \"description\": \"\"\n      }\n    },\n    {\n      \"column\": \"sex\",\n      \"properties\": {\n        \"dtype\": \"number\",\n        \"std\": 0.047619047619047665,\n        \"min\": -0.044641636506989144,\n        \"max\": 0.05068011873981862,\n        \"num_unique_values\": 2,\n        \"samples\": [\n          -0.044641636506989144,\n          0.05068011873981862\n        ],\n        \"semantic_type\": \"\",\n        \"description\": \"\"\n      }\n    },\n    {\n      \"column\": \"bmi\",\n      \"properties\": {\n        \"dtype\": \"number\",\n        \"std\": 0.047619047619047616,\n        \"min\": -0.09027529589850945,\n        \"max\": 0.17055522598064407,\n        \"num_unique_values\": 163,\n        \"samples\": [\n          0.008883414898524095,\n          -0.05470749746044306\n        ],\n        \"semantic_type\": \"\",\n        \"description\": \"\"\n      }\n    },\n    {\n      \"column\": \"bp\",\n      \"properties\": {\n        \"dtype\": \"number\",\n        \"std\": 0.047619047619047596,\n        \"min\": -0.11239880254408448,\n        \"max\": 0.13204361674121307,\n        \"num_unique_values\": 100,\n        \"samples\": [\n          0.03333707926361473,\n          0.02531523648988596\n        ],\n        \"semantic_type\": \"\",\n        \"description\": \"\"\n      }\n    },\n    {\n      \"column\": \"s1\",\n      \"properties\": {\n        \"dtype\": \"number\",\n        \"std\": 0.04761904761904759,\n        \"min\": -0.12678066991651324,\n        \"max\": 0.15391371315651542,\n        \"num_unique_values\": 141,\n        \"samples\": [\n          0.041085578784023497,\n          0.08374011738825825\n        ],\n        \"semantic_type\": \"\",\n        \"description\": \"\"\n      }\n    },\n    {\n      \"column\": \"s2\",\n      \"properties\": {\n        \"dtype\": \"number\",\n        \"std\": 0.047619047619047644,\n        \"min\": -0.11561306597939897,\n        \"max\": 0.19878798965729408,\n        \"num_unique_values\": 302,\n        \"samples\": [\n          0.07415490186505921,\n          0.07008397186179521\n        ],\n        \"semantic_type\": \"\",\n        \"description\": \"\"\n      }\n    },\n    {\n      \"column\": \"s3\",\n      \"properties\": {\n        \"dtype\": \"number\",\n        \"std\": 0.047619047619047596,\n        \"min\": -0.10230705051741597,\n        \"max\": 0.18117906039727852,\n        \"num_unique_values\": 63,\n        \"samples\": [\n          0.09281975309919192,\n          0.15908923357275687\n        ],\n        \"semantic_type\": \"\",\n        \"description\": \"\"\n      }\n    },\n    {\n      \"column\": \"s4\",\n      \"properties\": {\n        \"dtype\": \"number\",\n        \"std\": 0.047619047619047616,\n        \"min\": -0.0763945037500033,\n        \"max\": 0.18523444326019867,\n        \"num_unique_values\": 66,\n        \"samples\": [\n          0.08670845052151895,\n          -0.024732934523729287\n        ],\n        \"semantic_type\": \"\",\n        \"description\": \"\"\n      }\n    },\n    {\n      \"column\": \"s5\",\n      \"properties\": {\n        \"dtype\": \"number\",\n        \"std\": 0.047619047619047616,\n        \"min\": -0.12609712083330468,\n        \"max\": 0.13359728192191356,\n        \"num_unique_values\": 184,\n        \"samples\": [\n          -0.07213275338232743,\n          -0.021395309255276825\n        ],\n        \"semantic_type\": \"\",\n        \"description\": \"\"\n      }\n    },\n    {\n      \"column\": \"s6\",\n      \"properties\": {\n        \"dtype\": \"number\",\n        \"std\": 0.047619047619047644,\n        \"min\": -0.13776722569000302,\n        \"max\": 0.13561183068907107,\n        \"num_unique_values\": 56,\n        \"samples\": [\n          -0.01764612515980379,\n          -0.09634615654165846\n        ],\n        \"semantic_type\": \"\",\n        \"description\": \"\"\n      }\n    },\n    {\n      \"column\": \"target\",\n      \"properties\": {\n        \"dtype\": \"number\",\n        \"std\": 77.09300453299109,\n        \"min\": 25.0,\n        \"max\": 346.0,\n        \"num_unique_values\": 214,\n        \"samples\": [\n          310.0,\n          140.0\n        ],\n        \"semantic_type\": \"\",\n        \"description\": \"\"\n      }\n    }\n  ]\n}"
            }
          },
          "metadata": {},
          "execution_count": 115
        }
      ],
      "source": [
        "df.head(n=10)"
      ]
    },
    {
      "cell_type": "markdown",
      "source": [
        "## Data types of each feature"
      ],
      "metadata": {
        "id": "FzuCq3BcfSdD"
      },
      "id": "FzuCq3BcfSdD"
    },
    {
      "cell_type": "code",
      "execution_count": 116,
      "id": "fcbbcc7d",
      "metadata": {
        "colab": {
          "base_uri": "https://localhost:8080/"
        },
        "id": "fcbbcc7d",
        "outputId": "ae88f213-a1a7-40b5-f9fe-4fcce684dd30"
      },
      "outputs": [
        {
          "output_type": "execute_result",
          "data": {
            "text/plain": [
              "age       float64\n",
              "sex       float64\n",
              "bmi       float64\n",
              "bp        float64\n",
              "s1        float64\n",
              "s2        float64\n",
              "s3        float64\n",
              "s4        float64\n",
              "s5        float64\n",
              "s6        float64\n",
              "target    float64\n",
              "dtype: object"
            ]
          },
          "metadata": {},
          "execution_count": 116
        }
      ],
      "source": [
        "df.dtypes"
      ]
    },
    {
      "cell_type": "markdown",
      "source": [
        "## Check for any missing values"
      ],
      "metadata": {
        "id": "bIKaCz4ffZKj"
      },
      "id": "bIKaCz4ffZKj"
    },
    {
      "cell_type": "code",
      "source": [
        "df.isnull().sum()"
      ],
      "metadata": {
        "id": "KrHDEkRtfx0z",
        "outputId": "93b0e303-12e4-4018-92b1-cc0d8854b255",
        "colab": {
          "base_uri": "https://localhost:8080/"
        }
      },
      "id": "KrHDEkRtfx0z",
      "execution_count": 117,
      "outputs": [
        {
          "output_type": "execute_result",
          "data": {
            "text/plain": [
              "age       0\n",
              "sex       0\n",
              "bmi       0\n",
              "bp        0\n",
              "s1        0\n",
              "s2        0\n",
              "s3        0\n",
              "s4        0\n",
              "s5        0\n",
              "s6        0\n",
              "target    0\n",
              "dtype: int64"
            ]
          },
          "metadata": {},
          "execution_count": 117
        }
      ]
    },
    {
      "cell_type": "markdown",
      "source": [
        "## Normalize the features"
      ],
      "metadata": {
        "id": "Q5p8zmIXfcba"
      },
      "id": "Q5p8zmIXfcba"
    },
    {
      "cell_type": "code",
      "execution_count": 118,
      "id": "5d1aac04",
      "metadata": {
        "id": "5d1aac04"
      },
      "outputs": [],
      "source": [
        "columns = df.select_dtypes(np.number).columns\n",
        "df[columns] = (df[columns] - df[columns].min()) / (df[columns].max() - df[columns].min())"
      ]
    },
    {
      "cell_type": "markdown",
      "source": [
        "We used min-max scaling because we don’t know the distribution of all features.\n",
        "\n",
        " Since we want the normalization to be consistent across all columns, we opted for min-max scaling.\n",
        "\n",
        "  Standardization, on the other hand, is more suitable for features with a normal distribution."
      ],
      "metadata": {
        "id": "UlOZYqLbgoMF"
      },
      "id": "UlOZYqLbgoMF"
    },
    {
      "cell_type": "markdown",
      "source": [
        "## Split the data into training and testing sets"
      ],
      "metadata": {
        "id": "rR2vSgHpfsaL"
      },
      "id": "rR2vSgHpfsaL"
    },
    {
      "cell_type": "code",
      "execution_count": 119,
      "id": "2bccd9e5",
      "metadata": {
        "id": "2bccd9e5"
      },
      "outputs": [],
      "source": [
        "from sklearn.model_selection import train_test_split\n",
        "X_train, X_test,y_train , y_test = train_test_split(df.drop(columns =[\"target\"]), df['target'], test_size=0.05, random_state=42)"
      ]
    },
    {
      "cell_type": "markdown",
      "source": [
        "## Display the number of instances in both"
      ],
      "metadata": {
        "id": "NnZGmqT-fuUs"
      },
      "id": "NnZGmqT-fuUs"
    },
    {
      "cell_type": "code",
      "execution_count": 120,
      "id": "085f3d86",
      "metadata": {
        "colab": {
          "base_uri": "https://localhost:8080/"
        },
        "id": "085f3d86",
        "outputId": "020d6b56-1116-4e1a-b09c-887b44c326ec"
      },
      "outputs": [
        {
          "output_type": "stream",
          "name": "stdout",
          "text": [
            "number of rows in X training set is 419  \n"
          ]
        }
      ],
      "source": [
        "print(f\"number of rows in X training set is {X_train.shape[0]}  \")"
      ]
    },
    {
      "cell_type": "code",
      "source": [
        "print(f\"number of rows in Y training set is {y_train.shape[0]}  \")"
      ],
      "metadata": {
        "colab": {
          "base_uri": "https://localhost:8080/"
        },
        "id": "I_RFV1yRiwjt",
        "outputId": "6eda0fa4-8921-419b-d3fc-500bf053308b"
      },
      "id": "I_RFV1yRiwjt",
      "execution_count": 121,
      "outputs": [
        {
          "output_type": "stream",
          "name": "stdout",
          "text": [
            "number of rows in Y training set is 419  \n"
          ]
        }
      ]
    },
    {
      "cell_type": "code",
      "source": [
        "print(f\"number of rows in X test set is {X_test.shape[0]}  \")"
      ],
      "metadata": {
        "colab": {
          "base_uri": "https://localhost:8080/"
        },
        "id": "_NUx5OsJi8Rc",
        "outputId": "9c78d8de-fa48-4fc1-8e90-26740b4dfbcc"
      },
      "id": "_NUx5OsJi8Rc",
      "execution_count": 122,
      "outputs": [
        {
          "output_type": "stream",
          "name": "stdout",
          "text": [
            "number of rows in X test set is 23  \n"
          ]
        }
      ]
    },
    {
      "cell_type": "code",
      "execution_count": 123,
      "id": "8d6d5b8d",
      "metadata": {
        "colab": {
          "base_uri": "https://localhost:8080/"
        },
        "id": "8d6d5b8d",
        "outputId": "08a10f21-0236-4413-9853-f444c6d7fed2"
      },
      "outputs": [
        {
          "output_type": "stream",
          "name": "stdout",
          "text": [
            "number of rows in Y test set is 23  \n"
          ]
        }
      ],
      "source": [
        "print(f\"number of rows in Y test set is {y_test.shape[0]}  \")"
      ]
    },
    {
      "cell_type": "markdown",
      "id": "6cfb4cac",
      "metadata": {
        "id": "6cfb4cac"
      },
      "source": [
        "# Main Task"
      ]
    },
    {
      "cell_type": "markdown",
      "id": "4bf29c2d",
      "metadata": {
        "id": "4bf29c2d"
      },
      "source": [
        "## Part 1: Functions’ Implementation\n"
      ]
    },
    {
      "cell_type": "markdown",
      "source": [
        "The mean squared error (MSE) is another common metric used to evaluate the performance of a regression model. It measures the average of the squares of the errors or the differences between the actual values and the predicted values.\n",
        "\n",
        "To calculate the mean squared error, you typically follow these steps:\n",
        "\n",
        "1. For each data point in your dataset, calculate the squared difference between the actual value (y_true) and the predicted value (y_pred).\n",
        "2. Sum up all these squared differences.\n",
        "3. Divide the total sum of squared differences by the total number of data points to get the mean squared error.\n",
        "\n",
        "The formula for calculating MSE is as follows:\n",
        "$[ MSE = \\frac{1}{n} \\sum_{i=1}^{n} (y_{\\text{true}, i} - y_{\\text{pred}, i})^2 $]\n",
        "\n",
        "In simpler terms, MSE gives more weight to large errors compared to MAE. A lower MSE indicates that the model is making more accurate predictions, while a higher MSE suggests that the model's predictions are less accurate. It is important to consider the scale of MSE as it is in squared units of the target variable."
      ],
      "metadata": {
        "id": "1YV78R9Rp2ig"
      },
      "id": "1YV78R9Rp2ig"
    },
    {
      "cell_type": "code",
      "execution_count": 124,
      "id": "f07182fd",
      "metadata": {
        "id": "f07182fd"
      },
      "outputs": [],
      "source": [
        "def get_mean_square_error(predicted_values, actual_values):\n",
        "    if len(predicted_values) != len(actual_values):\n",
        "        raise ValueError(\"The lengths of predicted and actual values must match.\")\n",
        "    residuals = np.subtract(predicted_values, actual_values)\n",
        "    mean_squared_error = np.mean(np.square(residuals))\n",
        "\n",
        "\n",
        "    return mean_squared_error"
      ]
    },
    {
      "cell_type": "markdown",
      "source": [
        "RMSE is the square root of the mean of the squared differences between the residuals, and the residuals is just a fancy word for the difference between the predicted output and the true output.\n",
        "\n"
      ],
      "metadata": {
        "id": "tUHe3UPLoOwU"
      },
      "id": "tUHe3UPLoOwU"
    },
    {
      "cell_type": "code",
      "execution_count": 125,
      "id": "8f6df94e",
      "metadata": {
        "id": "8f6df94e"
      },
      "outputs": [],
      "source": [
        "def get_root_mean_square_error(predicted_values, actual_values):\n",
        "        if len(predicted_values) != len(actual_values):\n",
        "            raise ValueError(\"The lengths of predicted and actual values must match.\")\n",
        "        mean_squared_error = get_mean_square_error(predicted_values, actual_values)\n",
        "        root_mean_square_error = np.sqrt(mean_squared_error)\n",
        "        return root_mean_square_error"
      ]
    },
    {
      "cell_type": "markdown",
      "source": [
        "The mean absolute error (MAE) is a metric used to evaluate the performance of a regression model. It measures the average magnitude of errors between the actual values and the predicted values.\n",
        "\n",
        "To calculate the mean absolute error, you typically follow these steps:\n",
        "\n",
        "1. For each data point in your dataset, calculate the absolute difference between the actual value (y_true) and the predicted value (y_pred).\n",
        "2. Sum up all these absolute differences.\n",
        "3. Divide the total sum of absolute differences by the total number of data points to get the mean absolute error.\n",
        "\n",
        "The formula for calculating MAE is as follows:\n",
        "$[ MAE = \\frac{1}{n} \\sum_{i=1}^{n} |y_{\\text{true}, i} - y_{\\text{pred}, i}| ]$\n",
        "\n",
        "In simpler terms, MAE gives you a good idea of how accurate your predictions are on average. A lower MAE indicates that the model is making more accurate predictions, while a higher MAE suggests that the model's predictions are less accurate."
      ],
      "metadata": {
        "id": "V9ho1tARowYk"
      },
      "id": "V9ho1tARowYk"
    },
    {
      "cell_type": "code",
      "execution_count": 126,
      "id": "1221c55a",
      "metadata": {
        "id": "1221c55a"
      },
      "outputs": [],
      "source": [
        "def get_mean_absolute_error(predicted_values, actual_values):\n",
        "    if len(predicted_values) != len(actual_values):\n",
        "        raise ValueError(\"The lengths of predicted and actual values must match.\")\n",
        "    residuals = np.abs(np.subtract(predicted_values, actual_values))\n",
        "    mean_absolute_error = np.mean(residuals)\n",
        "    return mean_absolute_error"
      ]
    },
    {
      "cell_type": "markdown",
      "source": [
        "The RMSE has no bound, thus it becomes challenging to determine whether a particular RMSE value is considered good or bad without any reference point. Instead, we use R2 score. The R2 score is calculated by comparing the sum of the squared differences between the actual and predicted values of the dependent variable to the total sum of squared differences between the actual and mean values of the dependent variable. The R2 score is formulated as below:\n",
        "\n",
        "$$R^2 = 1 - \\frac{SSres}{SStot} = 1 - \\frac{\\sum_{i=1}^{n} (y_{i,true} - y_{i,pred})^2}{\\sum_{i=1}^{n} (y_{i,true} - \\bar{y}_{true})^2} $$"
      ],
      "metadata": {
        "id": "lc-L4i8moeO0"
      },
      "id": "lc-L4i8moeO0"
    },
    {
      "cell_type": "code",
      "execution_count": 127,
      "id": "b28efc57",
      "metadata": {
        "id": "b28efc57"
      },
      "outputs": [],
      "source": [
        "def get_r2_score(predicted_values, actual_values):\n",
        "    if len(predicted_values) != len(actual_values):\n",
        "        raise ValueError(\"The lengths of predicted and actual values must match.\")\n",
        "\n",
        "    mean_actual_values = sum(actual_values) / len(actual_values)\n",
        "    total_sum_of_squares = sum((y_i - mean_actual_values) ** 2 for y_i in actual_values)\n",
        "    residual_sum_of_squares = sum((y_i - y_hat) ** 2 for y_i, y_hat in zip(actual_values, predicted_values))\n",
        "    r_squared = 1 - (residual_sum_of_squares / total_sum_of_squares)\n",
        "\n",
        "    return r_squared"
      ]
    },
    {
      "cell_type": "markdown",
      "id": "1beaae2b",
      "metadata": {
        "id": "1beaae2b"
      },
      "source": [
        "## Part 2: Building and Training the Linear Regression Model"
      ]
    },
    {
      "cell_type": "markdown",
      "source": [
        "### Linear Regression\n",
        "\n",
        "Main form of simple linear regression function:\n",
        "$$f(x) = \\alpha x + \\beta$$\n",
        "\n",
        "here we want to find the bias ($\\alpha$) and slope($\\beta$) by minimizing the derivation of the Residual Sum of Squares (RSS) function:\n",
        "\n",
        "- step 1: Compute RSS of the training data  \n",
        "\n",
        "$$ RSS = \\Sigma (y_i - (\\hat{\\beta} + \\hat{\\alpha} * x_i) )^2 $$\n",
        "\n",
        "- step 2: Compute the derivatives of the RSS function in terms of $\\alpha$ and $\\beta$, and set them equal to 0 to find the desired parameters\n",
        "\n",
        "$$ \\frac{\\partial RSS}{\\partial \\beta} = \\Sigma (-f(x_i) + \\hat{\\beta} + \\hat{\\alpha} * x_i) = 0$$\n",
        "$$ \\to \\beta = \\hat{y} - \\hat{\\alpha} \\hat{x} \\to (1)$$\n",
        "\n",
        "\n",
        "$$ \\frac{\\partial RSS}{\\partial \\alpha} = \\Sigma (-2 x_i y_i + 2 \\hat{\\beta} x_i + 2\\hat{\\alpha} x_i ^ 2) = 0 \\to (2)$$\n",
        "\n",
        "$$ (1) , (2) \\to \\hat{\\alpha} = \\frac{\\Sigma{(x_i - \\hat{x})(y_i - \\hat{y})}}{\\Sigma{(x_i - \\hat{x})^2}}\n",
        "$$\n",
        "$$ \\hat{\\beta} = y - \\hat{a} x$$\n",
        "\n"
      ],
      "metadata": {
        "id": "CApfB7J8nsRQ"
      },
      "id": "CApfB7J8nsRQ"
    },
    {
      "cell_type": "code",
      "execution_count": 128,
      "id": "bb7c5ff5",
      "metadata": {
        "id": "bb7c5ff5"
      },
      "outputs": [],
      "source": [
        "from sklearn.linear_model import LinearRegression\n",
        "regression_model = LinearRegression()\n",
        "regression_model.fit(X_train, y_train)\n",
        "y_pred = regression_model.predict(X_test)"
      ]
    },
    {
      "cell_type": "markdown",
      "source": [
        "## Part 3: Model Evaluation\n"
      ],
      "metadata": {
        "id": "GBZPDWDskpRM"
      },
      "id": "GBZPDWDskpRM"
    },
    {
      "cell_type": "code",
      "execution_count": 129,
      "id": "59e74800",
      "metadata": {
        "id": "59e74800",
        "colab": {
          "base_uri": "https://localhost:8080/",
          "height": 0
        },
        "outputId": "675050bf-a305-4d44-d5a9-09778e7adaa3"
      },
      "outputs": [
        {
          "output_type": "display_data",
          "data": {
            "text/plain": [
              "<Figure size 1000x600 with 1 Axes>"
            ],
            "image/png": "[encoded data removed]"
          },
          "metadata": {}
        }
      ],
      "source": [
        "plt.figure(figsize=(10, 6))\n",
        "plt.scatter(y_test, y_pred, color='blue')\n",
        "plt.plot([0, 1], [0, 1], color='red', linestyle='--') # x=y line\n",
        "plt.xlabel(\"Actual Progression Measures\")\n",
        "plt.ylabel(\"Predicted Progression Measures\")\n",
        "plt.title(\"Actual vs. Predicted Progression Measures\")\n",
        "plt.show()"
      ]
    },
    {
      "cell_type": "code",
      "source": [
        "# Metrics calculation on the training set\n",
        "mse_train = get_mean_square_error(regression_model.predict(X_train), y_train)\n",
        "mae_train = get_mean_absolute_error(regression_model.predict(X_train), y_train)\n",
        "rmse_train = get_root_mean_square_error(regression_model.predict(X_train), y_train)\n",
        "r2_train = get_r2_score(regression_model.predict(X_train), y_train)\n",
        "\n",
        "# Metrics calculation on the testing set\n",
        "mse_test = get_mean_square_error(y_pred, y_test)\n",
        "mae_test = get_mean_absolute_error(y_pred, y_test)\n",
        "rmse_test = get_root_mean_square_error(y_pred, y_test)\n",
        "r2_test = get_r2_score(y_pred, y_test)"
      ],
      "metadata": {
        "id": "Nr8_yhjmk1GQ"
      },
      "id": "Nr8_yhjmk1GQ",
      "execution_count": 130,
      "outputs": []
    },
    {
      "cell_type": "code",
      "source": [
        "import pandas as pd\n",
        "data = {\n",
        "    'Data Type/Optimizer': ['Train Set', 'Test Set'],\n",
        "    'MSE': [mse_train, mse_test],\n",
        "    'MAE': [mae_train, mae_test],\n",
        "    'RMSE': [rmse_train, rmse_test],\n",
        "    'R² score': [r2_train, r2_test]\n",
        "}\n",
        "metrics_df = pd.DataFrame(data)\n",
        "metrics_df.set_index('Data Type/Optimizer', inplace=True)\n",
        "print(metrics_df.to_string())"
      ],
      "metadata": {
        "colab": {
          "base_uri": "https://localhost:8080/"
        },
        "id": "k0wp1nRempAo",
        "outputId": "58e6f2fd-68d4-4d00-f264-b3728d94fdcb"
      },
      "id": "k0wp1nRempAo",
      "execution_count": 131,
      "outputs": [
        {
          "output_type": "stream",
          "name": "stdout",
          "text": [
            "                          MSE       MAE      RMSE  R² score\n",
            "Data Type/Optimizer                                        \n",
            "Train Set            0.027477  0.133844  0.165761  0.513588\n",
            "Test Set             0.034123  0.153515  0.184725  0.516379\n"
          ]
        }
      ]
    },
    {
      "cell_type": "code",
      "source": [
        "from sklearn.metrics import mean_squared_error, mean_absolute_error, r2_score\n",
        "\n",
        "# Metrics calculation using libraries\n",
        "mse_train_lib = mean_squared_error(y_train, regression_model.predict(X_train))\n",
        "mae_train_lib = mean_absolute_error(y_train, regression_model.predict(X_train))\n",
        "rmse_train_lib = np.sqrt(mse_train_lib)\n",
        "r2_train_lib = r2_score(y_train, regression_model.predict(X_train))\n",
        "\n",
        "mse_test_lib = mean_squared_error(y_test, y_pred)\n",
        "mae_test_lib = mean_absolute_error(y_test, y_pred)\n",
        "rmse_test_lib = np.sqrt(mse_test_lib)\n",
        "r2_test_lib = r2_score(y_test, y_pred)"
      ],
      "metadata": {
        "id": "-Fp5g7TwmAys"
      },
      "id": "-Fp5g7TwmAys",
      "execution_count": 132,
      "outputs": []
    },
    {
      "cell_type": "code",
      "source": [
        "\n",
        "data_lib = {\n",
        "    'Data Type/Optimizer': ['Train Set', 'Test Set'],\n",
        "    'MSE': [mse_train_lib, mse_test_lib],\n",
        "    'MAE': [mae_train_lib, mae_test_lib],\n",
        "    'RMSE': [rmse_train_lib, rmse_test_lib],\n",
        "    'R² score': [r2_train_lib, r2_test_lib]\n",
        "}\n",
        "metrics_df_lib = pd.DataFrame(data_lib)\n",
        "metrics_df_lib.set_index('Data Type/Optimizer', inplace=True)\n",
        "print(metrics_df_lib.to_string())"
      ],
      "metadata": {
        "colab": {
          "base_uri": "https://localhost:8080/"
        },
        "id": "818fEPpVmu6d",
        "outputId": "4fd86796-11d5-4b27-e39c-7094f7d78ce1"
      },
      "id": "818fEPpVmu6d",
      "execution_count": 133,
      "outputs": [
        {
          "output_type": "stream",
          "name": "stdout",
          "text": [
            "                          MSE       MAE      RMSE  R² score\n",
            "Data Type/Optimizer                                        \n",
            "Train Set            0.027477  0.133844  0.165761  0.513588\n",
            "Test Set             0.034123  0.153515  0.184725  0.516379\n"
          ]
        }
      ]
    },
    {
      "cell_type": "markdown",
      "source": [
        "## Part 4: Ordinary Least Squares\n"
      ],
      "metadata": {
        "id": "HBTSaJ2DpX8n"
      },
      "id": "HBTSaJ2DpX8n"
    },
    {
      "cell_type": "code",
      "source": [
        "import statsmodels.api as sm"
      ],
      "metadata": {
        "id": "zEwCB09Vl918"
      },
      "id": "zEwCB09Vl918",
      "execution_count": 134,
      "outputs": []
    },
    {
      "cell_type": "code",
      "source": [],
      "metadata": {
        "id": "iuFueHzL1h04"
      },
      "id": "iuFueHzL1h04",
      "execution_count": 134,
      "outputs": []
    },
    {
      "cell_type": "code",
      "source": [
        "\n",
        "model = sm.OLS(df[\"target\"], df.drop(\"target\", axis='columns'))\n",
        "result = model.fit()\n",
        "# printing the summary table\n",
        "print(result.summary())"
      ],
      "metadata": {
        "id": "64fPK6bbl-Zr",
        "colab": {
          "base_uri": "https://localhost:8080/"
        },
        "outputId": "342c61c7-d0cc-45f5-dab3-408cb65abdba"
      },
      "id": "64fPK6bbl-Zr",
      "execution_count": 135,
      "outputs": [
        {
          "output_type": "stream",
          "name": "stdout",
          "text": [
            "                                 OLS Regression Results                                \n",
            "=======================================================================================\n",
            "Dep. Variable:                 target   R-squared (uncentered):                   0.870\n",
            "Model:                            OLS   Adj. R-squared (uncentered):              0.867\n",
            "Method:                 Least Squares   F-statistic:                              290.0\n",
            "Date:                Wed, 24 Apr 2024   Prob (F-statistic):                   1.28e-184\n",
            "Time:                        21:56:44   Log-Likelihood:                          164.60\n",
            "No. Observations:                 442   AIC:                                     -309.2\n",
            "Df Residuals:                     432   BIC:                                     -268.3\n",
            "Df Model:                          10                                                  \n",
            "Covariance Type:            nonrobust                                                  \n",
            "==============================================================================\n",
            "                 coef    std err          t      P>|t|      [0.025      0.975]\n",
            "------------------------------------------------------------------------------\n",
            "age           -0.0079      0.041     -0.194      0.846      -0.088       0.072\n",
            "sex           -0.0722      0.018     -3.982      0.000      -0.108      -0.037\n",
            "bmi            0.4205      0.054      7.787      0.000       0.314       0.527\n",
            "bp             0.2438      0.050      4.909      0.000       0.146       0.341\n",
            "s1            -0.4226      0.188     -2.246      0.025      -0.792      -0.053\n",
            "s2             0.2381      0.201      1.185      0.236      -0.157       0.633\n",
            "s3            -0.0626      0.067     -0.938      0.349      -0.194       0.069\n",
            "s4             0.0870      0.114      0.765      0.445      -0.136       0.310\n",
            "s5             0.5153      0.089      5.788      0.000       0.340       0.690\n",
            "s6             0.0535      0.056      0.956      0.339      -0.056       0.164\n",
            "==============================================================================\n",
            "Omnibus:                        1.529   Durbin-Watson:                   2.025\n",
            "Prob(Omnibus):                  0.465   Jarque-Bera (JB):                1.426\n",
            "Skew:                           0.024   Prob(JB):                        0.490\n",
            "Kurtosis:                       2.726   Cond. No.                         49.2\n",
            "==============================================================================\n",
            "\n",
            "Notes:\n",
            "[1] R² is computed without centering (uncentered) since the model does not contain a constant.\n",
            "[2] Standard Errors assume that the covariance matrix of the errors is correctly specified.\n"
          ]
        }
      ]
    },
    {
      "cell_type": "markdown",
      "source": [
        "# Questions"
      ],
      "metadata": {
        "id": "arzThT1ytIyB"
      },
      "id": "arzThT1ytIyB"
    },
    {
      "cell_type": "markdown",
      "source": [
        "# Q1 - Analyze and evaluate the values in Table (1)\n",
        "\n",
        "The table shows the following metrics:\n",
        "\n",
        "* MSE (Mean Squared Error): A common regression loss function that measures the average squared difference between the predicted values and the actual values. Lower MSE indicates a better fit.\n",
        "* MAE (Mean Absolute Error):  A regression loss function that measures the average absolute difference between the predicted values and the actual values. Lower MAE indicates a better fit.\n",
        "* RMSE (Root Mean Squared Error):  The square root of the MSE. Lower RMSE indicates a better fit.\n",
        "* R² (R-squared): A coefficient of determination that reflects the percentage of variance in the dependent variable that can be explained by the independent variables. It ranges from 0 to 1, with a higher R² indicating a better fit.\n",
        "* score: This metric is not specified, so it's difficult to say what it represents without additional context.\n",
        "\n",
        "Here are some observations based on the data provided:\n",
        "\n",
        "* Loss: The test set has a slightly higher loss (0.034123) compared to the training set (0.027477) across all the metrics (MSE, MAE, RMSE). This suggests that the model may be overfitting the training data. Overfitting happens when a model performs well on the training data but poorly on unseen data (generalizes poorly).\n",
        "* Error: The test set also has slightly higher error values (MAE and RMSE) compared to the training set. This again suggests some overfitting.\n",
        "* R²: The R² values are relatively low (around 0.5) for both the training and test sets. An R² of 1 indicates a perfect fit, but in practice, it's ideal to have an R² value closer to 1 but not necessarily 1. A low R² value could indicate that there are other factors affecting the target variable that are not captured by the model.\n",
        "## Deeper Observations on Training and Test Set Performance\n",
        "R-squared and Model Fit:\n",
        "* The R² values for both training and test sets being around 0.5 indicate that the model explains only about half of the variance in the target variable. This could mean:\n",
        "    * There might be significant external factors influencing the target variable that the model doesn't account for.\n",
        "    * The chosen features might not be capturing the most relevant information for accurate prediction.\n",
        "Impact on Predictions:\n",
        "* It would be helpful to see how these observations translate to the actual predictions. Are the test set predictions significantly different from the actual values compared to the training set? This could reveal the severity of overfitting and its impact on real-world application.\n",
        "\n",
        "Overall, the model seems to be performing reasonably wel."
      ],
      "metadata": {
        "id": "55VtjwIhEXtC"
      },
      "id": "55VtjwIhEXtC"
    },
    {
      "cell_type": "markdown",
      "source": [
        "# Q2 -  Review the R² and Adjusted R² values obtained in part 4\n",
        "R-squared (R²)\n",
        "\n",
        "* It is a statistical measure used in regression analysis that represents the proportion of the variance in the dependent variable that can be explained by the independent variables in the model. It ranges from 0 to 1, where:\n",
        "    * A value of 0 indicates that the independent variables do not explain any of the variance in the dependent variable.\n",
        "    * A value of 1 indicates that the independent variables explain all of the variance in the dependent variable, or in other words, a perfect fit.\n",
        "\n",
        "Adjusted R-squared (Adjusted R²)\n",
        "\n",
        "* This is a modification of R² that penalizes the model for having too many explanatory variables. As you add more variables to your model, the R² value typically increases. However, some of this increase may simply be due to the fact that you are fitting the noise in the data with more parameters. The adjusted R² value takes this into account and gives you a better idea of how well the model explains the variance in the data without overfitting.\n",
        "\n",
        "Key Differences\n",
        "\n",
        "Here's a table summarizing the key differences between R² and Adjusted R²:\n",
        "\n",
        "| Metric | Description | Advantages | Disadvantages |\n",
        "|---|---|---|---|\n",
        "| R² | Represents the proportion of variance in the dependent variable explained by the independent variables. | Easy to interpret, Range bound (0 to 1) | Can be misleading if the model has too many variables |\n",
        "| Adjusted R² | Penalizes R² for having too many variables, giving a better indication of fit for models with varying numbers of predictors. |  More suitable for comparing models with different numbers of variables | Can be lower than R², especially for models with many variables |\n",
        "\n",
        "Implications of High or Low Values\n",
        "\n",
        "* High R² and Adjusted R²: Generally good, indicating that the model explains a high proportion of the variance in the dependent variable. However, it's important to consider the possibility of overfitting, especially if the adjusted R² is much lower than the R².\n",
        "* Low R² and Adjusted R²: This could mean that the model is not very good at explaining the variance in the dependent variable. There could be several reasons for this, such as:\n",
        "    * Inaccurate or irrelevant independent variables\n",
        "    * Non-linear relationships between the variables\n",
        "    * Missing important variables from the model\n",
        "\n",
        "In the specific case of the output you provided, the R² value is 0.87 and the Adjusted R² is 0.867. This suggests that the model explains a relatively high proportion of the variance in the dependent variable (target). However, the difference between R² and Adjusted R² is minimal, indicating that the model likely doesn't suffer from overfitting to a significant degree.\n",
        "\n",
        "It's important to note that the \"goodness\" of R² and Adjusted R² values can vary depending on the field of study. In some disciplines, a value of 0.8 might be considered very good, while in others, it might be considered just moderate."
      ],
      "metadata": {
        "id": "C29TD4iwE1zb"
      },
      "id": "C29TD4iwE1zb"
    },
    {
      "cell_type": "markdown",
      "source": [
        "# Q3 - Review the p-values obtained in part 4"
      ],
      "metadata": {
        "id": "8bDTSFMUtMic"
      },
      "id": "8bDTSFMUtMic"
    },
    {
      "cell_type": "markdown",
      "source": [
        "The null hypothesis assumes that the coefficient for a particular feature (regressor) is equal to zero (i.e., the feature has no effect on the response variable).\n",
        "\n",
        "The alternative hypothesis states that the coefficient is not equal to zero (the feature does have an effect on the response).\n",
        "\n",
        "The p-value represents the probability of observing a coefficient as extreme as the one estimated in the model (or more extreme) if the null hypothesis were true\n",
        "\n",
        "If the p-value for a coefficient is small (less than 0.05), it suggests that the corresponding feature is statistically significant in predicting the response.\n",
        "\n",
        "Conversely, if the p-value is large, the feature may not be significant.\n",
        "\n",
        "**sex, bmi, bp ,s1, s5** are  statistically significant in predicting the target."
      ],
      "metadata": {
        "id": "Q5sG5S_5u48-"
      },
      "id": "Q5sG5S_5u48-"
    },
    {
      "cell_type": "markdown",
      "source": [
        "## Q4 - analyze the importance of each feature\n",
        "  - age:\n",
        "\n",
        "    A weak negetive impact on target(coefficient)\n",
        "\n",
        "    Precise of coefficient is high(std err)\n",
        "\n",
        "    Weak evidence against null hypothesis(zero coef) and negetive coefficient.\n",
        "    (t)\n",
        "\n",
        "    Is not statisticly significant based on high p-value and confidence  interval doesn't exclude zero\n"
      ],
      "metadata": {
        "id": "A4qu5LZz25tt"
      },
      "id": "A4qu5LZz25tt"
    },
    {
      "cell_type": "markdown",
      "source": [
        "  - sex:\n",
        "\n",
        "      A weak negetive impact on target(coefficient)\n",
        "\n",
        "      Precise of coefficient is very high(std err)\n",
        "\n",
        "      High evidence against null hypothesis(zero coef) and negetive coefficient.\n",
        "      (t) so it has negetive statistical significant relation\n",
        "\n",
        "      Is statisticly significant based on very low  p-value and confidence  interval excludes zero"
      ],
      "metadata": {
        "id": "YKp0zmhQAQfn"
      },
      "id": "YKp0zmhQAQfn"
    },
    {
      "cell_type": "markdown",
      "source": [
        "- bmi:\n",
        "\n",
        "    A powefull positive impact on target(coefficient)\n",
        "\n",
        "    Precise of coefficient is high(std err)\n",
        "\n",
        "    Very high evidence against null hypothesis(zero coef) and positive coefficient.\n",
        "    (t) so it has positive statistical significant relation\n",
        "\n",
        "    Is statisticly significant based on very low  p-value and confidence  interval excludes zero"
      ],
      "metadata": {
        "id": "yE7FOxSIA8HR"
      },
      "id": "yE7FOxSIA8HR"
    },
    {
      "cell_type": "markdown",
      "source": [
        "  - bp:\n",
        "\n",
        "      Is like bmi but a little less statistical signifant than bmi\n",
        "      \n",
        "      because loswer p-value and zero is more near its confidence interval."
      ],
      "metadata": {
        "id": "_sjQgWuBBeVd"
      },
      "id": "_sjQgWuBBeVd"
    },
    {
      "cell_type": "markdown",
      "source": [
        "  - s1:\n",
        "\n",
        "      A powerfull negetive impact on target(coefficient)\n",
        "\n",
        "      Precise of coefficient is low (std err)\n",
        "\n",
        "      Powerfull evidence against null hypothesis(zero coef) and negetive coefficient.\n",
        "      (t)\n",
        "\n",
        "      Is statisticly significant based on high p-value and confidence  interval doesn't exclude zero"
      ],
      "metadata": {
        "id": "KsPpSD-KCGf9"
      },
      "id": "KsPpSD-KCGf9"
    },
    {
      "cell_type": "markdown",
      "source": [
        "  - s2:\n",
        "\n",
        "      A positive impact on target(coefficient)\n",
        "\n",
        "      Precise of coefficient is low(std err)\n",
        "\n",
        "      Appropriate evidence against null hypothesis(zero coef) and positive coefficient.\n",
        "      (t)\n",
        "\n",
        "      Is is not statisticly significant based on high p-value but 0 zero is in confidence interval but zero is near left side of interval.\n",
        "  - s3:\n",
        "\n",
        "      A weak negetive impact , also doesnt have statistical signficant in predicting\n",
        "\n",
        "  - s4 and s6:\n",
        "\n",
        "      A weak positive impact , also doesnt have statistical signficant in predicting\n",
        "\n",
        "  - s5:\n",
        "      is like bmi"
      ],
      "metadata": {
        "id": "wcqW3z6TC-Ft"
      },
      "id": "wcqW3z6TC-Ft"
    },
    {
      "cell_type": "markdown",
      "source": [
        "# Correlation matrix"
      ],
      "metadata": {
        "id": "IuVD22W3FzgR"
      },
      "id": "IuVD22W3FzgR"
    },
    {
      "cell_type": "code",
      "source": [
        "import seaborn as sns\n",
        "import matplotlib.pyplot as plt\n",
        "\n",
        "correlation_matrix = df.corr()\n",
        "plt.figure(figsize=(10, 8))\n",
        "sns.heatmap(correlation_matrix, annot=True, cmap='coolwarm', linewidths=0.5)\n",
        "plt.title('Correlation Heatmap')\n",
        "plt.show()"
      ],
      "metadata": {
        "id": "g6Z1e4FzvJ2J",
        "colab": {
          "base_uri": "https://localhost:8080/",
          "height": 699
        },
        "outputId": "dae4aa05-8b86-4301-d529-c37a93b144bc"
      },
      "id": "g6Z1e4FzvJ2J",
      "execution_count": 136,
      "outputs": [
        {
          "output_type": "display_data",
          "data": {
            "text/plain": [
              "<Figure size 1000x800 with 2 Axes>"
            ],
            "image/png": "[encoded data removed]"
          },
          "metadata": {}
        }
      ]
    },
    {
      "cell_type": "markdown",
      "source": [
        "Correlation VS p-value.\n",
        "\n",
        "Correlation is a way to test if two variables have any kind of relationship,\n",
        "\n",
        "whereas p-value tells us if the result of an experiment is statistically significant\n",
        "\n",
        "We plotted correlation to say that correlation and statistical signifcant in target don't have simmilar result always for example sex feature has low correlation but is statistical signifcant.\n",
        "\n",
        "Sample-size or population properties are important here."
      ],
      "metadata": {
        "id": "2A2dO0wL6Cl2"
      },
      "id": "2A2dO0wL6Cl2"
    },
    {
      "cell_type": "markdown",
      "source": [
        "# A Brief Summary Of What We Did\n",
        "In this assignment, we explored various loss functions and applied gradient descent methods to optimize these functions. Our focus was on the Diabetes dataset from the scikit-learn library, a well-regarded dataset in the machine learning community. This dataset consists of medical diagnostic measurements from numerous patients and is specifically designed to study diabetes progression. We used these data points to predict the quantitative measure of disease progression one year after baseline, thus practicing the application of regression analysis in a medical context.\n"
      ],
      "metadata": {
        "id": "VWrc9e5kEHY_"
      },
      "id": "VWrc9e5kEHY_"
    },
    {
      "cell_type": "code",
      "source": [],
      "metadata": {
        "id": "5c10kCVZEH_T"
      },
      "id": "5c10kCVZEH_T",
      "execution_count": 136,
      "outputs": []
    }
  ],
  "metadata": {
    "kernelspec": {
      "display_name": "Python 3 (ipykernel)",
      "language": "python",
      "name": "python3"
    },
    "language_info": {
      "codemirror_mode": {
        "name": "ipython",
        "version": 3
      },
      "file_extension": ".py",
      "mimetype": "text/x-python",
      "name": "python",
      "nbconvert_exporter": "python",
      "pygments_lexer": "ipython3",
      "version": "3.11.4"
    },
    "colab": {
      "provenance": [],
      "collapsed_sections": [
        "1beaae2b",
        "GBZPDWDskpRM",
        "HBTSaJ2DpX8n"
      ]
    }
  },
  "nbformat": 4,
  "nbformat_minor": 5
}