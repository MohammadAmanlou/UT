{
 "cells": [
  {
   "cell_type": "markdown",
   "metadata": {},
   "source": [
    "\n",
    "<html>\n",
    "   \n",
    "<div style=\"background-image: linear-gradient(to left, rgb(255, 255, 255), rgb(138, 136, 136)); width: auto; margin: 10px;\">\n",
    "  <img src=\"https://upload.wikimedia.org/wikipedia/en/thumb/f/fd/University_of_Tehran_logo.svg/225px-University_of_Tehran_logo.svg.png\" width=100px width=auto style=\"padding:10px; vertical-align: center;\">\n",
    " \n",
    "</div>\n",
    "   \n",
    "<div   style:\"text-align: center; background-image: linear-gradient(to left, rgb(255, 255, 255), rgb( 219, 204, 245  ));width: 400px; height: 30px; \">\n",
    "<h1 style=\"font-family: Georgia; color: black; text-align: center; \">Course: AI </h1>\n",
    "\n",
    "</div>\n",
    "    <div   style:\"border: 3px solid green;text-align: center; \">\n",
    "<h1 style=\"font-family: Georgia; color: black; text-align: center; \">Project2: RL </h1>\n",
    "\n",
    "</div>\n",
    "\n",
    "   <div>    \n",
    "<h1 style=\"font-family: Georgia; color: black; text-align: center; font-size:15px;\">Mohammad Amanlou- sid:810100084 </h1>\n",
    "\n",
    "</div>\n",
    "   \n",
    "\n",
    "</html>"
   ]
  },
  {
   "cell_type": "markdown",
   "metadata": {
    "id": "d0W-WuYsjWPP"
   },
   "source": [
    "# Artificial Intelligence Course - Fall 1402\n",
    "## Computer Assignment #2 - Reinforcement Learning"
   ]
  },
  {
   "cell_type": "markdown",
   "metadata": {},
   "source": [
    "### The purpose of the project:\n",
    "In this project, we intend to solve similar problems in the real world by using some powerful learning algorithms.\n",
    "Let's train the algorithm in the conditions of Q-Learning, Policy Iteration, and Value Iteration in three algorithms. In A\n",
    "Memorize and analyze\n"
   ]
  },
  {
   "cell_type": "markdown",
   "metadata": {},
   "source": [
    "### General description of the project and definition of the problem\n",
    "In this project, we will solve some problems created for RL practice and available in gym library with the help of RL algorithms. The two problems we are trying to solve, one is the taxi problem and the other is the Frozen Lake problem, which have been solved by different methods and these methods will be compared.\n",
    "\n"
   ]
  },
  {
   "cell_type": "markdown",
   "metadata": {
    "id": "ksnYjMyNPAcn"
   },
   "source": [
    "# Table of Contents\n",
    "\n",
    "- [Part 1: Value Iteration & Policy Iteration Algorithms](#1)\n",
    "    - [َQuestion 1:](#1-0)\n",
    "    - [َQuestion 2:](#1-1)\n",
    "    - [َQuestion 3:](#1-12)\n",
    "    - [َQuestion 4:](#1-2)\n",
    "    - [َQuestion 5:](#1-3)\n",
    "        - [Value Iteration](#1-3-1)\n",
    "        - [Policy Iteration](#1-3-2)\n",
    "    - [َQuestion 6:](#1-4)\n",
    "        - [Value Iteration](#1-4-1)\n",
    "        - [Policy Iteration](#1-4-2)\n",
    "- [Part 2: Q-Learning Algorithm](#2)\n",
    "    - [َQuestion 7:](#2-1)\n",
    "    - [َQuestion 8:](#2-2)\n",
    "    - [َQuestion 9:](#2-3)\n",
    "    - [َQuestion 10:](#2-4)"
   ]
  },
  {
   "cell_type": "code",
   "execution_count": 34,
   "metadata": {
    "id": "dpTWKluXMHP5"
   },
   "outputs": [],
   "source": [
    "# import\n",
    "import numpy as np\n",
    "import gym\n",
    "import matplotlib.pyplot as plt\n",
    "from tabulate import tabulate\n",
    "import time"
   ]
  },
  {
   "cell_type": "markdown",
   "metadata": {
    "id": "EifP8FUKLXE7"
   },
   "source": [
    "<a name='1'></a>\n",
    "## Part 1: Value Iteration & Policy Iteration Algorithms"
   ]
  },
  {
   "cell_type": "code",
   "execution_count": 35,
   "metadata": {
    "id": "8LizJeOYRMEq"
   },
   "outputs": [],
   "source": [
    "env = gym.make('FrozenLake-v1', desc=None, map_name=\"4x4\", is_slippery=False , render_mode = \"human\" )"
   ]
  },
  {
   "cell_type": "code",
   "execution_count": 36,
   "metadata": {
    "colab": {
     "base_uri": "https://localhost:8080/"
    },
    "id": "YZARu6LDSqj_",
    "outputId": "2f22167b-c6ef-493d-bec3-264a93e5d8cb"
   },
   "outputs": [
    {
     "name": "stdout",
     "output_type": "stream",
     "text": [
      "you can see the environment in each step by render command :\n"
     ]
    }
   ],
   "source": [
    "# get familiar with the environment\n",
    "print(\"you can see the environment in each step by render command :\")\n",
    "env.reset()\n",
    "env.render()"
   ]
  },
  {
   "cell_type": "code",
   "execution_count": 37,
   "metadata": {
    "colab": {
     "base_uri": "https://localhost:8080/"
    },
    "id": "x5QTTUSrSM-L",
    "outputId": "206e612c-52ca-49d4-91b8-31f9faf5f1bc"
   },
   "outputs": [
    {
     "data": {
      "text/plain": [
       "16"
      ]
     },
     "execution_count": 37,
     "metadata": {},
     "output_type": "execute_result"
    }
   ],
   "source": [
    "# Total no. of states\n",
    "env.observation_space.n"
   ]
  },
  {
   "cell_type": "code",
   "execution_count": 38,
   "metadata": {
    "colab": {
     "base_uri": "https://localhost:8080/"
    },
    "id": "EeaBqUeZSNNY",
    "outputId": "46e8a041-a1e4-4e43-c22a-4e2c1a3a3ddc"
   },
   "outputs": [
    {
     "data": {
      "text/plain": [
       "4"
      ]
     },
     "execution_count": 38,
     "metadata": {},
     "output_type": "execute_result"
    }
   ],
   "source": [
    "# Total no. of actions\n",
    "env.action_space.n"
   ]
  },
  {
   "cell_type": "markdown",
   "metadata": {
    "id": "iVJmGmCUnIGR"
   },
   "source": [
    "<a name='1-0'></a>\n",
    "### Question 1:"
   ]
  },
  {
   "cell_type": "markdown",
   "metadata": {
    "id": "xRDhQMwwnK2s"
   },
   "source": [
    "Value Iteration is a Markov Decision Process (MDP). It iteratively computes the optimal value function and we can derive the optimal policy from it.\n",
    "\n",
    "it uses Bellman equation:\n",
    "$$[ V(s) = \\max_a \\sum_{s'} T(s, a, s')[R(s, a, s') + \\gamma V(s')] ]$$\n",
    "\n",
    "so:\n",
    "First we initialize the value function V(s) for all states s to 0\n",
    "\n",
    "Then For each state s, update the value function using the Bellman Optimality Equation\n",
    "\n",
    "Repeat until the change in the value function between iterations falls below a predetermined threshold.\n",
    "\n",
    "\n",
    "And finally For each state s, select the action with the highest expected value based on the updated value function(policy Extraction): \n",
    "\n",
    "$$[ \\pi^*(s) = \\arg\\max_a \\sum_{s'} T(s, a, s') \\left[ R(s, a, s') + \\gamma V^(s') \\right] ]$$\n",
    "\n",
    "The value iteration algorithm guarantees convergence to the optimal value function and policy for finite MDPs. It efficiently computes the optimal policy by leveraging the recursive relationship between states and their expected future rewards.\n"
   ]
  },
  {
   "cell_type": "markdown",
   "metadata": {
    "id": "MO24LtBGLXZ7"
   },
   "source": [
    "<a name='1-1'></a>\n",
    "### Question 2:"
   ]
  },
  {
   "cell_type": "code",
   "execution_count": 39,
   "metadata": {
    "id": "VKP8LjK5jGoW"
   },
   "outputs": [],
   "source": [
    "class ValueIteration():\n",
    "    def __init__(self, env, discount_factor, theta=1e-8):\n",
    "        self.env = env\n",
    "        self.discount_factor = discount_factor\n",
    "        self.theta = theta\n",
    "        self.reset()\n",
    "        self.state_values = np.ones((self.env.observation_space.n)) / self.env.action_space.n\n",
    "        self.q_values = np.ones((self.env.observation_space.n, self.env.action_space.n)) / self.env.action_space.n\n",
    "        self.state_values[self.env.observation_space.n - 1] = 0\n",
    "        self.q_values[self.env.observation_space.n - 1] = np.zeros((self.env.action_space.n))\n",
    "        self.step = 0\n",
    "    def value_estimation(self):\n",
    "        self.delta = np.inf\n",
    "\n",
    "        while(self.delta > self.theta):\n",
    "\n",
    "            self.delta = 0\n",
    "            self.step += 1\n",
    "            for state in range(self.env.observation_space.n):\n",
    "\n",
    "                v = self.state_values[state]\n",
    "\n",
    "                for action in range(self.env.action_space.n):\n",
    "                    action_value = 0\n",
    "                    for probability, next_state, reward, done in self.env.P[state][action]:\n",
    "                        ### START CODE HERE ###\n",
    "                         action_value += probability * (reward + self.discount_factor * self.state_values[next_state])\n",
    "                        ### END CODE HERE ###\n",
    "                    self.q_values[state, action] = action_value\n",
    "\n",
    "                self.state_values[state] = np.max(self.q_values[state,:])\n",
    "\n",
    "                self.delta = np.max([self.delta, abs(v - self.state_values[state])])\n",
    "\n",
    "#                 if (self.delta < self.theta):\n",
    "#                     break\n",
    "\n",
    "    def take_action(self, action):\n",
    "        next_state, reward, done, y = self.env.step(action)\n",
    "        return (next_state, reward, done)\n",
    "\n",
    "    def get_optimal_policy(self, state):\n",
    "        return np.argmax(self.q_values[state,:])\n",
    "\n",
    "    def get_state_values(self):\n",
    "        return self.state_values\n",
    "\n",
    "    def get_q_values(self):\n",
    "        return self.q_values\n",
    "\n",
    "    def reset(self):\n",
    "        initial_state = self.env.reset()\n",
    "        return initial_state\n",
    "    def get_step(self):\n",
    "        return self.step"
   ]
  },
  {
   "cell_type": "markdown",
   "metadata": {
    "id": "frjc5mR4ncm1"
   },
   "source": [
    "<a name='1-12'></a>\n",
    "### Question 3:"
   ]
  },
  {
   "cell_type": "markdown",
   "metadata": {
    "id": "AMJJpf1tnddF"
   },
   "source": [
    "The goal is to determine the best actions to take at each state to maximize the expected cumulative reward over time.\n",
    "\n",
    "\n",
    "Start with an initial policy, which maps each state to a corresponding action.\n",
    "\n",
    "1.Policy Evaluation: Evaluate the value function, which represents the expected cumulative reward starting from each state, under the current policy. This involves iteratively updating the value function until it converges.\n",
    "$$[ V(s) = \\sum_{a} \\pi(s, a) \\sum_{s'} T(s, a, s') \\left[ R(s, a, s') + \\gamma V(s') \\right] ]$$\n",
    "\n",
    "2.Policy Improvement: Based on the current value function, update the policy by selecting the action with the highest expected value at each state:\n",
    "\n",
    "$$[ \\pi'(s) = \\arg\\max_a \\sum_{s'} T(s, a, s') \\left[ R(s, a, s') + \\gamma V(s') \\right] ]$$\n",
    "\n",
    "This step aims to improve the policy by exploiting the current knowledge of the value function.\n",
    "\n",
    "Convergence Check: Repeat until the policy no longer changes significantly (convergence).\n",
    "\n",
    "Policy Iteration alternates between evaluating the current policy and improving it iteratively until an optimal policy is found. The algorithm guarantees convergence and optimality, as long as all state-action pairs are visited infinitely often, ensuring exploration of the entire MDP.\n"
   ]
  },
  {
   "cell_type": "markdown",
   "metadata": {
    "id": "V4DcH5yJLXqH"
   },
   "source": [
    "<a name='1-2'></a>\n",
    "### Question 4:"
   ]
  },
  {
   "cell_type": "code",
   "execution_count": 40,
   "metadata": {
    "executionInfo": {
     "elapsed": 14,
     "status": "ok",
     "timestamp": 1698433256083,
     "user": {
      "displayName": "Mohammad Saadati",
      "userId": "00242434153251678664"
     },
     "user_tz": -210
    },
    "id": "XjSb1lX147hd"
   },
   "outputs": [],
   "source": [
    "class PolicyIteration():\n",
    "    def __init__(self, env, discount_factor, theta=1e-8):\n",
    "        self.env = env\n",
    "        self.discount_factor = discount_factor\n",
    "        self.theta = theta\n",
    "        self.reset()\n",
    "        self.state_values = np.ones((self.env.observation_space.n)) / self.env.action_space.n\n",
    "        self.q_values = np.ones((self.env.observation_space.n, self.env.action_space.n)) / self.env.action_space.n\n",
    "        self.state_values[self.env.observation_space.n - 1] = 0\n",
    "        self.q_values[self.env.observation_space.n - 1] = np.zeros((self.env.action_space.n))\n",
    "        self.policy = np.random.randint(self.env.action_space.n, size=self.env.observation_space.n) # initial policy\n",
    "        self.policy_stable = False\n",
    "        self.step = 0 ;\n",
    "    def policy_evaluation(self):\n",
    "        self.delta = np.inf\n",
    "\n",
    "        while(self.delta >= self.theta):\n",
    "\n",
    "            self.delta = 0\n",
    "            self.step += 1\n",
    "            for state in range(self.env.observation_space.n):\n",
    "\n",
    "                v = self.state_values[state]\n",
    "\n",
    "                new_state_value = 0\n",
    "                for probability, next_state, reward, done in self.env.P[state][self.policy[state]]:\n",
    "                    ### START CODE HERE ###\n",
    "                    new_state_value += probability * (reward + self.discount_factor *self.state_values[next_state] )\n",
    "                    ### END CODE HERE ###\n",
    "                self.state_values[state] = new_state_value\n",
    "\n",
    "                self.delta = np.max([self.delta, abs(v - self.state_values[state])])\n",
    "\n",
    "    def policy_improvement(self):\n",
    "        self.policy_stable = True\n",
    "\n",
    "        for state in range(self.env.observation_space.n):\n",
    "            old_policy = self.policy[state]\n",
    "\n",
    "            for action in range(self.env.action_space.n):\n",
    "\n",
    "                action_value = 0\n",
    "                for probability, next_state, reward, done in self.env.P[state][action]:\n",
    "                    ### START CODE HERE ###\n",
    "                    action_value += probability * (reward + self.discount_factor *self.state_values[next_state] )\n",
    "                    ### END CODE HERE ###\n",
    "                self.q_values[state, action] = action_value\n",
    "\n",
    "            self.policy[state] = np.argmax(self.q_values[state,:])\n",
    "\n",
    "            if old_policy != self.policy[state]:\n",
    "                self.policy_stable = False\n",
    "\n",
    "    def policy_estimation(self):\n",
    "        self.policy_stable = False\n",
    "\n",
    "        while not self.policy_stable:\n",
    "            self.policy_evaluation()\n",
    "            self.policy_improvement()\n",
    "\n",
    "    def take_action(self, action):\n",
    "        next_state, reward, done, y  , x = self.env.step(action)\n",
    "        return (next_state, reward, done)\n",
    "\n",
    "    def get_optimal_policy(self, state):\n",
    "        return self.policy[state]\n",
    "\n",
    "    def get_state_values(self):\n",
    "        return self.state_values\n",
    "\n",
    "    def get_q_values(self):\n",
    "        return self.q_values\n",
    "\n",
    "    def reset(self):\n",
    "        initial_state= self.env.reset()\n",
    "        return initial_state\n",
    "    def get_step(self):\n",
    "        return self.step"
   ]
  },
  {
   "cell_type": "markdown",
   "metadata": {
    "id": "u4G-kVjmLYj4"
   },
   "source": [
    "<a name='1-3'></a>\n",
    "### Question 5:"
   ]
  },
  {
   "cell_type": "markdown",
   "metadata": {
    "id": "PB651-ZY4vjE"
   },
   "source": [
    "<a name='1-3-1'></a>\n",
    "#### Value Iteration:"
   ]
  },
  {
   "cell_type": "code",
   "execution_count": 41,
   "metadata": {
    "id": "RGYLOfYAuKjY"
   },
   "outputs": [
    {
     "name": "stdout",
     "output_type": "stream",
     "text": [
      "Optimal Policy (Value Iteration):\n",
      "╒═══╤═══╤═══╤═══╕\n",
      "│ ↓ │ → │ ↓ │ ← │\n",
      "├───┼───┼───┼───┤\n",
      "│ ↓ │ ← │ ↓ │ ← │\n",
      "├───┼───┼───┼───┤\n",
      "│ → │ ↓ │ ↓ │ ← │\n",
      "├───┼───┼───┼───┤\n",
      "│ ← │ → │ → │ ← │\n",
      "╘═══╧═══╧═══╧═══╛\n",
      "State value:\n",
      "╒════════╤════════╤═══════╤════════╕\n",
      "│ 0.5905 │ 0.6561 │ 0.729 │ 0.6561 │\n",
      "├────────┼────────┼───────┼────────┤\n",
      "│ 0.6561 │   0    │ 0.81  │   0    │\n",
      "├────────┼────────┼───────┼────────┤\n",
      "│ 0.729  │  0.81  │  0.9  │   0    │\n",
      "├────────┼────────┼───────┼────────┤\n",
      "│   0    │  0.9   │   1   │   0    │\n",
      "╘════════╧════════╧═══════╧════════╛\n",
      "Q values:\n",
      "╒════════════════╤════════════════╤════════════════╤════════════════╕\n",
      "│ .   0.5314     │ .   0.5905     │ .   0.6561     │ .   0.5905     │\n",
      "│ 0.5314  0.5905 │ 0.5314  0.6561 │ 0.5905  0.5905 │ 0.6561  0.5905 │\n",
      "│     0.5905     │     0.0000     │     0.7290     │     0.0000     │\n",
      "├────────────────┼────────────────┼────────────────┼────────────────┤\n",
      "│ .   0.5314     │ .   0.0000     │ .   0.6561     │ .   0.0000     │\n",
      "│ 0.5905  0.0000 │ 0.0000  0.0000 │ 0.0000  0.0000 │ 0.0000  0.0000 │\n",
      "│     0.6561     │     0.0000     │     0.8100     │     0.0000     │\n",
      "├────────────────┼────────────────┼────────────────┼────────────────┤\n",
      "│ .   0.5905     │ .   0.0000     │ .   0.7290     │ .   0.0000     │\n",
      "│ 0.6561  0.7290 │ 0.6561  0.8100 │ 0.7290  0.0000 │ 0.0000  0.0000 │\n",
      "│     0.0000     │     0.8100     │     0.9000     │     0.0000     │\n",
      "├────────────────┼────────────────┼────────────────┼────────────────┤\n",
      "│ .   0.0000     │ .   0.7290     │ .   0.8100     │ .   0.0000     │\n",
      "│ 0.0000  0.0000 │ 0.0000  0.9000 │ 0.8100  1.0000 │ 0.0000  0.0000 │\n",
      "│     0.0000     │     0.8100     │     0.9000     │     0.0000     │\n",
      "╘════════════════╧════════════════╧════════════════╧════════════════╛\n",
      "\n",
      "Simulating the agent following the optimal policy...\n"
     ]
    }
   ],
   "source": [
    "import matplotlib.pyplot as plt\n",
    "from tabulate import tabulate\n",
    "# Value Iteration\n",
    "NUM_REPEAT = 5\n",
    "step_to_converge_vi=np.zeros(NUM_REPEAT)\n",
    "time_to_converge_vi=np.zeros(NUM_REPEAT)\n",
    "for i in range(NUM_REPEAT):\n",
    "    value_iteration = ValueIteration(env, discount_factor=0.9)\n",
    "    start=time.time()\n",
    "    value_iteration.value_estimation()\n",
    "    end=time.time()\n",
    "    time_to_converge_vi[i]=round(end-start,4)\n",
    "    step_to_converge_vi[i]=value_iteration.get_step()\n",
    "\n",
    "\n",
    "\n",
    "print(\"Optimal Policy (Value Iteration):\")\n",
    "optimal_policy_vi = np.array([value_iteration.get_optimal_policy(state) for state in range(env.observation_space.n)])\n",
    "arrow_symbols = {0: '←', 1: '↓', 2: '→'}\n",
    "arrow_array = np.vectorize(arrow_symbols.get)(optimal_policy_vi.reshape(4,4))\n",
    "table = tabulate(arrow_array, tablefmt='fancy_grid', showindex=False, numalign='center')\n",
    "print(table)\n",
    "\n",
    "print(\"State value:\")\n",
    "state_values = value_iteration.get_state_values()\n",
    "state_values = np.around(state_values, 4)\n",
    "state_values_table = state_values.reshape(4,4).tolist()\n",
    "value_table = tabulate(state_values_table, tablefmt='fancy_grid', showindex=False, numalign='center')\n",
    "print(value_table)\n",
    "\n",
    "print(\"Q values:\")\n",
    "Q_values = value_iteration.get_q_values()\n",
    "Q_values = np.around(Q_values, 4)\n",
    "reshaped_values = np.reshape(Q_values, (4, 4, 4))\n",
    "reshaped_values = np.char.mod('%0.4f', reshaped_values).tolist()\n",
    "# Generate the table with the first value on the left, second at the bottom, third on the right, and fourth on the top\n",
    "table = []\n",
    "for row in reshaped_values:\n",
    "    temp_row = []\n",
    "    for cell in row:\n",
    "        top_value = cell[3]\n",
    "        bottom_value = cell[2]\n",
    "        left_value = cell[0]\n",
    "        right_value = cell[1]\n",
    "        formatted_cell = f'.   {top_value:^7}\\n{left_value:<5}  {bottom_value:>5}\\n    {right_value:^7}'\n",
    "        temp_row.append(formatted_cell)\n",
    "    table.append(temp_row)\n",
    "table_str = tabulate(table, tablefmt='fancy_grid')\n",
    "print(table_str)\n",
    "\n",
    "env.reset()\n",
    "\n",
    "# Simulate the agent following the optimal policy\n",
    "print(\"\\nSimulating the agent following the optimal policy...\")\n",
    "done = False\n",
    "state = env.s\n",
    "while not done:\n",
    "    action = optimal_policy_vi[state]\n",
    "    state, reward, done, info = env.step(action)\n",
    "    env.render()\n",
    "\n",
    "env.reset()\n",
    "env.close()\n"
   ]
  },
  {
   "cell_type": "markdown",
   "metadata": {
    "id": "ipZlzoXH40Mn"
   },
   "source": [
    "<a name='1-3-2'></a>\n",
    "#### Policy Iteration:"
   ]
  },
  {
   "cell_type": "code",
   "execution_count": 42,
   "metadata": {
    "id": "7Vxf_xKc44QT"
   },
   "outputs": [
    {
     "name": "stdout",
     "output_type": "stream",
     "text": [
      "Optimal Policy (Policy Iteration):\n",
      "╒═══╤═══╤═══╤═══╕\n",
      "│ ↓ │ → │ ↓ │ ← │\n",
      "├───┼───┼───┼───┤\n",
      "│ ↓ │ ← │ ↓ │ ← │\n",
      "├───┼───┼───┼───┤\n",
      "│ → │ ↓ │ ↓ │ ← │\n",
      "├───┼───┼───┼───┤\n",
      "│ ← │ → │ → │ ← │\n",
      "╘═══╧═══╧═══╧═══╛\n",
      "State value:\n",
      "╒════════╤════════╤═══════╤════════╕\n",
      "│ 0.5905 │ 0.6561 │ 0.729 │ 0.6561 │\n",
      "├────────┼────────┼───────┼────────┤\n",
      "│ 0.6561 │   0    │ 0.81  │   0    │\n",
      "├────────┼────────┼───────┼────────┤\n",
      "│ 0.729  │  0.81  │  0.9  │   0    │\n",
      "├────────┼────────┼───────┼────────┤\n",
      "│   0    │  0.9   │   1   │   0    │\n",
      "╘════════╧════════╧═══════╧════════╛\n",
      "Q values:\n",
      "╒════════════════╤════════════════╤════════════════╤════════════════╕\n",
      "│ .   0.5314     │ .   0.5905     │ .   0.6561     │ .   0.5905     │\n",
      "│ 0.5314  0.5905 │ 0.5314  0.6561 │ 0.5905  0.5905 │ 0.6561  0.5905 │\n",
      "│     0.5905     │     0.0000     │     0.7290     │     0.0000     │\n",
      "├────────────────┼────────────────┼────────────────┼────────────────┤\n",
      "│ .   0.5314     │ .   0.0000     │ .   0.6561     │ .   0.0000     │\n",
      "│ 0.5905  0.0000 │ 0.0000  0.0000 │ 0.0000  0.0000 │ 0.0000  0.0000 │\n",
      "│     0.6561     │     0.0000     │     0.8100     │     0.0000     │\n",
      "├────────────────┼────────────────┼────────────────┼────────────────┤\n",
      "│ .   0.5905     │ .   0.0000     │ .   0.7290     │ .   0.0000     │\n",
      "│ 0.6561  0.7290 │ 0.6561  0.8100 │ 0.7290  0.0000 │ 0.0000  0.0000 │\n",
      "│     0.0000     │     0.8100     │     0.9000     │     0.0000     │\n",
      "├────────────────┼────────────────┼────────────────┼────────────────┤\n",
      "│ .   0.0000     │ .   0.7290     │ .   0.8100     │ .   0.0000     │\n",
      "│ 0.0000  0.0000 │ 0.0000  0.9000 │ 0.8100  1.0000 │ 0.0000  0.0000 │\n",
      "│     0.0000     │     0.8100     │     0.9000     │     0.0000     │\n",
      "╘════════════════╧════════════════╧════════════════╧════════════════╛\n",
      "\n",
      "Simulating the agent following the optimal policy...\n"
     ]
    }
   ],
   "source": [
    "env = gym.make('FrozenLake-v1', desc=None, map_name=\"4x4\", is_slippery=False , render_mode = \"human\" )\n",
    "env.reset()\n",
    "env.render()\n",
    "NUM_REPEAT = 5\n",
    "step_to_converge_pi=np.zeros(NUM_REPEAT)\n",
    "time_to_converge_pi=np.zeros(NUM_REPEAT)\n",
    "for i in range(NUM_REPEAT):\n",
    "    policy_iteration = PolicyIteration(env, discount_factor=0.9)\n",
    "    start=time.time()\n",
    "    policy_iteration.policy_estimation()\n",
    "    end=time.time()\n",
    "    time_to_converge_pi[i]=round(end-start,4)\n",
    "    step_to_converge_pi[i]=policy_iteration.get_step()\n",
    "\n",
    "\n",
    "\n",
    "print(\"Optimal Policy (Policy Iteration):\")\n",
    "optimal_policy_pi = np.array([policy_iteration.get_optimal_policy(state) for state in range(env.observation_space.n)])\n",
    "arrow_symbols = {0: '←', 1: '↓', 2: '→'}\n",
    "arrow_array_pi = np.vectorize(arrow_symbols.get)(optimal_policy_pi.reshape(4,4))\n",
    "table = tabulate(arrow_array_pi, tablefmt='fancy_grid', showindex=False, numalign='center')\n",
    "print(table)\n",
    "\n",
    "print(\"State value:\")\n",
    "state_values = policy_iteration.get_state_values()\n",
    "state_values = np.around(state_values, 4)\n",
    "state_values_table = state_values.reshape(4,4).tolist()\n",
    "value_table = tabulate(state_values_table, tablefmt='fancy_grid', showindex=False, numalign='center')\n",
    "print(value_table)\n",
    "\n",
    "print(\"Q values:\")\n",
    "Q_values = policy_iteration.get_q_values()\n",
    "Q_values = np.around(Q_values, 4)\n",
    "reshaped_values = np.reshape(Q_values, (4, 4, 4))\n",
    "reshaped_values = np.char.mod('%0.4f', reshaped_values).tolist()\n",
    "# Generate the table with the first value on the left, second at the bottom, third on the right, and fourth on the top\n",
    "table = []\n",
    "for row in reshaped_values:\n",
    "    temp_row = []\n",
    "    for cell in row:\n",
    "        top_value = cell[3]\n",
    "        bottom_value = cell[2]\n",
    "        left_value = cell[0]\n",
    "        right_value = cell[1]\n",
    "        formatted_cell = f'.   {top_value:^7}\\n{left_value:<5}  {bottom_value:>5}\\n    {right_value:^7}'\n",
    "        temp_row.append(formatted_cell)\n",
    "    table.append(temp_row)\n",
    "table_str = tabulate(table, tablefmt='fancy_grid')\n",
    "print(table_str)\n",
    "\n",
    "env.reset()\n",
    "\n",
    "# Simulate the agent following the optimal policy\n",
    "print(\"\\nSimulating the agent following the optimal policy...\")\n",
    "done = False\n",
    "state = env.s\n",
    "while not done:\n",
    "    action = optimal_policy_pi[state]\n",
    "    state, reward, done, info = env.step(action)\n",
    "    env.render()\n",
    "\n",
    "env.reset()\n",
    "env.close()\n"
   ]
  },
  {
   "cell_type": "markdown",
   "metadata": {
    "id": "A3fnAFqJLpVI"
   },
   "source": [
    "<a name='1-4'></a>\n",
    "### Question 6:"
   ]
  },
  {
   "cell_type": "markdown",
   "metadata": {
    "id": "7JuoMPH_PAcv"
   },
   "source": [
    "<a name='1-4-1'></a>\n",
    "#### Value Iteration:"
   ]
  },
  {
   "cell_type": "code",
   "execution_count": 43,
   "metadata": {
    "id": "vCBnAicAPAcv"
   },
   "outputs": [
    {
     "name": "stdout",
     "output_type": "stream",
     "text": [
      "num episodes = 5 \n",
      "num steps = [141. 141. 141. 141. 141.]\n",
      "time = [0.0788 0.0698 0.0717 0.0727 0.0759]\n"
     ]
    }
   ],
   "source": [
    "print(f\"num episodes = {NUM_REPEAT} \\nnum steps = {step_to_converge_vi}\")\n",
    "print(f\"time = {time_to_converge_vi}\")"
   ]
  },
  {
   "cell_type": "markdown",
   "metadata": {
    "id": "C1BMk-BfPAcv"
   },
   "source": [
    "<a name='1-4-2'></a>\n",
    "#### Policy Iteration:"
   ]
  },
  {
   "cell_type": "code",
   "execution_count": 44,
   "metadata": {
    "id": "LnUZpvLP446n"
   },
   "outputs": [
    {
     "name": "stdout",
     "output_type": "stream",
     "text": [
      "num episodes = 5 \n",
      "num steps = [152. 154. 152. 152. 154.]\n",
      "time = [0.0389 0.0394 0.0449 0.0429 0.0399]\n"
     ]
    }
   ],
   "source": [
    "print(f\"num episodes = {NUM_REPEAT} \\nnum steps = {step_to_converge_pi}\")\n",
    "print(f\"time = {time_to_converge_pi}\")"
   ]
  },
  {
   "cell_type": "markdown",
   "metadata": {},
   "source": [
    "Both the Value Iteration and Policy Iteration algorithms aim to find the optimal policy for a given Markov Decision Process (MDP). The optimal policy determines the best actions to take at each state to maximize the expected cumulative reward over time.\n",
    "\n",
    "In terms of the resulting state values and optimal policy, both algorithms converge to the same values, indicating that they have reached the optimal policy. Therefore, both algorithms are considered optimal.\n",
    "\n",
    "The main difference between the two algorithms lies in the time it takes to reach convergence and find the optimal policy. In Value Iteration, each iteration involves updating the state values for all possible state-action pairs, which has a time complexity of O(S^2 * A), where S is the number of states and A is the number of actions. On the other hand, Policy Iteration follows a two-step process. It fixes the policy and calculates the state values only for that policy. This results in a time complexity of O(S^2), as it does not involve iterating over all possible actions.\n",
    "\n",
    "Due to this difference, Policy Iteration often outperforms Value Iteration in terms of convergence time and finding the optimal policy. In fact, the number of iterations needed in Policy Iteration is approximately 1/A times the number of iterations required in Value Iteration. This advantage becomes more significant in MDPs with a large number of states.\n",
    "\n",
    "Therefore, although both algorithms eventually lead to the same optimal policy, Policy Iteration tends to be more efficient in terms of reaching convergence and finding the optimal policy."
   ]
  },
  {
   "cell_type": "markdown",
   "metadata": {
    "id": "hLtPLm-ELpG9"
   },
   "source": [
    "<a name='2'></a>\n",
    "## Part 2: Q-Learning Algorithm"
   ]
  },
  {
   "cell_type": "code",
   "execution_count": 45,
   "metadata": {
    "id": "3cW_rkeDMOE8"
   },
   "outputs": [],
   "source": [
    "# hyperparameters\n",
    "REPS = 20\n",
    "EPISODES = 2000\n",
    "EPSILON = 0.1\n",
    "LEARNING_RATE = 0.1\n",
    "DISCOUNT = 0.9\n",
    "STUDENT_NUM = 84\n",
    "ENV_NAME = 'Taxi-v3'"
   ]
  },
  {
   "cell_type": "code",
   "execution_count": 46,
   "metadata": {
    "id": "L1c1w7tRMOR_"
   },
   "outputs": [
    {
     "data": {
      "text/plain": [
       "364"
      ]
     },
     "execution_count": 46,
     "metadata": {},
     "output_type": "execute_result"
    }
   ],
   "source": [
    "# environment\n",
    "env = gym.make('Taxi-v3')\n",
    "#env.seed(seed = STUDENT_NUM)\n",
    "Initial_State = env.reset(seed = STUDENT_NUM)\n",
    "Initial_State"
   ]
  },
  {
   "cell_type": "code",
   "execution_count": 47,
   "metadata": {
    "id": "ou0fWiX_MsZb"
   },
   "outputs": [
    {
     "data": {
      "text/plain": [
       "(3, 3, 1, 0)"
      ]
     },
     "execution_count": 47,
     "metadata": {},
     "output_type": "execute_result"
    }
   ],
   "source": [
    "taxi_row, taxi_col, pass_idx, dest_idx = env.decode(Initial_State)\n",
    "taxi_row, taxi_col, pass_idx, dest_idx"
   ]
  },
  {
   "cell_type": "code",
   "execution_count": 48,
   "metadata": {
    "id": "mQCB-ZIfNwJM"
   },
   "outputs": [
    {
     "data": {
      "text/plain": [
       "500"
      ]
     },
     "execution_count": 48,
     "metadata": {},
     "output_type": "execute_result"
    }
   ],
   "source": [
    "# Total no. of states\n",
    "env.observation_space.n"
   ]
  },
  {
   "cell_type": "code",
   "execution_count": 49,
   "metadata": {
    "id": "lmk_EYbKNwYT"
   },
   "outputs": [
    {
     "data": {
      "text/plain": [
       "6"
      ]
     },
     "execution_count": 49,
     "metadata": {},
     "output_type": "execute_result"
    }
   ],
   "source": [
    "# Total no. of actions\n",
    "env.action_space.n"
   ]
  },
  {
   "cell_type": "markdown",
   "metadata": {},
   "source": [
    "<a name='2-1'></a>\n",
    "### Question 7:"
   ]
  },
  {
   "cell_type": "markdown",
   "metadata": {},
   "source": [
    "Q-Learning is a reinforcement learning algorithm that helps us find the optimal action-selection policy for a given finite Markov Decision Process (MDP), even when we don't have complete knowledge of the environment's dynamics (transition probabilities, T, and rewards, R).\n",
    "\n",
    "In Q-Learning, the agent interacts with the environment, and at each step, it receives a reward for the action taken. The goal is to learn the Q-values, which represent the expected cumulative rewards for choosing a particular action in a specific state.\n",
    "\n",
    "To update the Q-values and ultimately reach the optimal policy, we utilize the Q-Learning update equation. After each action taken, we update the Q-value for the current state-action pair (s, a) as follows:\n",
    "\n",
    "$$[ \\text{sample} = R(s,a,s') + \\gamma \\max_{a'} Q(s',a') ]$$\n",
    "\n",
    "This equation calculates the sample, which is the immediate reward (R) obtained from taking action (a) in state (s) and the estimated maximum future reward $((\\gamma \\max_{a'} Q(s',a')))$ from the resulting next state (s') onwards.\n",
    "\n",
    "The Q-value for the state-action pair (s, a) is then updated using the learning rate $((\\alpha))$:\n",
    "\n",
    "$$[ Q(s,a) = (1-\\alpha)Q(s,a) + \\alpha [\\text{sample}] ]$$\n",
    "\n",
    "This equation employs a weighted average of the current Q-value with the new sample information to update the Q-value. The learning rate $((\\alpha))$ determines the extent to which the new sample influences the update. A lower learning rate emphasizes the importance of prior knowledge, while a higher learning rate gives more weight to the new information.\n",
    "\n",
    "By repeatedly taking actions, receiving rewards, and updating the Q-values using the Q-Learning update equation, the algorithm gradually improves its estimation of the optimal policy and converges towards it over time."
   ]
  },
  {
   "cell_type": "markdown",
   "metadata": {
    "id": "oZJAP4nMLpiZ"
   },
   "source": [
    "<a name='2-2'></a>\n",
    "### Question 8:"
   ]
  },
  {
   "cell_type": "code",
   "execution_count": 58,
   "metadata": {},
   "outputs": [],
   "source": [
    "class QLearningAgent():\n",
    "    def __init__(self, env, epsilon, learning_rate, discount_factor, seed):\n",
    "        self.env = env\n",
    "        self.epsilon = epsilon\n",
    "        self.olr = learning_rate\n",
    "        self.discount_factor = discount_factor\n",
    "        self.q_table = np.zeros((env.observation_space.n, env.action_space.n))\n",
    "        self.seed = seed\n",
    "\n",
    "    def choose_action(self, state):\n",
    "        # With probability epsilon, choose a random action\n",
    "        if np.random.rand() < self.epsilon:\n",
    "            action = np.random.choice(self.env.action_space.n)\n",
    "        # Otherwise, choose the action with the highest Q-value\n",
    "        else:\n",
    "            action = np.argmax(self.q_table[state])\n",
    "        return action\n",
    "\n",
    "    def update_q_table(self, state, action, nextState, reward):\n",
    "        # Calculate the new Q-value using the Q-learning formula\n",
    "        current_q = self.q_table[state][action]\n",
    "        max_next_q = np.max(self.q_table[nextState])\n",
    "        new_q = (1 - self.olr) * current_q + self.olr * (reward + self.discount_factor * max_next_q)\n",
    "        self.q_table[state][action] = new_q\n",
    "\n",
    "    def decay_epsilon(self, episode):\n",
    "        # Decrease epsilon over episodes\n",
    "        #self.epsilon = 1 / (episode + 1)\n",
    "        self.epsilon = self.epsilon - (self.epsilon / (episode+1))\n",
    "        ## Decay epsilon over time\n",
    "#       self.epsilon = self.epsilon - self.epsilon / 100\n",
    "#       if self.epsilon < 0.01:\n",
    "#           self.epsilon = 0.01\n",
    "    def decrease_learning_rate(self, episode):\n",
    "        # Decrease learning rate over episodes\n",
    "        #self.olr = self.olr / (1 + self.olr * episode)\n",
    "        #self.olr = self.olr / (episode + 1)\n",
    "#         # Decrease the learning rate over time\n",
    "        self.olr = self.olr - self.olr / 500\n",
    "        if self.olr < 0.001:\n",
    "            self.olr = 0.001\n",
    "    def take_action(self, action):\n",
    "        next_state, reward, done, _ = self.env.step(action)\n",
    "        return next_state, reward, done\n",
    "\n",
    "    def get_optimal_policy(self, state):\n",
    "        return np.argmax(self.q_table[state])\n",
    "\n",
    "    def get_q_values(self):\n",
    "        return self.q_table\n",
    "\n",
    "    def reset(self):\n",
    "        # Reset the environment\n",
    "        return self.env.reset(seed=self.seed)"
   ]
  },
  {
   "cell_type": "markdown",
   "metadata": {
    "id": "c5HFAMk-Lpvs"
   },
   "source": [
    "<a name='2-2'></a>\n",
    "### Question 9:"
   ]
  },
  {
   "cell_type": "code",
   "execution_count": 59,
   "metadata": {},
   "outputs": [],
   "source": [
    "def run_q_learning(env, episodes,epsilon , discount_factor , learning_rate, decay_lr=False):\n",
    "    agent = QLearningAgent(env, epsilon=epsilon, learning_rate=learning_rate, discount_factor=discount_factor, seed=STUDENT_NUM)\n",
    "    rewards = []\n",
    "    steps = []\n",
    "    for episode in range(episodes):\n",
    "        initial_state = agent.reset()\n",
    "        total_reward = 0\n",
    "        total_step = 0\n",
    "        for step in range(env.spec.max_episode_steps):\n",
    "            action = agent.choose_action(initial_state)\n",
    "            next_state, reward, done = agent.take_action(action)\n",
    "            agent.update_q_table(initial_state, action, next_state, reward)\n",
    "            total_reward += reward\n",
    "            total_step += 1\n",
    "            if done:\n",
    "                break\n",
    "\n",
    "            initial_state = next_state\n",
    "\n",
    "        rewards.append(total_reward)\n",
    "        steps.append(total_step)\n",
    "        agent.decay_epsilon(episode)\n",
    "\n",
    "        if decay_lr:\n",
    "            agent.decrease_learning_rate(episode)\n",
    "\n",
    "    optimal_policy_pi = np.array([agent.get_optimal_policy(state) for state in range(env.observation_space.n)])\n",
    "    return rewards , steps , optimal_policy_pi\n",
    "\n",
    "\n",
    "\n"
   ]
  },
  {
   "cell_type": "code",
   "execution_count": 60,
   "metadata": {},
   "outputs": [],
   "source": [
    "def make_mean_list(data):\n",
    "    transposed_data = list(map(list, zip(*data)))\n",
    "    means = [sum(values) / len(values) for values in transposed_data]\n",
    "    return means"
   ]
  },
  {
   "cell_type": "code",
   "execution_count": 61,
   "metadata": {},
   "outputs": [],
   "source": [
    "env = gym.make(ENV_NAME )\n",
    "env.reset(seed=STUDENT_NUM)\n",
    "\n",
    "rewards_const = []\n",
    "steps_const = []\n",
    "for rep in range(REPS):\n",
    "    rewards_constant_lr , steps_constant_lr , policy_constant_lr = run_q_learning(env, EPISODES, EPSILON , DISCOUNT,  learning_rate = LEARNING_RATE , decay_lr=False)\n",
    "    rewards_const.append(list(rewards_constant_lr))\n",
    "    steps_const.append(list(steps_constant_lr))\n",
    "rewards_const_mean = make_mean_list(rewards_const)\n",
    "steps_const_mean = make_mean_list(steps_const)\n",
    "rewards_dec = []\n",
    "steps_dec = []\n",
    "env.reset()\n",
    "for rep in range(REPS):\n",
    "    rewards_decreasing_lr,steps_decreasing_lr , policy_decreasing_lr = run_q_learning(env, EPISODES, EPSILON , DISCOUNT,  learning_rate= LEARNING_RATE, decay_lr=True)\n",
    "    rewards_dec.append(list(rewards_decreasing_lr))\n",
    "    steps_dec.append(list(steps_decreasing_lr))\n",
    "rewards_dec_mean = make_mean_list(rewards_dec)\n",
    "steps_dec_mean = make_mean_list(steps_dec)\n"
   ]
  },
  {
   "cell_type": "code",
   "execution_count": 62,
   "metadata": {},
   "outputs": [
    {
     "data": {
      "image/png": "[encoded data removed]",
      "text/plain": [
       "<Figure size 1200x600 with 1 Axes>"
      ]
     },
     "metadata": {},
     "output_type": "display_data"
    }
   ],
   "source": [
    "# Plot the convergence graphs\n",
    "episodes = range(EPISODES)\n",
    "\n",
    "plt.figure(figsize=(12, 6))\n",
    "plt.plot(episodes, rewards_const_mean, label='Constant Learning Rate (0.1)')\n",
    "plt.plot(episodes, rewards_dec_mean, label='Decreasing Learning Rate')\n",
    "plt.xlabel('Episode')\n",
    "plt.ylabel('Reward')\n",
    "plt.title('Q-Learning convergence values')\n",
    "plt.legend()\n",
    "plt.grid(True)\n",
    "plt.show()\n",
    "\n"
   ]
  },
  {
   "cell_type": "code",
   "execution_count": 63,
   "metadata": {},
   "outputs": [
    {
     "data": {
      "image/png": "[encoded data removed]",
      "text/plain": [
       "<Figure size 1200x600 with 1 Axes>"
      ]
     },
     "metadata": {},
     "output_type": "display_data"
    }
   ],
   "source": [
    "# Plot the convergence graphs\n",
    "episodes = range(EPISODES)\n",
    "\n",
    "plt.figure(figsize=(12, 6))\n",
    "plt.plot(episodes, steps_const_mean, label='Constant Learning Rate (0.1)')\n",
    "plt.plot(episodes, steps_dec_mean, label='Decreasing Learning Rate')\n",
    "plt.xlabel('Episode')\n",
    "plt.ylabel('Reward')\n",
    "plt.title('Q-Learning num of steps')\n",
    "plt.legend()\n",
    "plt.grid(True)\n",
    "plt.show()\n",
    "\n"
   ]
  },
  {
   "cell_type": "markdown",
   "metadata": {},
   "source": [
    "The Q-learning algorithm typically converges slower when the learning rate decreases during training. However, decreasing the learning rate can help ensure convergence in some scenarios. In our problem, although we reach convergence regardless of the learning rate, there might not be a significant difference between the two algorithms.\n",
    "\n",
    "To decrease the epsilon value (exploration rate), we can use some rules for example:\n",
    "\n",
    "1.$$[ \\epsilon = \\text{initial }{\\epsilon} \\times \\left(1 - \\frac{{\\epsilon}}{{\\text{{EPISODES}}}}\\right) ]$$\n",
    "\n",
    "2.\n",
    "$$[ \\epsilon = \\epsilon - \\frac{\\epsilon}{100} ]$$\n",
    "\n",
    "3.\n",
    "$$[ \\epsilon = \\frac{1}{{\\text{{episode}} + 1}} ]$$\n",
    "\n",
    "There are similar methods for reducing the learning rate.\n",
    "\n",
    "\n",
    "After trying different methods, it was determined that the first method is the best among the available modes because\n",
    "هn this formula, epsilon $((\\epsilon))$ ranges from 0.1 to 0. The larger the episode becomes, the smaller the epsilon value becomes, gradually approaching zero. This approach helps our agent, at higher episodes, choose actions more often based on the optimal policy instead of choosing actions randomly.\n",
    "\n",
    "By reducing epsilon over time, the agent becomes more focused on exploiting the already learned knowledge and selecting optimal actions to maximize long-term rewards."
   ]
  },
  {
   "cell_type": "markdown",
   "metadata": {
    "id": "BVcMKEGDQWdU"
   },
   "source": [
    "<a name='2-3'></a>\n",
    "### Question 10:"
   ]
  },
  {
   "cell_type": "code",
   "execution_count": 65,
   "metadata": {
    "id": "FlHPV0kqQWdU"
   },
   "outputs": [
    {
     "name": "stdout",
     "output_type": "stream",
     "text": [
      "\n",
      "Simulating the agent following the optimal policy...\n"
     ]
    }
   ],
   "source": [
    "env = gym.make(ENV_NAME , render_mode='human')\n",
    "env.reset(seed=STUDENT_NUM)\n",
    "# Simulate the agent following the optimal policy\n",
    "print(\"\\nSimulating the agent following the optimal policy...\")\n",
    "done = False\n",
    "state = env.s\n",
    "while not done:\n",
    "    action = policy_decreasing_lr[state]\n",
    "    state, reward, done, info = env.step(action)\n",
    "    env.render()\n",
    "\n",
    "env.reset()\n",
    "env.close()"
   ]
  },
  {
   "cell_type": "markdown",
   "metadata": {},
   "source": [
    "# Resources used\n",
    "https://www.gymlibrary.dev/environments/toy_text/frozen_lake/\n",
    "\n",
    "https://gymnasium.farama.org/environments/toy_text/taxi/\n",
    "\n",
    "https://www.andrew.cmu.edu/course/10-703/textbook/BartoSutton.pdf\n",
    "\n",
    "https://github.com/BaituBaitu/pylearn"
   ]
  },
  {
   "cell_type": "code",
   "execution_count": null,
   "metadata": {},
   "outputs": [],
   "source": []
  }
 ],
 "metadata": {
  "colab": {
   "provenance": [],
   "toc_visible": true
  },
  "kernelspec": {
   "display_name": "Python 3 (ipykernel)",
   "language": "python",
   "name": "python3"
  },
  "language_info": {
   "codemirror_mode": {
    "name": "ipython",
    "version": 3
   },
   "file_extension": ".py",
   "mimetype": "text/x-python",
   "name": "python",
   "nbconvert_exporter": "python",
   "pygments_lexer": "ipython3",
   "version": "3.11.4"
  }
 },
 "nbformat": 4,
 "nbformat_minor": 1
}
